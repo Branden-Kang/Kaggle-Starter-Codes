{
 "cells": [
  {
   "cell_type": "markdown",
   "metadata": {},
   "source": [
    "# Bokeh"
   ]
  },
  {
   "cell_type": "markdown",
   "metadata": {},
   "source": [
    "Bokeh is an interactive Python library for visualizations  that uses web browsers for its presentation. Bokeh supports a wide variety of visualization tasks from basic exploration through to building advanced data applications. Its goal is to provide elegant, concise construction of novel graphics in the style of D3.js, and to extend this capability with high-performance interactivity over very large or streaming datasets. Bokeh can help anyone who would like to quickly and easily create interactive plots, dashboards, and data applications.\n",
    "\n",
    " - To get started using Bokeh , see the [User Guide](http://bokeh.pydata.org/en/latest/docs/user_guide.html#userguide).\n",
    " - Check out the [Gallery] to see examples (http://bokeh.pydata.org/en/latest/docs/gallery.html#gallery).\n",
    " - A complete API reference of Bokeh is at [Reference Guide](http://bokeh.pydata.org/en/latest/docs/reference.html#refguide).\n",
    "\n"
   ]
  },
  {
   "cell_type": "markdown",
   "metadata": {},
   "source": [
    "## Importing data"
   ]
  },
  {
   "cell_type": "code",
   "execution_count": 166,
   "metadata": {},
   "outputs": [
    {
     "data": {
      "text/html": [
       "<div>\n",
       "<style scoped>\n",
       "    .dataframe tbody tr th:only-of-type {\n",
       "        vertical-align: middle;\n",
       "    }\n",
       "\n",
       "    .dataframe tbody tr th {\n",
       "        vertical-align: top;\n",
       "    }\n",
       "\n",
       "    .dataframe thead th {\n",
       "        text-align: right;\n",
       "    }\n",
       "</style>\n",
       "<table border=\"1\" class=\"dataframe\">\n",
       "  <thead>\n",
       "    <tr style=\"text-align: right;\">\n",
       "      <th></th>\n",
       "      <th>country</th>\n",
       "      <th>continent</th>\n",
       "      <th>lifeExp</th>\n",
       "      <th>pop</th>\n",
       "      <th>gdpPercap</th>\n",
       "    </tr>\n",
       "    <tr>\n",
       "      <th>year</th>\n",
       "      <th></th>\n",
       "      <th></th>\n",
       "      <th></th>\n",
       "      <th></th>\n",
       "      <th></th>\n",
       "    </tr>\n",
       "  </thead>\n",
       "  <tbody>\n",
       "    <tr>\n",
       "      <td>1952</td>\n",
       "      <td>Afghanistan</td>\n",
       "      <td>Asia</td>\n",
       "      <td>28.801</td>\n",
       "      <td>8425333</td>\n",
       "      <td>779.445314</td>\n",
       "    </tr>\n",
       "    <tr>\n",
       "      <td>1957</td>\n",
       "      <td>Afghanistan</td>\n",
       "      <td>Asia</td>\n",
       "      <td>30.332</td>\n",
       "      <td>9240934</td>\n",
       "      <td>820.853030</td>\n",
       "    </tr>\n",
       "    <tr>\n",
       "      <td>1962</td>\n",
       "      <td>Afghanistan</td>\n",
       "      <td>Asia</td>\n",
       "      <td>31.997</td>\n",
       "      <td>10267083</td>\n",
       "      <td>853.100710</td>\n",
       "    </tr>\n",
       "    <tr>\n",
       "      <td>1967</td>\n",
       "      <td>Afghanistan</td>\n",
       "      <td>Asia</td>\n",
       "      <td>34.020</td>\n",
       "      <td>11537966</td>\n",
       "      <td>836.197138</td>\n",
       "    </tr>\n",
       "    <tr>\n",
       "      <td>1972</td>\n",
       "      <td>Afghanistan</td>\n",
       "      <td>Asia</td>\n",
       "      <td>36.088</td>\n",
       "      <td>13079460</td>\n",
       "      <td>739.981106</td>\n",
       "    </tr>\n",
       "  </tbody>\n",
       "</table>\n",
       "</div>"
      ],
      "text/plain": [
       "          country continent  lifeExp       pop   gdpPercap\n",
       "year                                                      \n",
       "1952  Afghanistan      Asia   28.801   8425333  779.445314\n",
       "1957  Afghanistan      Asia   30.332   9240934  820.853030\n",
       "1962  Afghanistan      Asia   31.997  10267083  853.100710\n",
       "1967  Afghanistan      Asia   34.020  11537966  836.197138\n",
       "1972  Afghanistan      Asia   36.088  13079460  739.981106"
      ]
     },
     "execution_count": 166,
     "metadata": {},
     "output_type": "execute_result"
    }
   ],
   "source": [
    "dataset = \n",
    "\n",
    "\n",
    "data = pd.read_csv('gapminder.tsv', delimiter='\\t',thousands=',',index_col='year')\n",
    "data.head()"
   ]
  },
  {
   "cell_type": "markdown",
   "metadata": {},
   "source": [
    "let's rename the pop column to population since, pop is a keyword in Python"
   ]
  },
  {
   "cell_type": "code",
   "execution_count": 167,
   "metadata": {},
   "outputs": [
    {
     "data": {
      "text/html": [
       "<div>\n",
       "<style scoped>\n",
       "    .dataframe tbody tr th:only-of-type {\n",
       "        vertical-align: middle;\n",
       "    }\n",
       "\n",
       "    .dataframe tbody tr th {\n",
       "        vertical-align: top;\n",
       "    }\n",
       "\n",
       "    .dataframe thead th {\n",
       "        text-align: right;\n",
       "    }\n",
       "</style>\n",
       "<table border=\"1\" class=\"dataframe\">\n",
       "  <thead>\n",
       "    <tr style=\"text-align: right;\">\n",
       "      <th></th>\n",
       "      <th>country</th>\n",
       "      <th>continent</th>\n",
       "      <th>lifeExp</th>\n",
       "      <th>population</th>\n",
       "      <th>gdpPercap</th>\n",
       "    </tr>\n",
       "    <tr>\n",
       "      <th>year</th>\n",
       "      <th></th>\n",
       "      <th></th>\n",
       "      <th></th>\n",
       "      <th></th>\n",
       "      <th></th>\n",
       "    </tr>\n",
       "  </thead>\n",
       "  <tbody>\n",
       "    <tr>\n",
       "      <td>1952</td>\n",
       "      <td>Afghanistan</td>\n",
       "      <td>Asia</td>\n",
       "      <td>28.801</td>\n",
       "      <td>8425333</td>\n",
       "      <td>779.445314</td>\n",
       "    </tr>\n",
       "    <tr>\n",
       "      <td>1957</td>\n",
       "      <td>Afghanistan</td>\n",
       "      <td>Asia</td>\n",
       "      <td>30.332</td>\n",
       "      <td>9240934</td>\n",
       "      <td>820.853030</td>\n",
       "    </tr>\n",
       "    <tr>\n",
       "      <td>1962</td>\n",
       "      <td>Afghanistan</td>\n",
       "      <td>Asia</td>\n",
       "      <td>31.997</td>\n",
       "      <td>10267083</td>\n",
       "      <td>853.100710</td>\n",
       "    </tr>\n",
       "    <tr>\n",
       "      <td>1967</td>\n",
       "      <td>Afghanistan</td>\n",
       "      <td>Asia</td>\n",
       "      <td>34.020</td>\n",
       "      <td>11537966</td>\n",
       "      <td>836.197138</td>\n",
       "    </tr>\n",
       "    <tr>\n",
       "      <td>1972</td>\n",
       "      <td>Afghanistan</td>\n",
       "      <td>Asia</td>\n",
       "      <td>36.088</td>\n",
       "      <td>13079460</td>\n",
       "      <td>739.981106</td>\n",
       "    </tr>\n",
       "  </tbody>\n",
       "</table>\n",
       "</div>"
      ],
      "text/plain": [
       "          country continent  lifeExp  population   gdpPercap\n",
       "year                                                        \n",
       "1952  Afghanistan      Asia   28.801     8425333  779.445314\n",
       "1957  Afghanistan      Asia   30.332     9240934  820.853030\n",
       "1962  Afghanistan      Asia   31.997    10267083  853.100710\n",
       "1967  Afghanistan      Asia   34.020    11537966  836.197138\n",
       "1972  Afghanistan      Asia   36.088    13079460  739.981106"
      ]
     },
     "execution_count": 167,
     "metadata": {},
     "output_type": "execute_result"
    }
   ],
   "source": [
    "data = data.rename(columns={'pop':'population'});\n",
    "data.head()"
   ]
  },
  {
   "cell_type": "markdown",
   "metadata": {},
   "source": [
    "Before, we start with using Bokeh on the Gapminder data, lets get an idea about its various features and usage. \n",
    "\n",
    "* We need to begin by setting up an output interface for Bokeh. This is where the visualisations will be rendered. There are a [number of ways](https://docs.bokeh.org/en/latest/docs/user_guide/concepts.html#output-methods) to output the visualisations but let's stick to the basic two:\n",
    "  - **output_file('filename.html')** outputs the visualization to a static HTML file.\n",
    "  - **output_notebook()** renders the visualization in a Jupyter Notebook.\n",
    "  \n",
    "To display Bokeh plots inline in a Jupyter notebook, use the `output_notebook()` function from bokeh.io. When `show()` is called, the plot will be displayed inline in the next notebook output cell. To save your Bokeh plots, you can use the `output_file()` function instead (or in addition).\n",
    "  \n",
    "  "
   ]
  },
  {
   "cell_type": "code",
   "execution_count": 168,
   "metadata": {},
   "outputs": [
    {
     "data": {
      "text/html": [
       "\n",
       "    <div class=\"bk-root\">\n",
       "        <a href=\"https://bokeh.pydata.org\" target=\"_blank\" class=\"bk-logo bk-logo-small bk-logo-notebook\"></a>\n",
       "        <span id=\"34283\">Loading BokehJS ...</span>\n",
       "    </div>"
      ]
     },
     "metadata": {},
     "output_type": "display_data"
    },
    {
     "data": {
      "application/javascript": [
       "\n",
       "(function(root) {\n",
       "  function now() {\n",
       "    return new Date();\n",
       "  }\n",
       "\n",
       "  var force = true;\n",
       "\n",
       "  if (typeof root._bokeh_onload_callbacks === \"undefined\" || force === true) {\n",
       "    root._bokeh_onload_callbacks = [];\n",
       "    root._bokeh_is_loading = undefined;\n",
       "  }\n",
       "\n",
       "  var JS_MIME_TYPE = 'application/javascript';\n",
       "  var HTML_MIME_TYPE = 'text/html';\n",
       "  var EXEC_MIME_TYPE = 'application/vnd.bokehjs_exec.v0+json';\n",
       "  var CLASS_NAME = 'output_bokeh rendered_html';\n",
       "\n",
       "  /**\n",
       "   * Render data to the DOM node\n",
       "   */\n",
       "  function render(props, node) {\n",
       "    var script = document.createElement(\"script\");\n",
       "    node.appendChild(script);\n",
       "  }\n",
       "\n",
       "  /**\n",
       "   * Handle when an output is cleared or removed\n",
       "   */\n",
       "  function handleClearOutput(event, handle) {\n",
       "    var cell = handle.cell;\n",
       "\n",
       "    var id = cell.output_area._bokeh_element_id;\n",
       "    var server_id = cell.output_area._bokeh_server_id;\n",
       "    // Clean up Bokeh references\n",
       "    if (id != null && id in Bokeh.index) {\n",
       "      Bokeh.index[id].model.document.clear();\n",
       "      delete Bokeh.index[id];\n",
       "    }\n",
       "\n",
       "    if (server_id !== undefined) {\n",
       "      // Clean up Bokeh references\n",
       "      var cmd = \"from bokeh.io.state import curstate; print(curstate().uuid_to_server['\" + server_id + \"'].get_sessions()[0].document.roots[0]._id)\";\n",
       "      cell.notebook.kernel.execute(cmd, {\n",
       "        iopub: {\n",
       "          output: function(msg) {\n",
       "            var id = msg.content.text.trim();\n",
       "            if (id in Bokeh.index) {\n",
       "              Bokeh.index[id].model.document.clear();\n",
       "              delete Bokeh.index[id];\n",
       "            }\n",
       "          }\n",
       "        }\n",
       "      });\n",
       "      // Destroy server and session\n",
       "      var cmd = \"import bokeh.io.notebook as ion; ion.destroy_server('\" + server_id + \"')\";\n",
       "      cell.notebook.kernel.execute(cmd);\n",
       "    }\n",
       "  }\n",
       "\n",
       "  /**\n",
       "   * Handle when a new output is added\n",
       "   */\n",
       "  function handleAddOutput(event, handle) {\n",
       "    var output_area = handle.output_area;\n",
       "    var output = handle.output;\n",
       "\n",
       "    // limit handleAddOutput to display_data with EXEC_MIME_TYPE content only\n",
       "    if ((output.output_type != \"display_data\") || (!output.data.hasOwnProperty(EXEC_MIME_TYPE))) {\n",
       "      return\n",
       "    }\n",
       "\n",
       "    var toinsert = output_area.element.find(\".\" + CLASS_NAME.split(' ')[0]);\n",
       "\n",
       "    if (output.metadata[EXEC_MIME_TYPE][\"id\"] !== undefined) {\n",
       "      toinsert[toinsert.length - 1].firstChild.textContent = output.data[JS_MIME_TYPE];\n",
       "      // store reference to embed id on output_area\n",
       "      output_area._bokeh_element_id = output.metadata[EXEC_MIME_TYPE][\"id\"];\n",
       "    }\n",
       "    if (output.metadata[EXEC_MIME_TYPE][\"server_id\"] !== undefined) {\n",
       "      var bk_div = document.createElement(\"div\");\n",
       "      bk_div.innerHTML = output.data[HTML_MIME_TYPE];\n",
       "      var script_attrs = bk_div.children[0].attributes;\n",
       "      for (var i = 0; i < script_attrs.length; i++) {\n",
       "        toinsert[toinsert.length - 1].firstChild.setAttribute(script_attrs[i].name, script_attrs[i].value);\n",
       "      }\n",
       "      // store reference to server id on output_area\n",
       "      output_area._bokeh_server_id = output.metadata[EXEC_MIME_TYPE][\"server_id\"];\n",
       "    }\n",
       "  }\n",
       "\n",
       "  function register_renderer(events, OutputArea) {\n",
       "\n",
       "    function append_mime(data, metadata, element) {\n",
       "      // create a DOM node to render to\n",
       "      var toinsert = this.create_output_subarea(\n",
       "        metadata,\n",
       "        CLASS_NAME,\n",
       "        EXEC_MIME_TYPE\n",
       "      );\n",
       "      this.keyboard_manager.register_events(toinsert);\n",
       "      // Render to node\n",
       "      var props = {data: data, metadata: metadata[EXEC_MIME_TYPE]};\n",
       "      render(props, toinsert[toinsert.length - 1]);\n",
       "      element.append(toinsert);\n",
       "      return toinsert\n",
       "    }\n",
       "\n",
       "    /* Handle when an output is cleared or removed */\n",
       "    events.on('clear_output.CodeCell', handleClearOutput);\n",
       "    events.on('delete.Cell', handleClearOutput);\n",
       "\n",
       "    /* Handle when a new output is added */\n",
       "    events.on('output_added.OutputArea', handleAddOutput);\n",
       "\n",
       "    /**\n",
       "     * Register the mime type and append_mime function with output_area\n",
       "     */\n",
       "    OutputArea.prototype.register_mime_type(EXEC_MIME_TYPE, append_mime, {\n",
       "      /* Is output safe? */\n",
       "      safe: true,\n",
       "      /* Index of renderer in `output_area.display_order` */\n",
       "      index: 0\n",
       "    });\n",
       "  }\n",
       "\n",
       "  // register the mime type if in Jupyter Notebook environment and previously unregistered\n",
       "  if (root.Jupyter !== undefined) {\n",
       "    var events = require('base/js/events');\n",
       "    var OutputArea = require('notebook/js/outputarea').OutputArea;\n",
       "\n",
       "    if (OutputArea.prototype.mime_types().indexOf(EXEC_MIME_TYPE) == -1) {\n",
       "      register_renderer(events, OutputArea);\n",
       "    }\n",
       "  }\n",
       "\n",
       "  \n",
       "  if (typeof (root._bokeh_timeout) === \"undefined\" || force === true) {\n",
       "    root._bokeh_timeout = Date.now() + 5000;\n",
       "    root._bokeh_failed_load = false;\n",
       "  }\n",
       "\n",
       "  var NB_LOAD_WARNING = {'data': {'text/html':\n",
       "     \"<div style='background-color: #fdd'>\\n\"+\n",
       "     \"<p>\\n\"+\n",
       "     \"BokehJS does not appear to have successfully loaded. If loading BokehJS from CDN, this \\n\"+\n",
       "     \"may be due to a slow or bad network connection. Possible fixes:\\n\"+\n",
       "     \"</p>\\n\"+\n",
       "     \"<ul>\\n\"+\n",
       "     \"<li>re-rerun `output_notebook()` to attempt to load from CDN again, or</li>\\n\"+\n",
       "     \"<li>use INLINE resources instead, as so:</li>\\n\"+\n",
       "     \"</ul>\\n\"+\n",
       "     \"<code>\\n\"+\n",
       "     \"from bokeh.resources import INLINE\\n\"+\n",
       "     \"output_notebook(resources=INLINE)\\n\"+\n",
       "     \"</code>\\n\"+\n",
       "     \"</div>\"}};\n",
       "\n",
       "  function display_loaded() {\n",
       "    var el = document.getElementById(\"34283\");\n",
       "    if (el != null) {\n",
       "      el.textContent = \"BokehJS is loading...\";\n",
       "    }\n",
       "    if (root.Bokeh !== undefined) {\n",
       "      if (el != null) {\n",
       "        el.textContent = \"BokehJS \" + root.Bokeh.version + \" successfully loaded.\";\n",
       "      }\n",
       "    } else if (Date.now() < root._bokeh_timeout) {\n",
       "      setTimeout(display_loaded, 100)\n",
       "    }\n",
       "  }\n",
       "\n",
       "\n",
       "  function run_callbacks() {\n",
       "    try {\n",
       "      root._bokeh_onload_callbacks.forEach(function(callback) {\n",
       "        if (callback != null)\n",
       "          callback();\n",
       "      });\n",
       "    } finally {\n",
       "      delete root._bokeh_onload_callbacks\n",
       "    }\n",
       "    console.debug(\"Bokeh: all callbacks have finished\");\n",
       "  }\n",
       "\n",
       "  function load_libs(css_urls, js_urls, callback) {\n",
       "    if (css_urls == null) css_urls = [];\n",
       "    if (js_urls == null) js_urls = [];\n",
       "\n",
       "    root._bokeh_onload_callbacks.push(callback);\n",
       "    if (root._bokeh_is_loading > 0) {\n",
       "      console.debug(\"Bokeh: BokehJS is being loaded, scheduling callback at\", now());\n",
       "      return null;\n",
       "    }\n",
       "    if (js_urls == null || js_urls.length === 0) {\n",
       "      run_callbacks();\n",
       "      return null;\n",
       "    }\n",
       "    console.debug(\"Bokeh: BokehJS not loaded, scheduling load and callback at\", now());\n",
       "    root._bokeh_is_loading = css_urls.length + js_urls.length;\n",
       "\n",
       "    function on_load() {\n",
       "      root._bokeh_is_loading--;\n",
       "      if (root._bokeh_is_loading === 0) {\n",
       "        console.debug(\"Bokeh: all BokehJS libraries/stylesheets loaded\");\n",
       "        run_callbacks()\n",
       "      }\n",
       "    }\n",
       "\n",
       "    function on_error() {\n",
       "      console.error(\"failed to load \" + url);\n",
       "    }\n",
       "\n",
       "    for (var i = 0; i < css_urls.length; i++) {\n",
       "      var url = css_urls[i];\n",
       "      const element = document.createElement(\"link\");\n",
       "      element.onload = on_load;\n",
       "      element.onerror = on_error;\n",
       "      element.rel = \"stylesheet\";\n",
       "      element.type = \"text/css\";\n",
       "      element.href = url;\n",
       "      console.debug(\"Bokeh: injecting link tag for BokehJS stylesheet: \", url);\n",
       "      document.body.appendChild(element);\n",
       "    }\n",
       "\n",
       "    for (var i = 0; i < js_urls.length; i++) {\n",
       "      var url = js_urls[i];\n",
       "      var element = document.createElement('script');\n",
       "      element.onload = on_load;\n",
       "      element.onerror = on_error;\n",
       "      element.async = false;\n",
       "      element.src = url;\n",
       "      console.debug(\"Bokeh: injecting script tag for BokehJS library: \", url);\n",
       "      document.head.appendChild(element);\n",
       "    }\n",
       "  };var element = document.getElementById(\"34283\");\n",
       "  if (element == null) {\n",
       "    console.error(\"Bokeh: ERROR: autoload.js configured with elementid '34283' but no matching script tag was found. \")\n",
       "    return false;\n",
       "  }\n",
       "\n",
       "  function inject_raw_css(css) {\n",
       "    const element = document.createElement(\"style\");\n",
       "    element.appendChild(document.createTextNode(css));\n",
       "    document.body.appendChild(element);\n",
       "  }\n",
       "\n",
       "  var js_urls = [\"https://cdn.pydata.org/bokeh/release/bokeh-1.3.4.min.js\", \"https://cdn.pydata.org/bokeh/release/bokeh-widgets-1.3.4.min.js\", \"https://cdn.pydata.org/bokeh/release/bokeh-tables-1.3.4.min.js\", \"https://cdn.pydata.org/bokeh/release/bokeh-gl-1.3.4.min.js\"];\n",
       "  var css_urls = [];\n",
       "\n",
       "  var inline_js = [\n",
       "    function(Bokeh) {\n",
       "      Bokeh.set_log_level(\"info\");\n",
       "    },\n",
       "    \n",
       "    function(Bokeh) {\n",
       "      \n",
       "    },\n",
       "    function(Bokeh) {} // ensure no trailing comma for IE\n",
       "  ];\n",
       "\n",
       "  function run_inline_js() {\n",
       "    \n",
       "    if ((root.Bokeh !== undefined) || (force === true)) {\n",
       "      for (var i = 0; i < inline_js.length; i++) {\n",
       "        inline_js[i].call(root, root.Bokeh);\n",
       "      }if (force === true) {\n",
       "        display_loaded();\n",
       "      }} else if (Date.now() < root._bokeh_timeout) {\n",
       "      setTimeout(run_inline_js, 100);\n",
       "    } else if (!root._bokeh_failed_load) {\n",
       "      console.log(\"Bokeh: BokehJS failed to load within specified timeout.\");\n",
       "      root._bokeh_failed_load = true;\n",
       "    } else if (force !== true) {\n",
       "      var cell = $(document.getElementById(\"34283\")).parents('.cell').data().cell;\n",
       "      cell.output_area.append_execute_result(NB_LOAD_WARNING)\n",
       "    }\n",
       "\n",
       "  }\n",
       "\n",
       "  if (root._bokeh_is_loading === 0) {\n",
       "    console.debug(\"Bokeh: BokehJS loaded, going straight to plotting\");\n",
       "    run_inline_js();\n",
       "  } else {\n",
       "    load_libs(css_urls, js_urls, function() {\n",
       "      console.debug(\"Bokeh: BokehJS plotting callback run at\", now());\n",
       "      run_inline_js();\n",
       "    });\n",
       "  }\n",
       "}(window));"
      ],
      "application/vnd.bokehjs_load.v0+json": "\n(function(root) {\n  function now() {\n    return new Date();\n  }\n\n  var force = true;\n\n  if (typeof root._bokeh_onload_callbacks === \"undefined\" || force === true) {\n    root._bokeh_onload_callbacks = [];\n    root._bokeh_is_loading = undefined;\n  }\n\n  \n\n  \n  if (typeof (root._bokeh_timeout) === \"undefined\" || force === true) {\n    root._bokeh_timeout = Date.now() + 5000;\n    root._bokeh_failed_load = false;\n  }\n\n  var NB_LOAD_WARNING = {'data': {'text/html':\n     \"<div style='background-color: #fdd'>\\n\"+\n     \"<p>\\n\"+\n     \"BokehJS does not appear to have successfully loaded. If loading BokehJS from CDN, this \\n\"+\n     \"may be due to a slow or bad network connection. Possible fixes:\\n\"+\n     \"</p>\\n\"+\n     \"<ul>\\n\"+\n     \"<li>re-rerun `output_notebook()` to attempt to load from CDN again, or</li>\\n\"+\n     \"<li>use INLINE resources instead, as so:</li>\\n\"+\n     \"</ul>\\n\"+\n     \"<code>\\n\"+\n     \"from bokeh.resources import INLINE\\n\"+\n     \"output_notebook(resources=INLINE)\\n\"+\n     \"</code>\\n\"+\n     \"</div>\"}};\n\n  function display_loaded() {\n    var el = document.getElementById(\"34283\");\n    if (el != null) {\n      el.textContent = \"BokehJS is loading...\";\n    }\n    if (root.Bokeh !== undefined) {\n      if (el != null) {\n        el.textContent = \"BokehJS \" + root.Bokeh.version + \" successfully loaded.\";\n      }\n    } else if (Date.now() < root._bokeh_timeout) {\n      setTimeout(display_loaded, 100)\n    }\n  }\n\n\n  function run_callbacks() {\n    try {\n      root._bokeh_onload_callbacks.forEach(function(callback) {\n        if (callback != null)\n          callback();\n      });\n    } finally {\n      delete root._bokeh_onload_callbacks\n    }\n    console.debug(\"Bokeh: all callbacks have finished\");\n  }\n\n  function load_libs(css_urls, js_urls, callback) {\n    if (css_urls == null) css_urls = [];\n    if (js_urls == null) js_urls = [];\n\n    root._bokeh_onload_callbacks.push(callback);\n    if (root._bokeh_is_loading > 0) {\n      console.debug(\"Bokeh: BokehJS is being loaded, scheduling callback at\", now());\n      return null;\n    }\n    if (js_urls == null || js_urls.length === 0) {\n      run_callbacks();\n      return null;\n    }\n    console.debug(\"Bokeh: BokehJS not loaded, scheduling load and callback at\", now());\n    root._bokeh_is_loading = css_urls.length + js_urls.length;\n\n    function on_load() {\n      root._bokeh_is_loading--;\n      if (root._bokeh_is_loading === 0) {\n        console.debug(\"Bokeh: all BokehJS libraries/stylesheets loaded\");\n        run_callbacks()\n      }\n    }\n\n    function on_error() {\n      console.error(\"failed to load \" + url);\n    }\n\n    for (var i = 0; i < css_urls.length; i++) {\n      var url = css_urls[i];\n      const element = document.createElement(\"link\");\n      element.onload = on_load;\n      element.onerror = on_error;\n      element.rel = \"stylesheet\";\n      element.type = \"text/css\";\n      element.href = url;\n      console.debug(\"Bokeh: injecting link tag for BokehJS stylesheet: \", url);\n      document.body.appendChild(element);\n    }\n\n    for (var i = 0; i < js_urls.length; i++) {\n      var url = js_urls[i];\n      var element = document.createElement('script');\n      element.onload = on_load;\n      element.onerror = on_error;\n      element.async = false;\n      element.src = url;\n      console.debug(\"Bokeh: injecting script tag for BokehJS library: \", url);\n      document.head.appendChild(element);\n    }\n  };var element = document.getElementById(\"34283\");\n  if (element == null) {\n    console.error(\"Bokeh: ERROR: autoload.js configured with elementid '34283' but no matching script tag was found. \")\n    return false;\n  }\n\n  function inject_raw_css(css) {\n    const element = document.createElement(\"style\");\n    element.appendChild(document.createTextNode(css));\n    document.body.appendChild(element);\n  }\n\n  var js_urls = [\"https://cdn.pydata.org/bokeh/release/bokeh-1.3.4.min.js\", \"https://cdn.pydata.org/bokeh/release/bokeh-widgets-1.3.4.min.js\", \"https://cdn.pydata.org/bokeh/release/bokeh-tables-1.3.4.min.js\", \"https://cdn.pydata.org/bokeh/release/bokeh-gl-1.3.4.min.js\"];\n  var css_urls = [];\n\n  var inline_js = [\n    function(Bokeh) {\n      Bokeh.set_log_level(\"info\");\n    },\n    \n    function(Bokeh) {\n      \n    },\n    function(Bokeh) {} // ensure no trailing comma for IE\n  ];\n\n  function run_inline_js() {\n    \n    if ((root.Bokeh !== undefined) || (force === true)) {\n      for (var i = 0; i < inline_js.length; i++) {\n        inline_js[i].call(root, root.Bokeh);\n      }if (force === true) {\n        display_loaded();\n      }} else if (Date.now() < root._bokeh_timeout) {\n      setTimeout(run_inline_js, 100);\n    } else if (!root._bokeh_failed_load) {\n      console.log(\"Bokeh: BokehJS failed to load within specified timeout.\");\n      root._bokeh_failed_load = true;\n    } else if (force !== true) {\n      var cell = $(document.getElementById(\"34283\")).parents('.cell').data().cell;\n      cell.output_area.append_execute_result(NB_LOAD_WARNING)\n    }\n\n  }\n\n  if (root._bokeh_is_loading === 0) {\n    console.debug(\"Bokeh: BokehJS loaded, going straight to plotting\");\n    run_inline_js();\n  } else {\n    load_libs(css_urls, js_urls, function() {\n      console.debug(\"Bokeh: BokehJS plotting callback run at\", now());\n      run_inline_js();\n    });\n  }\n}(window));"
     },
     "metadata": {},
     "output_type": "display_data"
    }
   ],
   "source": [
    "from bokeh.io import output_notebook, output_file\n",
    "\n",
    "#output_file('filename.html')  # Render to static HTML, or \n",
    "output_notebook()  # Render inline in a Jupyter Notebook"
   ]
  },
  {
   "cell_type": "markdown",
   "metadata": {},
   "source": [
    "## Generating an Empty canvas with Bokeh\n",
    "\n",
    "Let's generate a bare empty figure with Bokeh just to get things started"
   ]
  },
  {
   "cell_type": "code",
   "execution_count": 169,
   "metadata": {},
   "outputs": [
    {
     "name": "stderr",
     "output_type": "stream",
     "text": [
      "WARNING:bokeh.core.validation.check:W-1000 (MISSING_RENDERERS): Plot has no renderers: Figure(id='34284', ...)\n"
     ]
    },
    {
     "data": {
      "text/html": [
       "\n",
       "\n",
       "\n",
       "\n",
       "\n",
       "\n",
       "  <div class=\"bk-root\" id=\"968280f7-b768-4f9b-ad88-39b9066b3d7b\" data-root-id=\"34284\"></div>\n"
      ]
     },
     "metadata": {},
     "output_type": "display_data"
    },
    {
     "data": {
      "application/javascript": [
       "(function(root) {\n",
       "  function embed_document(root) {\n",
       "    \n",
       "  var docs_json = {\"eb7f6a02-547c-4aa9-8b7e-2fc1ded78ac1\":{\"roots\":{\"references\":[{\"attributes\":{\"below\":[{\"id\":\"34293\",\"type\":\"LinearAxis\"}],\"center\":[{\"id\":\"34297\",\"type\":\"Grid\"},{\"id\":\"34302\",\"type\":\"Grid\"}],\"left\":[{\"id\":\"34298\",\"type\":\"LinearAxis\"}],\"title\":{\"id\":\"34781\",\"type\":\"Title\"},\"toolbar\":{\"id\":\"34309\",\"type\":\"Toolbar\"},\"x_range\":{\"id\":\"34285\",\"type\":\"DataRange1d\"},\"x_scale\":{\"id\":\"34289\",\"type\":\"LinearScale\"},\"y_range\":{\"id\":\"34287\",\"type\":\"DataRange1d\"},\"y_scale\":{\"id\":\"34291\",\"type\":\"LinearScale\"}},\"id\":\"34284\",\"subtype\":\"Figure\",\"type\":\"Plot\"},{\"attributes\":{\"ticker\":{\"id\":\"34294\",\"type\":\"BasicTicker\"}},\"id\":\"34297\",\"type\":\"Grid\"},{\"attributes\":{\"bottom_units\":\"screen\",\"fill_alpha\":{\"value\":0.5},\"fill_color\":{\"value\":\"lightgrey\"},\"left_units\":\"screen\",\"level\":\"overlay\",\"line_alpha\":{\"value\":1.0},\"line_color\":{\"value\":\"black\"},\"line_dash\":[4,4],\"line_width\":{\"value\":2},\"render_mode\":\"css\",\"right_units\":\"screen\",\"top_units\":\"screen\"},\"id\":\"34786\",\"type\":\"BoxAnnotation\"},{\"attributes\":{},\"id\":\"34306\",\"type\":\"SaveTool\"},{\"attributes\":{\"overlay\":{\"id\":\"34786\",\"type\":\"BoxAnnotation\"}},\"id\":\"34305\",\"type\":\"BoxZoomTool\"},{\"attributes\":{},\"id\":\"34294\",\"type\":\"BasicTicker\"},{\"attributes\":{},\"id\":\"34304\",\"type\":\"WheelZoomTool\"},{\"attributes\":{},\"id\":\"34308\",\"type\":\"HelpTool\"},{\"attributes\":{},\"id\":\"34291\",\"type\":\"LinearScale\"},{\"attributes\":{},\"id\":\"34307\",\"type\":\"ResetTool\"},{\"attributes\":{},\"id\":\"34289\",\"type\":\"LinearScale\"},{\"attributes\":{\"active_drag\":\"auto\",\"active_inspect\":\"auto\",\"active_multi\":null,\"active_scroll\":\"auto\",\"active_tap\":\"auto\",\"tools\":[{\"id\":\"34303\",\"type\":\"PanTool\"},{\"id\":\"34304\",\"type\":\"WheelZoomTool\"},{\"id\":\"34305\",\"type\":\"BoxZoomTool\"},{\"id\":\"34306\",\"type\":\"SaveTool\"},{\"id\":\"34307\",\"type\":\"ResetTool\"},{\"id\":\"34308\",\"type\":\"HelpTool\"}]},\"id\":\"34309\",\"type\":\"Toolbar\"},{\"attributes\":{\"text\":\"\"},\"id\":\"34781\",\"type\":\"Title\"},{\"attributes\":{},\"id\":\"34783\",\"type\":\"BasicTickFormatter\"},{\"attributes\":{},\"id\":\"34785\",\"type\":\"BasicTickFormatter\"},{\"attributes\":{},\"id\":\"34299\",\"type\":\"BasicTicker\"},{\"attributes\":{\"formatter\":{\"id\":\"34785\",\"type\":\"BasicTickFormatter\"},\"ticker\":{\"id\":\"34299\",\"type\":\"BasicTicker\"}},\"id\":\"34298\",\"type\":\"LinearAxis\"},{\"attributes\":{\"formatter\":{\"id\":\"34783\",\"type\":\"BasicTickFormatter\"},\"ticker\":{\"id\":\"34294\",\"type\":\"BasicTicker\"}},\"id\":\"34293\",\"type\":\"LinearAxis\"},{\"attributes\":{\"callback\":null},\"id\":\"34285\",\"type\":\"DataRange1d\"},{\"attributes\":{\"callback\":null},\"id\":\"34287\",\"type\":\"DataRange1d\"},{\"attributes\":{\"dimension\":1,\"ticker\":{\"id\":\"34299\",\"type\":\"BasicTicker\"}},\"id\":\"34302\",\"type\":\"Grid\"},{\"attributes\":{},\"id\":\"34303\",\"type\":\"PanTool\"}],\"root_ids\":[\"34284\"]},\"title\":\"Bokeh Application\",\"version\":\"1.3.4\"}};\n",
       "  var render_items = [{\"docid\":\"eb7f6a02-547c-4aa9-8b7e-2fc1ded78ac1\",\"roots\":{\"34284\":\"968280f7-b768-4f9b-ad88-39b9066b3d7b\"}}];\n",
       "  root.Bokeh.embed.embed_items_notebook(docs_json, render_items);\n",
       "\n",
       "  }\n",
       "  if (root.Bokeh !== undefined) {\n",
       "    embed_document(root);\n",
       "  } else {\n",
       "    var attempts = 0;\n",
       "    var timer = setInterval(function(root) {\n",
       "      if (root.Bokeh !== undefined) {\n",
       "        embed_document(root);\n",
       "        clearInterval(timer);\n",
       "      }\n",
       "      attempts++;\n",
       "      if (attempts > 100) {\n",
       "        console.log(\"Bokeh: ERROR: Unable to run BokehJS code because BokehJS library is missing\");\n",
       "        clearInterval(timer);\n",
       "      }\n",
       "    }, 10, root)\n",
       "  }\n",
       "})(window);"
      ],
      "application/vnd.bokehjs_exec.v0+json": ""
     },
     "metadata": {
      "application/vnd.bokehjs_exec.v0+json": {
       "id": "34284"
      }
     },
     "output_type": "display_data"
    },
    {
     "name": "stderr",
     "output_type": "stream",
     "text": [
      "WARNING:bokeh.core.validation.check:W-1000 (MISSING_RENDERERS): Plot has no renderers: Figure(id='34284', ...)\n"
     ]
    }
   ],
   "source": [
    "from bokeh.io import show\n",
    "from bokeh.plotting import figure\n",
    "\n",
    "# Set up a generic figure() object\n",
    "fig = figure()\n",
    "\n",
    "# See what it looks like\n",
    "show(fig)"
   ]
  },
  {
   "cell_type": "markdown",
   "metadata": {},
   "source": [
    "It is important to notice here that the default Bokeh figure comes pre-loaded with a toolbarwhich can be further configured for various interactions. "
   ]
  },
  {
   "cell_type": "markdown",
   "metadata": {},
   "source": [
    "## Generating a Basic first plot with Axes\n",
    "\n",
    "let's create a basic first plot to learn how to configure the figure() object.\n",
    "\n",
    "The figure() object is the key to all of Bokeh’s available tools for visualizing data. The Bokeh figure is a subclass of the [Bokeh Plot](https://docs.bokeh.org/en/latest/docs/reference/models/plots.html#bokeh.models.plots.Plot) object, which provides a lot of the parameters to configure the plot."
   ]
  },
  {
   "cell_type": "code",
   "execution_count": 170,
   "metadata": {},
   "outputs": [
    {
     "name": "stderr",
     "output_type": "stream",
     "text": [
      "WARNING:bokeh.core.validation.check:W-1000 (MISSING_RENDERERS): Plot has no renderers: Figure(id='34900', ...)\n"
     ]
    },
    {
     "data": {
      "text/html": [
       "\n",
       "\n",
       "\n",
       "\n",
       "\n",
       "\n",
       "  <div class=\"bk-root\" id=\"288ab58e-7155-475f-92c3-fa9c5644d072\" data-root-id=\"34900\"></div>\n"
      ]
     },
     "metadata": {},
     "output_type": "display_data"
    },
    {
     "data": {
      "application/javascript": [
       "(function(root) {\n",
       "  function embed_document(root) {\n",
       "    \n",
       "  var docs_json = {\"802764ea-07e6-4144-be48-211b71b8d87a\":{\"roots\":{\"references\":[{\"attributes\":{\"background_fill_alpha\":{\"value\":0.2},\"background_fill_color\":{\"value\":\"pink\"},\"below\":[{\"id\":\"34911\",\"type\":\"LinearAxis\"}],\"center\":[{\"id\":\"34915\",\"type\":\"Grid\"},{\"id\":\"34920\",\"type\":\"Grid\"}],\"left\":[{\"id\":\"34916\",\"type\":\"LinearAxis\"}],\"plot_height\":400,\"title\":{\"id\":\"34901\",\"type\":\"Title\"},\"toolbar\":{\"id\":\"34922\",\"type\":\"Toolbar\"},\"toolbar_location\":\"below\",\"x_range\":{\"id\":\"34903\",\"type\":\"Range1d\"},\"x_scale\":{\"id\":\"34907\",\"type\":\"LinearScale\"},\"y_range\":{\"id\":\"34905\",\"type\":\"Range1d\"},\"y_scale\":{\"id\":\"34909\",\"type\":\"LinearScale\"}},\"id\":\"34900\",\"subtype\":\"Figure\",\"type\":\"Plot\"},{\"attributes\":{},\"id\":\"34917\",\"type\":\"BasicTicker\"},{\"attributes\":{},\"id\":\"35397\",\"type\":\"BasicTickFormatter\"},{\"attributes\":{\"text\":\"Example Figure\"},\"id\":\"34901\",\"type\":\"Title\"},{\"attributes\":{},\"id\":\"34907\",\"type\":\"LinearScale\"},{\"attributes\":{\"active_drag\":\"auto\",\"active_inspect\":\"auto\",\"active_multi\":null,\"active_scroll\":\"auto\",\"active_tap\":\"auto\",\"tools\":[{\"id\":\"34921\",\"type\":\"SaveTool\"}]},\"id\":\"34922\",\"type\":\"Toolbar\"},{\"attributes\":{},\"id\":\"34912\",\"type\":\"BasicTicker\"},{\"attributes\":{},\"id\":\"35399\",\"type\":\"BasicTickFormatter\"},{\"attributes\":{\"ticker\":{\"id\":\"34912\",\"type\":\"BasicTicker\"}},\"id\":\"34915\",\"type\":\"Grid\"},{\"attributes\":{},\"id\":\"34921\",\"type\":\"SaveTool\"},{\"attributes\":{\"callback\":null,\"end\":1000,\"start\":100},\"id\":\"34903\",\"type\":\"Range1d\"},{\"attributes\":{},\"id\":\"34909\",\"type\":\"LinearScale\"},{\"attributes\":{\"callback\":null,\"end\":10},\"id\":\"34905\",\"type\":\"Range1d\"},{\"attributes\":{\"axis_label\":\"Y Label\",\"formatter\":{\"id\":\"35399\",\"type\":\"BasicTickFormatter\"},\"ticker\":{\"id\":\"34917\",\"type\":\"BasicTicker\"}},\"id\":\"34916\",\"type\":\"LinearAxis\"},{\"attributes\":{\"axis_label\":\"X Label\",\"formatter\":{\"id\":\"35397\",\"type\":\"BasicTickFormatter\"},\"ticker\":{\"id\":\"34912\",\"type\":\"BasicTicker\"}},\"id\":\"34911\",\"type\":\"LinearAxis\"},{\"attributes\":{\"dimension\":1,\"ticker\":{\"id\":\"34917\",\"type\":\"BasicTicker\"}},\"id\":\"34920\",\"type\":\"Grid\"}],\"root_ids\":[\"34900\"]},\"title\":\"Bokeh Application\",\"version\":\"1.3.4\"}};\n",
       "  var render_items = [{\"docid\":\"802764ea-07e6-4144-be48-211b71b8d87a\",\"roots\":{\"34900\":\"288ab58e-7155-475f-92c3-fa9c5644d072\"}}];\n",
       "  root.Bokeh.embed.embed_items_notebook(docs_json, render_items);\n",
       "\n",
       "  }\n",
       "  if (root.Bokeh !== undefined) {\n",
       "    embed_document(root);\n",
       "  } else {\n",
       "    var attempts = 0;\n",
       "    var timer = setInterval(function(root) {\n",
       "      if (root.Bokeh !== undefined) {\n",
       "        embed_document(root);\n",
       "        clearInterval(timer);\n",
       "      }\n",
       "      attempts++;\n",
       "      if (attempts > 100) {\n",
       "        console.log(\"Bokeh: ERROR: Unable to run BokehJS code because BokehJS library is missing\");\n",
       "        clearInterval(timer);\n",
       "      }\n",
       "    }, 10, root)\n",
       "  }\n",
       "})(window);"
      ],
      "application/vnd.bokehjs_exec.v0+json": ""
     },
     "metadata": {
      "application/vnd.bokehjs_exec.v0+json": {
       "id": "34900"
      }
     },
     "output_type": "display_data"
    },
    {
     "name": "stderr",
     "output_type": "stream",
     "text": [
      "WARNING:bokeh.core.validation.check:W-1000 (MISSING_RENDERERS): Plot has no renderers: Figure(id='34900', ...)\n"
     ]
    }
   ],
   "source": [
    "fig = figure(x_range=(100,1000),\n",
    "             y_range=(0,10),\n",
    "             background_fill_color='pink',\n",
    "             background_fill_alpha=0.2,\n",
    "             plot_height=400,\n",
    "             plot_width=600,\n",
    "             x_axis_label='X Label',\n",
    "             y_axis_label='Y Label',\n",
    "             title='Example Figure',\n",
    "             toolbar_location='below',\n",
    "             tools='save')\n",
    "\n",
    "# See what it looks like\n",
    "show(fig)"
   ]
  },
  {
   "cell_type": "markdown",
   "metadata": {},
   "source": [
    "## Glyphs : the building blocks of Bokeh visualizations.\n",
    "\n",
    "The basic visual building blocks of Bokeh plots, e.g. lines, rectangles, squares, wedges, patches, etc. The bokeh.plotting interface provides a convenient way to create plots centered around glyphs. See Plotting with Basic Glyphs for more information [Source](https://docs.bokeh.org/en/latest/docs/user_guide/plotting.html#userguide-plotting)"
   ]
  },
  {
   "cell_type": "code",
   "execution_count": 171,
   "metadata": {},
   "outputs": [
    {
     "data": {
      "text/html": [
       "\n",
       "\n",
       "\n",
       "\n",
       "\n",
       "\n",
       "  <div class=\"bk-root\" id=\"4cbf446c-fa04-4d68-8cc5-e49358adcd5c\" data-root-id=\"35481\"></div>\n"
      ]
     },
     "metadata": {},
     "output_type": "display_data"
    },
    {
     "data": {
      "application/javascript": [
       "(function(root) {\n",
       "  function embed_document(root) {\n",
       "    \n",
       "  var docs_json = {\"0773a629-b54a-457c-b7a5-82fd51264230\":{\"roots\":{\"references\":[{\"attributes\":{\"below\":[{\"id\":\"35490\",\"type\":\"LinearAxis\"}],\"center\":[{\"id\":\"35494\",\"type\":\"Grid\"},{\"id\":\"35499\",\"type\":\"Grid\"}],\"left\":[{\"id\":\"35495\",\"type\":\"LinearAxis\"}],\"plot_height\":300,\"plot_width\":300,\"renderers\":[{\"id\":\"35516\",\"type\":\"GlyphRenderer\"}],\"title\":{\"id\":\"35995\",\"type\":\"Title\"},\"toolbar\":{\"id\":\"35506\",\"type\":\"Toolbar\"},\"x_range\":{\"id\":\"35482\",\"type\":\"DataRange1d\"},\"x_scale\":{\"id\":\"35486\",\"type\":\"LinearScale\"},\"y_range\":{\"id\":\"35484\",\"type\":\"DataRange1d\"},\"y_scale\":{\"id\":\"35488\",\"type\":\"LinearScale\"}},\"id\":\"35481\",\"subtype\":\"Figure\",\"type\":\"Plot\"},{\"attributes\":{},\"id\":\"36001\",\"type\":\"UnionRenderers\"},{\"attributes\":{},\"id\":\"35496\",\"type\":\"BasicTicker\"},{\"attributes\":{},\"id\":\"35505\",\"type\":\"HelpTool\"},{\"attributes\":{\"callback\":null,\"data\":{\"x\":[1,2,3,4,5],\"y\":[6,7,1,4,3]},\"selected\":{\"id\":\"36002\",\"type\":\"Selection\"},\"selection_policy\":{\"id\":\"36001\",\"type\":\"UnionRenderers\"}},\"id\":\"35513\",\"type\":\"ColumnDataSource\"},{\"attributes\":{\"text\":\"\"},\"id\":\"35995\",\"type\":\"Title\"},{\"attributes\":{},\"id\":\"35500\",\"type\":\"PanTool\"},{\"attributes\":{\"overlay\":{\"id\":\"36000\",\"type\":\"BoxAnnotation\"}},\"id\":\"35502\",\"type\":\"BoxZoomTool\"},{\"attributes\":{\"active_drag\":\"auto\",\"active_inspect\":\"auto\",\"active_multi\":null,\"active_scroll\":\"auto\",\"active_tap\":\"auto\",\"tools\":[{\"id\":\"35500\",\"type\":\"PanTool\"},{\"id\":\"35501\",\"type\":\"WheelZoomTool\"},{\"id\":\"35502\",\"type\":\"BoxZoomTool\"},{\"id\":\"35503\",\"type\":\"SaveTool\"},{\"id\":\"35504\",\"type\":\"ResetTool\"},{\"id\":\"35505\",\"type\":\"HelpTool\"}]},\"id\":\"35506\",\"type\":\"Toolbar\"},{\"attributes\":{},\"id\":\"35503\",\"type\":\"SaveTool\"},{\"attributes\":{\"data_source\":{\"id\":\"35513\",\"type\":\"ColumnDataSource\"},\"glyph\":{\"id\":\"35514\",\"type\":\"Circle\"},\"hover_glyph\":null,\"muted_glyph\":null,\"nonselection_glyph\":{\"id\":\"35515\",\"type\":\"Circle\"},\"selection_glyph\":null,\"view\":{\"id\":\"35517\",\"type\":\"CDSView\"}},\"id\":\"35516\",\"type\":\"GlyphRenderer\"},{\"attributes\":{},\"id\":\"35501\",\"type\":\"WheelZoomTool\"},{\"attributes\":{},\"id\":\"35999\",\"type\":\"BasicTickFormatter\"},{\"attributes\":{\"fill_alpha\":{\"value\":0.5},\"fill_color\":{\"value\":\"green\"},\"line_alpha\":{\"value\":0.5},\"line_color\":{\"value\":\"green\"},\"size\":{\"units\":\"screen\",\"value\":20},\"x\":{\"field\":\"x\"},\"y\":{\"field\":\"y\"}},\"id\":\"35514\",\"type\":\"Circle\"},{\"attributes\":{\"source\":{\"id\":\"35513\",\"type\":\"ColumnDataSource\"}},\"id\":\"35517\",\"type\":\"CDSView\"},{\"attributes\":{\"dimension\":1,\"ticker\":{\"id\":\"35496\",\"type\":\"BasicTicker\"}},\"id\":\"35499\",\"type\":\"Grid\"},{\"attributes\":{},\"id\":\"35504\",\"type\":\"ResetTool\"},{\"attributes\":{\"bottom_units\":\"screen\",\"fill_alpha\":{\"value\":0.5},\"fill_color\":{\"value\":\"lightgrey\"},\"left_units\":\"screen\",\"level\":\"overlay\",\"line_alpha\":{\"value\":1.0},\"line_color\":{\"value\":\"black\"},\"line_dash\":[4,4],\"line_width\":{\"value\":2},\"render_mode\":\"css\",\"right_units\":\"screen\",\"top_units\":\"screen\"},\"id\":\"36000\",\"type\":\"BoxAnnotation\"},{\"attributes\":{\"fill_alpha\":{\"value\":0.1},\"fill_color\":{\"value\":\"#1f77b4\"},\"line_alpha\":{\"value\":0.1},\"line_color\":{\"value\":\"#1f77b4\"},\"size\":{\"units\":\"screen\",\"value\":20},\"x\":{\"field\":\"x\"},\"y\":{\"field\":\"y\"}},\"id\":\"35515\",\"type\":\"Circle\"},{\"attributes\":{},\"id\":\"35488\",\"type\":\"LinearScale\"},{\"attributes\":{},\"id\":\"35486\",\"type\":\"LinearScale\"},{\"attributes\":{},\"id\":\"35997\",\"type\":\"BasicTickFormatter\"},{\"attributes\":{\"formatter\":{\"id\":\"35997\",\"type\":\"BasicTickFormatter\"},\"ticker\":{\"id\":\"35491\",\"type\":\"BasicTicker\"}},\"id\":\"35490\",\"type\":\"LinearAxis\"},{\"attributes\":{\"callback\":null},\"id\":\"35484\",\"type\":\"DataRange1d\"},{\"attributes\":{\"callback\":null},\"id\":\"35482\",\"type\":\"DataRange1d\"},{\"attributes\":{},\"id\":\"35491\",\"type\":\"BasicTicker\"},{\"attributes\":{\"formatter\":{\"id\":\"35999\",\"type\":\"BasicTickFormatter\"},\"ticker\":{\"id\":\"35496\",\"type\":\"BasicTicker\"}},\"id\":\"35495\",\"type\":\"LinearAxis\"},{\"attributes\":{},\"id\":\"36002\",\"type\":\"Selection\"},{\"attributes\":{\"ticker\":{\"id\":\"35491\",\"type\":\"BasicTicker\"}},\"id\":\"35494\",\"type\":\"Grid\"}],\"root_ids\":[\"35481\"]},\"title\":\"Bokeh Application\",\"version\":\"1.3.4\"}};\n",
       "  var render_items = [{\"docid\":\"0773a629-b54a-457c-b7a5-82fd51264230\",\"roots\":{\"35481\":\"4cbf446c-fa04-4d68-8cc5-e49358adcd5c\"}}];\n",
       "  root.Bokeh.embed.embed_items_notebook(docs_json, render_items);\n",
       "\n",
       "  }\n",
       "  if (root.Bokeh !== undefined) {\n",
       "    embed_document(root);\n",
       "  } else {\n",
       "    var attempts = 0;\n",
       "    var timer = setInterval(function(root) {\n",
       "      if (root.Bokeh !== undefined) {\n",
       "        embed_document(root);\n",
       "        clearInterval(timer);\n",
       "      }\n",
       "      attempts++;\n",
       "      if (attempts > 100) {\n",
       "        console.log(\"Bokeh: ERROR: Unable to run BokehJS code because BokehJS library is missing\");\n",
       "        clearInterval(timer);\n",
       "      }\n",
       "    }, 10, root)\n",
       "  }\n",
       "})(window);"
      ],
      "application/vnd.bokehjs_exec.v0+json": ""
     },
     "metadata": {
      "application/vnd.bokehjs_exec.v0+json": {
       "id": "35481"
      }
     },
     "output_type": "display_data"
    }
   ],
   "source": [
    "# Circles\n",
    "\n",
    "p = figure(plot_width=300, plot_height=300)\n",
    "\n",
    "# add a circle renderer with a size, color, and alpha\n",
    "p.circle([1, 2, 3, 4, 5], [6, 7, 1, 4, 3], size=20, color=\"green\", alpha=0.5)\n",
    "\n",
    "# show the results\n",
    "show(p)"
   ]
  },
  {
   "cell_type": "markdown",
   "metadata": {},
   "source": [
    "Available Markers in Bokeh\n",
    "\n",
    "* asterisk()\n",
    "* circle()\n",
    "* circle_cross()\n",
    "* circle_x()\n",
    "* cross()\n",
    "* dash()\n",
    "* diamond()\n",
    "* diamond_cross()\n",
    "* inverted_triangle()\n",
    "* square()\n",
    "* square_cross()\n",
    "* square_x()\n",
    "* triangle()\n",
    "\n"
   ]
  },
  {
   "cell_type": "code",
   "execution_count": 172,
   "metadata": {},
   "outputs": [
    {
     "data": {
      "text/html": [
       "\n",
       "\n",
       "\n",
       "\n",
       "\n",
       "\n",
       "  <div class=\"bk-root\" id=\"761d4a52-53d4-4fdb-b144-de2c31ddbe79\" data-root-id=\"36148\"></div>\n"
      ]
     },
     "metadata": {},
     "output_type": "display_data"
    },
    {
     "data": {
      "application/javascript": [
       "(function(root) {\n",
       "  function embed_document(root) {\n",
       "    \n",
       "  var docs_json = {\"7d0a7eca-a25b-464d-b3ea-33d28465223c\":{\"roots\":{\"references\":[{\"attributes\":{\"below\":[{\"id\":\"36157\",\"type\":\"LinearAxis\"}],\"center\":[{\"id\":\"36161\",\"type\":\"Grid\"},{\"id\":\"36166\",\"type\":\"Grid\"}],\"left\":[{\"id\":\"36162\",\"type\":\"LinearAxis\"}],\"plot_height\":300,\"plot_width\":300,\"renderers\":[{\"id\":\"36183\",\"type\":\"GlyphRenderer\"}],\"title\":{\"id\":\"36671\",\"type\":\"Title\"},\"toolbar\":{\"id\":\"36173\",\"type\":\"Toolbar\"},\"x_range\":{\"id\":\"36149\",\"type\":\"DataRange1d\"},\"x_scale\":{\"id\":\"36153\",\"type\":\"LinearScale\"},\"y_range\":{\"id\":\"36151\",\"type\":\"DataRange1d\"},\"y_scale\":{\"id\":\"36155\",\"type\":\"LinearScale\"}},\"id\":\"36148\",\"subtype\":\"Figure\",\"type\":\"Plot\"},{\"attributes\":{\"overlay\":{\"id\":\"36676\",\"type\":\"BoxAnnotation\"}},\"id\":\"36169\",\"type\":\"BoxZoomTool\"},{\"attributes\":{\"callback\":null,\"data\":{\"x\":[1,2,3,4,5],\"y\":[6,7,1,4,3]},\"selected\":{\"id\":\"36678\",\"type\":\"Selection\"},\"selection_policy\":{\"id\":\"36677\",\"type\":\"UnionRenderers\"}},\"id\":\"36180\",\"type\":\"ColumnDataSource\"},{\"attributes\":{\"text\":\"\"},\"id\":\"36671\",\"type\":\"Title\"},{\"attributes\":{},\"id\":\"36163\",\"type\":\"BasicTicker\"},{\"attributes\":{\"callback\":null},\"id\":\"36149\",\"type\":\"DataRange1d\"},{\"attributes\":{\"formatter\":{\"id\":\"36673\",\"type\":\"BasicTickFormatter\"},\"ticker\":{\"id\":\"36158\",\"type\":\"BasicTicker\"}},\"id\":\"36157\",\"type\":\"LinearAxis\"},{\"attributes\":{\"active_drag\":\"auto\",\"active_inspect\":\"auto\",\"active_multi\":null,\"active_scroll\":\"auto\",\"active_tap\":\"auto\",\"tools\":[{\"id\":\"36167\",\"type\":\"PanTool\"},{\"id\":\"36168\",\"type\":\"WheelZoomTool\"},{\"id\":\"36169\",\"type\":\"BoxZoomTool\"},{\"id\":\"36170\",\"type\":\"SaveTool\"},{\"id\":\"36171\",\"type\":\"ResetTool\"},{\"id\":\"36172\",\"type\":\"HelpTool\"}]},\"id\":\"36173\",\"type\":\"Toolbar\"},{\"attributes\":{\"formatter\":{\"id\":\"36675\",\"type\":\"BasicTickFormatter\"},\"ticker\":{\"id\":\"36163\",\"type\":\"BasicTicker\"}},\"id\":\"36162\",\"type\":\"LinearAxis\"},{\"attributes\":{},\"id\":\"36673\",\"type\":\"BasicTickFormatter\"},{\"attributes\":{\"data_source\":{\"id\":\"36180\",\"type\":\"ColumnDataSource\"},\"glyph\":{\"id\":\"36181\",\"type\":\"Square\"},\"hover_glyph\":null,\"muted_glyph\":null,\"nonselection_glyph\":{\"id\":\"36182\",\"type\":\"Square\"},\"selection_glyph\":null,\"view\":{\"id\":\"36184\",\"type\":\"CDSView\"}},\"id\":\"36183\",\"type\":\"GlyphRenderer\"},{\"attributes\":{},\"id\":\"36167\",\"type\":\"PanTool\"},{\"attributes\":{\"fill_alpha\":{\"value\":0.1},\"fill_color\":{\"value\":\"#1f77b4\"},\"line_alpha\":{\"value\":0.1},\"line_color\":{\"value\":\"#1f77b4\"},\"size\":{\"units\":\"screen\",\"value\":20},\"x\":{\"field\":\"x\"},\"y\":{\"field\":\"y\"}},\"id\":\"36182\",\"type\":\"Square\"},{\"attributes\":{},\"id\":\"36168\",\"type\":\"WheelZoomTool\"},{\"attributes\":{},\"id\":\"36153\",\"type\":\"LinearScale\"},{\"attributes\":{},\"id\":\"36172\",\"type\":\"HelpTool\"},{\"attributes\":{},\"id\":\"36155\",\"type\":\"LinearScale\"},{\"attributes\":{\"bottom_units\":\"screen\",\"fill_alpha\":{\"value\":0.5},\"fill_color\":{\"value\":\"lightgrey\"},\"left_units\":\"screen\",\"level\":\"overlay\",\"line_alpha\":{\"value\":1.0},\"line_color\":{\"value\":\"black\"},\"line_dash\":[4,4],\"line_width\":{\"value\":2},\"render_mode\":\"css\",\"right_units\":\"screen\",\"top_units\":\"screen\"},\"id\":\"36676\",\"type\":\"BoxAnnotation\"},{\"attributes\":{\"callback\":null},\"id\":\"36151\",\"type\":\"DataRange1d\"},{\"attributes\":{\"ticker\":{\"id\":\"36158\",\"type\":\"BasicTicker\"}},\"id\":\"36161\",\"type\":\"Grid\"},{\"attributes\":{},\"id\":\"36675\",\"type\":\"BasicTickFormatter\"},{\"attributes\":{\"source\":{\"id\":\"36180\",\"type\":\"ColumnDataSource\"}},\"id\":\"36184\",\"type\":\"CDSView\"},{\"attributes\":{},\"id\":\"36678\",\"type\":\"Selection\"},{\"attributes\":{},\"id\":\"36158\",\"type\":\"BasicTicker\"},{\"attributes\":{},\"id\":\"36170\",\"type\":\"SaveTool\"},{\"attributes\":{},\"id\":\"36171\",\"type\":\"ResetTool\"},{\"attributes\":{\"fill_alpha\":{\"value\":0.5},\"fill_color\":{\"value\":\"red\"},\"line_alpha\":{\"value\":0.5},\"line_color\":{\"value\":\"red\"},\"size\":{\"units\":\"screen\",\"value\":20},\"x\":{\"field\":\"x\"},\"y\":{\"field\":\"y\"}},\"id\":\"36181\",\"type\":\"Square\"},{\"attributes\":{},\"id\":\"36677\",\"type\":\"UnionRenderers\"},{\"attributes\":{\"dimension\":1,\"ticker\":{\"id\":\"36163\",\"type\":\"BasicTicker\"}},\"id\":\"36166\",\"type\":\"Grid\"}],\"root_ids\":[\"36148\"]},\"title\":\"Bokeh Application\",\"version\":\"1.3.4\"}};\n",
       "  var render_items = [{\"docid\":\"7d0a7eca-a25b-464d-b3ea-33d28465223c\",\"roots\":{\"36148\":\"761d4a52-53d4-4fdb-b144-de2c31ddbe79\"}}];\n",
       "  root.Bokeh.embed.embed_items_notebook(docs_json, render_items);\n",
       "\n",
       "  }\n",
       "  if (root.Bokeh !== undefined) {\n",
       "    embed_document(root);\n",
       "  } else {\n",
       "    var attempts = 0;\n",
       "    var timer = setInterval(function(root) {\n",
       "      if (root.Bokeh !== undefined) {\n",
       "        embed_document(root);\n",
       "        clearInterval(timer);\n",
       "      }\n",
       "      attempts++;\n",
       "      if (attempts > 100) {\n",
       "        console.log(\"Bokeh: ERROR: Unable to run BokehJS code because BokehJS library is missing\");\n",
       "        clearInterval(timer);\n",
       "      }\n",
       "    }, 10, root)\n",
       "  }\n",
       "})(window);"
      ],
      "application/vnd.bokehjs_exec.v0+json": ""
     },
     "metadata": {
      "application/vnd.bokehjs_exec.v0+json": {
       "id": "36148"
      }
     },
     "output_type": "display_data"
    }
   ],
   "source": [
    "# Squares\n",
    "\n",
    "p = figure(plot_width=300, plot_height=300)\n",
    "\n",
    "# add a circle renderer with a size, color, and alpha\n",
    "p.square([1, 2, 3, 4, 5], [6, 7, 1, 4, 3], size=20, color=\"red\", alpha=0.5)\n",
    "\n",
    "# show the results\n",
    "show(p)"
   ]
  },
  {
   "cell_type": "code",
   "execution_count": 173,
   "metadata": {},
   "outputs": [
    {
     "data": {
      "text/html": [
       "\n",
       "\n",
       "\n",
       "\n",
       "\n",
       "\n",
       "  <div class=\"bk-root\" id=\"2a7fc45f-e63f-47cc-8300-a27e0d8d7160\" data-root-id=\"36824\"></div>\n"
      ]
     },
     "metadata": {},
     "output_type": "display_data"
    },
    {
     "data": {
      "application/javascript": [
       "(function(root) {\n",
       "  function embed_document(root) {\n",
       "    \n",
       "  var docs_json = {\"2608a711-9c74-41a0-b5c0-25ed3198eb3c\":{\"roots\":{\"references\":[{\"attributes\":{\"below\":[{\"id\":\"36833\",\"type\":\"LinearAxis\"}],\"center\":[{\"id\":\"36837\",\"type\":\"Grid\"},{\"id\":\"36842\",\"type\":\"Grid\"}],\"left\":[{\"id\":\"36838\",\"type\":\"LinearAxis\"}],\"plot_height\":300,\"plot_width\":300,\"renderers\":[{\"id\":\"36859\",\"type\":\"GlyphRenderer\"}],\"title\":{\"id\":\"37356\",\"type\":\"Title\"},\"toolbar\":{\"id\":\"36849\",\"type\":\"Toolbar\"},\"x_range\":{\"id\":\"36825\",\"type\":\"DataRange1d\"},\"x_scale\":{\"id\":\"36829\",\"type\":\"LinearScale\"},\"y_range\":{\"id\":\"36827\",\"type\":\"DataRange1d\"},\"y_scale\":{\"id\":\"36831\",\"type\":\"LinearScale\"}},\"id\":\"36824\",\"subtype\":\"Figure\",\"type\":\"Plot\"},{\"attributes\":{},\"id\":\"36834\",\"type\":\"BasicTicker\"},{\"attributes\":{},\"id\":\"36829\",\"type\":\"LinearScale\"},{\"attributes\":{},\"id\":\"36844\",\"type\":\"WheelZoomTool\"},{\"attributes\":{\"callback\":null,\"data\":{\"x\":[1,2,3,4,5],\"y\":[6,7,1,4,3]},\"selected\":{\"id\":\"37363\",\"type\":\"Selection\"},\"selection_policy\":{\"id\":\"37362\",\"type\":\"UnionRenderers\"}},\"id\":\"36856\",\"type\":\"ColumnDataSource\"},{\"attributes\":{},\"id\":\"37362\",\"type\":\"UnionRenderers\"},{\"attributes\":{\"active_drag\":\"auto\",\"active_inspect\":\"auto\",\"active_multi\":null,\"active_scroll\":\"auto\",\"active_tap\":\"auto\",\"tools\":[{\"id\":\"36843\",\"type\":\"PanTool\"},{\"id\":\"36844\",\"type\":\"WheelZoomTool\"},{\"id\":\"36845\",\"type\":\"BoxZoomTool\"},{\"id\":\"36846\",\"type\":\"SaveTool\"},{\"id\":\"36847\",\"type\":\"ResetTool\"},{\"id\":\"36848\",\"type\":\"HelpTool\"}]},\"id\":\"36849\",\"type\":\"Toolbar\"},{\"attributes\":{\"line_alpha\":0.1,\"line_color\":\"#1f77b4\",\"line_width\":2,\"x\":{\"field\":\"x\"},\"y\":{\"field\":\"y\"}},\"id\":\"36858\",\"type\":\"Line\"},{\"attributes\":{\"line_color\":\"pink\",\"line_width\":2,\"x\":{\"field\":\"x\"},\"y\":{\"field\":\"y\"}},\"id\":\"36857\",\"type\":\"Line\"},{\"attributes\":{},\"id\":\"36846\",\"type\":\"SaveTool\"},{\"attributes\":{},\"id\":\"36839\",\"type\":\"BasicTicker\"},{\"attributes\":{\"data_source\":{\"id\":\"36856\",\"type\":\"ColumnDataSource\"},\"glyph\":{\"id\":\"36857\",\"type\":\"Line\"},\"hover_glyph\":null,\"muted_glyph\":null,\"nonselection_glyph\":{\"id\":\"36858\",\"type\":\"Line\"},\"selection_glyph\":null,\"view\":{\"id\":\"36860\",\"type\":\"CDSView\"}},\"id\":\"36859\",\"type\":\"GlyphRenderer\"},{\"attributes\":{\"bottom_units\":\"screen\",\"fill_alpha\":{\"value\":0.5},\"fill_color\":{\"value\":\"lightgrey\"},\"left_units\":\"screen\",\"level\":\"overlay\",\"line_alpha\":{\"value\":1.0},\"line_color\":{\"value\":\"black\"},\"line_dash\":[4,4],\"line_width\":{\"value\":2},\"render_mode\":\"css\",\"right_units\":\"screen\",\"top_units\":\"screen\"},\"id\":\"37361\",\"type\":\"BoxAnnotation\"},{\"attributes\":{\"formatter\":{\"id\":\"37360\",\"type\":\"BasicTickFormatter\"},\"ticker\":{\"id\":\"36839\",\"type\":\"BasicTicker\"}},\"id\":\"36838\",\"type\":\"LinearAxis\"},{\"attributes\":{\"callback\":null},\"id\":\"36825\",\"type\":\"DataRange1d\"},{\"attributes\":{\"formatter\":{\"id\":\"37358\",\"type\":\"BasicTickFormatter\"},\"ticker\":{\"id\":\"36834\",\"type\":\"BasicTicker\"}},\"id\":\"36833\",\"type\":\"LinearAxis\"},{\"attributes\":{\"callback\":null},\"id\":\"36827\",\"type\":\"DataRange1d\"},{\"attributes\":{},\"id\":\"37360\",\"type\":\"BasicTickFormatter\"},{\"attributes\":{},\"id\":\"36831\",\"type\":\"LinearScale\"},{\"attributes\":{},\"id\":\"37363\",\"type\":\"Selection\"},{\"attributes\":{\"dimension\":1,\"ticker\":{\"id\":\"36839\",\"type\":\"BasicTicker\"}},\"id\":\"36842\",\"type\":\"Grid\"},{\"attributes\":{},\"id\":\"37358\",\"type\":\"BasicTickFormatter\"},{\"attributes\":{\"overlay\":{\"id\":\"37361\",\"type\":\"BoxAnnotation\"}},\"id\":\"36845\",\"type\":\"BoxZoomTool\"},{\"attributes\":{\"source\":{\"id\":\"36856\",\"type\":\"ColumnDataSource\"}},\"id\":\"36860\",\"type\":\"CDSView\"},{\"attributes\":{\"text\":\"\"},\"id\":\"37356\",\"type\":\"Title\"},{\"attributes\":{},\"id\":\"36843\",\"type\":\"PanTool\"},{\"attributes\":{\"ticker\":{\"id\":\"36834\",\"type\":\"BasicTicker\"}},\"id\":\"36837\",\"type\":\"Grid\"},{\"attributes\":{},\"id\":\"36847\",\"type\":\"ResetTool\"},{\"attributes\":{},\"id\":\"36848\",\"type\":\"HelpTool\"}],\"root_ids\":[\"36824\"]},\"title\":\"Bokeh Application\",\"version\":\"1.3.4\"}};\n",
       "  var render_items = [{\"docid\":\"2608a711-9c74-41a0-b5c0-25ed3198eb3c\",\"roots\":{\"36824\":\"2a7fc45f-e63f-47cc-8300-a27e0d8d7160\"}}];\n",
       "  root.Bokeh.embed.embed_items_notebook(docs_json, render_items);\n",
       "\n",
       "  }\n",
       "  if (root.Bokeh !== undefined) {\n",
       "    embed_document(root);\n",
       "  } else {\n",
       "    var attempts = 0;\n",
       "    var timer = setInterval(function(root) {\n",
       "      if (root.Bokeh !== undefined) {\n",
       "        embed_document(root);\n",
       "        clearInterval(timer);\n",
       "      }\n",
       "      attempts++;\n",
       "      if (attempts > 100) {\n",
       "        console.log(\"Bokeh: ERROR: Unable to run BokehJS code because BokehJS library is missing\");\n",
       "        clearInterval(timer);\n",
       "      }\n",
       "    }, 10, root)\n",
       "  }\n",
       "})(window);"
      ],
      "application/vnd.bokehjs_exec.v0+json": ""
     },
     "metadata": {
      "application/vnd.bokehjs_exec.v0+json": {
       "id": "36824"
      }
     },
     "output_type": "display_data"
    }
   ],
   "source": [
    "# Line\n",
    "\n",
    "p = figure(plot_width=300, plot_height=300)\n",
    "\n",
    "# add a circle renderer with a size, color, and alpha(for transparency)\n",
    "p.line([1, 2, 3, 4, 5], [6, 7, 1, 4, 3], line_width=2, color=\"pink\")\n",
    "\n",
    "# show the results\n",
    "show(p)"
   ]
  },
  {
   "cell_type": "markdown",
   "metadata": {},
   "source": [
    "## Creating a basic scatter plot between GDP and Life Expectancy\n",
    "Now,thatwe have a basic idea about working with Bokeh, let's start working with our original **Gapminder** dataset."
   ]
  },
  {
   "cell_type": "code",
   "execution_count": 174,
   "metadata": {},
   "outputs": [
    {
     "data": {
      "text/html": [
       "\n",
       "\n",
       "\n",
       "\n",
       "\n",
       "\n",
       "  <div class=\"bk-root\" id=\"cf2f916a-b949-4167-8e79-848ca483c0e8\" data-root-id=\"37509\"></div>\n"
      ]
     },
     "metadata": {},
     "output_type": "display_data"
    },
    {
     "data": {
      "application/javascript": [
       "(function(root) {\n",
       "  function embed_document(root) {\n",
       "    \n",
       "  var docs_json = {\"ed8f2417-a36b-4ea3-ad7d-77574011b397\":{\"roots\":{\"references\":[{\"attributes\":{\"below\":[{\"id\":\"37518\",\"type\":\"LinearAxis\"}],\"center\":[{\"id\":\"37522\",\"type\":\"Grid\"},{\"id\":\"37527\",\"type\":\"Grid\"}],\"left\":[{\"id\":\"37523\",\"type\":\"LinearAxis\"}],\"plot_height\":400,\"plot_width\":400,\"renderers\":[{\"id\":\"37544\",\"type\":\"GlyphRenderer\"}],\"title\":{\"id\":\"38050\",\"type\":\"Title\"},\"toolbar\":{\"id\":\"37534\",\"type\":\"Toolbar\"},\"x_range\":{\"id\":\"37510\",\"type\":\"DataRange1d\"},\"x_scale\":{\"id\":\"37514\",\"type\":\"LinearScale\"},\"y_range\":{\"id\":\"37512\",\"type\":\"DataRange1d\"},\"y_scale\":{\"id\":\"37516\",\"type\":\"LinearScale\"}},\"id\":\"37509\",\"subtype\":\"Figure\",\"type\":\"Plot\"},{\"attributes\":{},\"id\":\"38056\",\"type\":\"UnionRenderers\"},{\"attributes\":{\"active_drag\":\"auto\",\"active_inspect\":\"auto\",\"active_multi\":null,\"active_scroll\":\"auto\",\"active_tap\":\"auto\",\"tools\":[{\"id\":\"37528\",\"type\":\"PanTool\"},{\"id\":\"37529\",\"type\":\"WheelZoomTool\"},{\"id\":\"37530\",\"type\":\"BoxZoomTool\"},{\"id\":\"37531\",\"type\":\"SaveTool\"},{\"id\":\"37532\",\"type\":\"ResetTool\"},{\"id\":\"37533\",\"type\":\"HelpTool\"}]},\"id\":\"37534\",\"type\":\"Toolbar\"},{\"attributes\":{},\"id\":\"38057\",\"type\":\"Selection\"},{\"attributes\":{\"callback\":null,\"data\":{\"x\":{\"__ndarray__\":\"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\",\"dtype\":\"float64\",\"shape\":[1704]},\"y\":{\"__ndarray__\":\"kxgEVg7NPEChRbbz/VQ+QKwcWmQ7/z9Aw/UoXI8CQUAlBoGVQwtCQPLSTWIQOENAWmQ730/tQ0Dvp8ZLN2lEQIPAyqFF1kRAjGzn+6nhRECNl24SgxBFQESLbOf76UVAPQrXo3CdS0CkcD0K16NNQBSuR+F6NFBArkfhehSOUEBcj8L1KOxQQOxRuB6FO1FAexSuR+GaUUAAAAAAAABSQHe+nxov5VFAzczMzMw8UkCMbOf7qelSQFCNl24SG1NAYOXQItuJRUBI4XoUrtdGQBFYObTIJkhAarx0kxi0SUD8qfHSTUJLQG4Sg8DKAU1AyXa+nxqvTkBBYOXQInNQQFYOLbKd71BAfT81XrpJUUBWDi2ynb9RQCUGgZVDE1JApHA9CtcDPkA6tMh2vv8/QAAAAAAAAEFArkfhehT+QUARWDm0yPZCQOj7qfHSvUNAf2q8dJP4Q0CHFtnO9/NDQIlBYOXQUkRAJQaBlUN7RECq8dJNYoBEQCGwcmiRXUVArkfhehQ+T0Coxks3iRlQQAwCK4cWSVBAf2q8dJNoUEBcj8L1KMRQQBFYObTIHlFAPzVeukl8UUCoxks3ibFRQGQ730+N91FAmpmZmZlRUkD2KFyPwpVSQBSuR+F61FJASOF6FK5HUUCF61G4HpVRQOxRuB6Fu1FAZmZmZmbGUUDsUbgehftRQI/C9ShcX1JAj8L1KFyvUkAUrkfhehRTQKRwPQrXY1NAhetRuB61U0BI4XoUrhdUQNejcD0KT1RAMzMzMzOzUEAfhetRuN5QQMP1KFyPYlFAKVyPwvWIUUC4HoXrUahRQHsUrkfhClJA7FG4HoVLUkBcj8L1KLxSQMP1KFyPAlNAcT0K16NgU0AfhetRuL5TQJMYBFYO9VNA1HjpJjF4SUDRItv5fupKQKAaL90kdkxAoBov3ST2TUBmZmZmZqZPQMuhRbbzZVBAFtnO91NDUUAAAAAAALBRQFg5tMh2JlJAMzMzMzN7UkB7FK5H4bJSQHE9Ctej6FJAy6FFtvO9QkAGgZVDi6xDQM/3U+Olm0RARIts5/u5RUDGSzeJQaBGQKAaL90kdkdA/dR46SYBSUBFtvP91GhKQPyp8dJNAkxA2/l+ary0TUCMbOf7qQFPQIcW2c73A1BAAAAAAAAAUUCPwvUoXE9RQAAAAAAAkFFAXI/C9Si8UUBcj8L1KNxRQDMzMzMzM1JA7FG4HoV7UkBmZmZmZtZSQD0K16NwHVNAUrgehethU0AUrkfhepRTQE5iEFg53FNABoGVQ4scQ0Do+6nx0i1EQMl2vp8aT0VA4XoUrkdxRkBuEoPAyoFHQLgehetRmEhAwMqhRbZzSUBBYOXQIitKQBKDwMqh9UpA+n5qvHRjS0CIFtnO9zNLQHe+nxovXUxAokW28/00REBSuB6F6/FEQBFYObTItkVAarx0kxiERkAIrBxaZFtHQG3n+6nxAklAyqFFtvPtSkDkpZvEIKBMQNEi2/l++k1AZmZmZmYGT0AbL90kBvFPQPp+arx0Y1BAKVyPwvXoSkCamZmZmTlNQNejcD0K905Aw/UoXI8yUEDNzMzMzNxQQNejcD0Kd1FAXI/C9SisUUApXI/C9chRQAisHFpkC1JAVg4tsp1PUkD2KFyPwoVSQEoMAiuHtlJAVg4tsp3PR0DJdr6fGs9IQMP1KFyPwklAoBov3SSmSkBPjZduEgNMQEW28/3UqE1AyqFFtvO9TkBWDi2ync9PQI/C9ShcX09Au0kMAitHSkD91HjpJlFHQHe+nxovXUlATDeJQWB1SUAUrkfheqRKQIXrUbge1UtAN4lBYOXQTECNl24Sg8BNQDvfT42Xvk5AX7pJDAKrT0CF61G4Hk1QQM/3U+Olw1BARrbz/dRYUUCq8dJNYsBRQClcj8L1GFJAzczMzMzMTUDXo3A9CqdQQHE9CtejYFFAexSuR+GaUUCamZmZmblRQKRwPQrXs1FAhetRuB7FUUD2KFyPwtVRQFyPwvUozFFAFK5H4XqUUUApXI/C9QhSQLgehetRQFJAmpmZmZn5P0CHFtnO93NBQNV46SYx6EJA76fGSzdZREDP91PjpctFQKjGSzeJEUdAVg4tsp0PSECd76fGS8dIQOF6FK5HIUlAtvP91HgpSUAzMzMzM1NJQPYoXI/CJUpAhxbZzveDQ0BOYhBYOUREQPYoXI/CBUVAoBov3STGRUCd76fGSwdGQBSuR+F69EZAQDVeukm8R0BfukkMAhtIQJLtfD81XkZAfT81XrqpRkCuR+F6FK5HQArXo3A9ykhATDeJQWC1Q0ADK4cW2a5EQIXrUbgetUVAhetRuB61RkB/arx0kyhEQLgehetROD9A0SLb+X56SUChRbbz/fRKQBFYObTI5ktAMQisHFpETEDGSzeJQWBMQAaBlUOL3E1Abef7qfFCQ0ARWDm0yDZEQPyp8dJNUkVAg8DKoUVmRkCDwMqhRYZHQD0K16NwrUhAX7pJDAJ7SkCuR+F6FH5LQNR46SYxKEtAtvP91HgZSkAhsHJoke1IQNejcD0KN0lAAAAAAAAwUUA9CtejcH1RQDMzMzMz01FAuB6F61EIUkC4HoXrUThSQD0K16NwjVJAcT0K16PwUkDXo3A9CjdTQM3MzMzMfFNA16NwPQqnU0DhehSuR/FTQG8Sg8DKKVRAJQaBlUO7QUAIrBxaZLtCQM3MzMzMvENAd76fGi+9REDRItv5frpFQDMzMzMzY0dA9ihcj8IlSECuR+F6FD5JQKabxCCwskhAnMQgsHIIR0CBlUOLbKdFQAMrhxbZXkZAsp3vp8YLQ0BU46WbxPBDQM/3U+Ol20RAsXJoke3MRUBFtvP91MhGQBsv3SQGsUdAGARWDi3CSEBKDAIrh4ZJQOkmMQis3ElA001iEFjJSUAzMzMzM0NJQBfZzvdTU0lAj8L1KFxfS0C28/3UeAlMQIPAyqFF9kxAbef7qfFCTkCcxCCwcrhPQBbZzvdTw1BAXI/C9SikUUBzaJHtfB9SQPLSTWIQiFJATmIQWDn0UkDXo3A9CndTQAisHFpko1NAAAAAAAAARkD1Zz9SREZJQOPCgZAsQEZA/uxHisgwTUACE7h1N49PQLK61XPS+09AmpmZmZlhUECoxks3idFQQFyPwvUoLFFAJQaBlUObUUBvEoPAygFSQC/dJAaBPVJA/Knx0k1SSUDJdr6fGo9LQFg5tMh27kxAJQaBlUP7TUA6tMh2vs9OQEFg5dAi609AbxKDwMqpUED+1HjpJvFQQG3n+6nxGlFAeekmMQiUUUDP91PjpetRQDeJQWDlOFJA7FG4HoVbREB7FK5H4TpFQLKd76fGO0ZAI9v5fmo8R0BFtvP91HhIQNR46SYxeElAgZVDi2x3SkBKDAIrh3ZLQNR46SYx+ExAFK5H4XpUTkDpJjEIrHxPQH0/NV66SVBA/Knx0k2SQ0D6fmq8dFNEQFYOLbKdD0VAu0kMAisHRkA730+Nl/5GQPP91Hjp5kdAMQisHFrkR0Db+X5qvLRHQKAaL90kxkZAQWDl0CJLRUDP91PjpXtGQEFg5dAiO0dAku18PzUORUARWDm0yIZGQEjhehSuN0hAhetRuB4FSkBqvHSTGHRLQAAAAAAA0EtAKVyPwvVYTEBcj8L1KLxMQIGVQ4tsN0xAQWDl0CJ7SkBcj8L1KHxKQO+nxks3qUtA7nw/NV6aTEAX2c73UwNOQLKd76fGa09AQWDl0CJbUEB0kxgEVvZQQAAAAAAAsFFAzczMzMxcUkDjpZvEILBSQBODwMqh7VJAcT0K16NQU0AdWmQ734dTQDVeukkMslNAkxgEVg49REB46SYxCDxFQNejcD0Kd0ZAzczMzMysR0BKDAIrh+ZIQBxaZDvfL0pA6Pup8dL9SkCkcD0K11NLQBKDwMqhBUpAAyuHFtn+R0DRItv5fmpHQESLbOf7KUhAexSuR+GaTkDhehSuRzFQQLgehetRyFBAAAAAAAAgUUDXo3A9CmdRQClcj8L1qFFAPQrXo3CdUUDhehSuR+FRQH0/NV66IVJA7FG4HoVrUkDy0k1iELhSQB1aZDvf71JA2s73U+O1TUCamZmZmSlPQDq0yHa+T1BAw/UoXI8SUUCDwMqhRa5RQKjGSzeJKVJA2c73U+NtUkBBYOXQIotSQNEi2/l+mlJAjGzn+6kJU0AnMQisHEpTQLbz/dR4kVNASOF6FK63UEBSuB6F60FRQJqZmZmZeVFAuB6F61GYUUDD9Shcj5JRQD0K16NwrVFAPQrXo3C9UUCF61G4HuVRQJqZmZmZGVJAcT0K16OAUkBxPQrXo+BSQMl2vp8aH1NAUrgeheuxUUCkcD0K1/NRQGZmZmZmFlJAPQrXo3A9UkCuR+F6FF5SQFyPwvUorFJAuB6F61GoUkAzMzMzM7NSQIXrUbge1VJA16NwPQoHU0DsUbgehUtTQGiR7Xw/lVNADi2yne9nQUBEi2zn+6lCQGMQWDm02ENAtvP91HgJRUADK4cW2S5GQN9PjZduQkdADi2yne9nSECF61G4HgVJQFpkO99PzUlAarx0kxiUSkA6tMh2vq9KQGmR7Xw/ZUtAEVg5tMj2RkBEi2zn++lIQJduEoPAukpA5KWbxCBgTEBU46WbxNBNQL+fGi/d5E5AkxgEVg7dT0Bt5/up8YJQQGiR7Xw/HVFAaJHtfD99UUCR7Xw/NbZRQNejcD0KD1JABFYOLbItSEAhsHJoka1JQFK4HoXrUUtAEVg5tMhWTEDazvdT42VNQEjhehSup05A2c73U+MVUEARWDm0yM5QQKwcWmQ7Z1FAhxbZzvcTUkBQjZduEotSQFYOLbKdv1JA/Knx0k3yREBFtvP91DhGQOXQItv5fkdAL90kBoGlSECoxks3iZFJQEW28/3UqEpAVOOlm8QATEC8dJMYBOZNQIPAyqFF1k9A2c73U+PNUEDdJAaBlXNRQBODwMqh1VFAqMZLN4mhRkApXI/C9UhIQJ3vp8ZLJ0pAPQrXo3DtS0DRItv5fhpNQA0CK4cWWUxAWmQ7309NTEDAyqFFtpNPQFCNl24Ss1BACtejcD1iUUDl0CLb+a5RQNV46SYx+FFABFYOLbI9QUDo+6nx0v1BQK5H4XoUvkJAdJMYBFZ+Q0A1XrpJDEJEQE+Nl24SA0VA2/l+arzURUChRbbz/dRGQPYoXI/CxUdAj8L1KFwfSEAGgZVDi6xIQCYxCKwcyklAEVg5tMj2QUC8dJMYBAZDQE5iEFg5FERA1HjpJjEYRUAYBFYOLRJGQBSuR+F6REZAUrgehevxRUBEi2zn+zlHQAMrhxbZ/khAqvHSTWKwSkAfhetRuJ5LQIXrUbgeBU1ARIts5/sJQUBMN4lBYFVCQGQ730+NB0RAH4XrUbgORUBSuB6F68FFQOF6FK5HQUZAaZHtfD91RkBkO99PjVdHQM/3U+OlC0hA+n5qvHSzSEDNzMzMzFxJQO+nxks3eUpAMzMzMzOjUECPwvUoXN9QQAAAAAAAMFFAhetRuB51UUBI4XoUrrdRQOF6FK5HIVJAMzMzMzOjUkCF61G4HrVSQM3MzMzM7FJAuB6F61FIU0BI4XoUrpdTQHnpJjEI1FNACtejcD3aUEDsUbgehTtRQHE9CtejoFFAMzMzMzPjUUC4HoXrURhSQIXrUbgedVJAKVyPwvW4UkD2KFyPwhVTQD0K16NwXVNAKVyPwvWoU0D2KFyPwuVTQDVeukkMKlRAqvHSTWKAQkAdWmQ7339DQDzfT42XPkRABoGVQ4tMRkC4HoXrUVhIQIXrUbgeZUpA1HjpJjFITEC4HoXrURhOQAMrhxbZrk5AX7pJDAI7TkDFILByaGFMQK5H4XoUXkxAAAAAAAAAPkC4HoXrUQhAQKabxCCw8kBABFYOLbLtQUCBlUOLbCdDQLKd76fG60RACtejcD3KRkBSuB6F66FIQN9PjZduUkpAku18PzXuS0Bpke18PwVNQNNNYhBYuU1AAAAAAADgUEBmZmZmZkZRQDMzMzMzk1FAMzMzMzOzUUAAAAAAAMBRQAAAAAAAIFJAMzMzMzNzUkCR7Xw/NbZSQBSuR+F6BFNA9ihcj8JVU0B7FK5H4apTQESLbOf72VNAT42XbhKTRUDAyqFFtmNGQGDl0CLbOUdA76fGSzcJSEAAAAAAAPBIQFTjpZvE4ElArBxaZDvfSkBaZDvfT91LQOSlm8QgwExAu0kMAitHTUBEi2zn+zlNQIlBYOXQAk5A16NwPQp3UEDXo3A9CvdQQHE9CtejYFFAAAAAAADAUUD2KFyPwhVSQOxRuB6Fa1JAj8L1KFzPUkB7FK5H4SpTQFK4HoXrQVNAVg4tsp13U0Cq8dJNYpBTQPT91Hjp3lNAbef7qfECRUAYBFYOLRJGQCYxCKwcekdANl66SQwCSUBYObTIdt5KQMDKoUW2A0xAqMZLN4kRTUBqvHSTGGROQDq0yHa+r09A+FPjpZuUUEA830+Nlz5RQH9qvHSTkFFAy6FFtvPNQECBlUOLbEdBQKrx0k1i4EFA76fGSzeZQkCyne+nxmtDQKjGSzeJYURANl66SQxyRUAtsp3vp8ZGQH0/NV66SUhACtejcD26SUBKDAIrh9ZKQDeJQWDlAExAAAAAAABAQEA830+Nl75AQFg5tMh2PkFA5dAi2/m+QUCR7Xw/NT5CQOxRuB6Fu0JAYOXQItupQ0CPwvUoXJ9EQDZeukkMokVAOrTIdr5vRkCNl24Sg8BGQIxs5/upMUdAJzEIrBzKQkAMAiuHFllEQOxRuB6Fy0VAyXa+nxofR0BMN4lBYAVIQKAaL90k9khAX7pJDAK7SUDFILByaNFKQAisHFpki0tA2s73U+NVTECoxks3iRFNQGmR7Xw/dU5A2/l+arz0RECF61G4HlVGQGmR7Xw/BUhAg8DKoUV2SUD91HjpJvFKQPp+arx0s0xAMQisHFp0TkBzaJHtfB9QQKjGSzeJmVBAGARWDi3qUEBcj8L1KCRRQOomMQisjFFAexSuR+F6TkAAAAAAADBQQJqZmZmZ6VBAAAAAAACAUUAAAAAAAABSQGZmZmZmZlJAzczMzMzcUkDNzMzMzAxTQFg5tMh2ZlNAAAAAAAAAVEBI4XoUrl9UQFpkO99PjVRAUrgehesBUEAK16NwPZpQQD0K16Nw/VBAAAAAAABgUUBxPQrXo3BRQM3MzMzMfFFAKVyPwvVYUUCF61G4HmVRQHsUrkfhSlFAw/UoXI/CUUD2KFyPwiVSQBODwMqhVVJAj8L1KFwfUkCuR+F6FF5SQOxRuB6Fa1JAH4XrUbhuUkA9CtejcJ1SQNejcD0KB1NAj8L1KFw/U0AfhetRuE5TQOF6FK5HsVNAzczMzMy8U0AAAAAAACBUQJzEILBycFRAOrTIdr6vQkAdWmQ73x9EQD0K16NwzUVAYxBYObSYR0AX2c73U1NJQLTIdr6fGktAQDVeuklMTEARWDm0yEZNQAaBlUOLHE5AUrgehevhTkCNl24Sg3BPQOomMQisLFBAlkOLbOe7QkAv3SQGgfVDQPyp8dJNQkVACKwcWmT7RkBEi2zn+5lIQGDl0CLbWUpAMQisHFoUTECoxks3iRFOQLtJDAIrV09AtMh2vp+CUEATg8DKoSVRQJqZmZmZqVFArBxaZDtvRkC7SQwCK5dHQJqZmZmZqUhAeOkmMQg8SkDKoUW2851LQGDl0CLb2UxAj8L1KFzPTUCF61G4HoVPQHNoke18b1BAppvEILACUUC/nxov3VxRQARWDi2yvVFAKVyPwvWoRkAOLbKd7zdIQNEi2/l+uklAl24Sg8A6S0CamZmZmXlMQL+fGi/dNE5Av58aL90ET0CJQWDl0EJQQF+6SQwCu01ALIcW2c5nTUDazvdT44VMQPYoXI/CxU1ACtejcD26UECamZmZmTlRQMP1KFyPklFAhetRuB7FUUBSuB6F69FRQFK4HoXrAVJAZmZmZmZGUkDXo3A9CpdSQNnO91Pj3VJAK4cW2c4HU0AnMQisHHJTQHE9CtejuFNAKVyPwvVYUED2KFyPwvVQQClcj8L1WFFAAAAAAACwUUC4HoXrUehRQKRwPQrXQ1JAzczMzMycUkBmZmZmZuZSQOxRuB6FO1NA76fGSzeRU0AGgZVDi+xTQEjhehSuL1RAXI/C9Sh8UECkcD0K1/NQQI/C9ShcT1FApHA9CtfDUUBcj8L1KAxSQB+F61G4XlJAH4XrUbi+UkB7FK5H4RpTQFyPwvUoXFNAFK5H4Xq0U0CPwvUoXA9UQG3n+6nxIlRApHA9CtdDTUCuR+F6FE5PQNejcD0KZ1BAcT0K16PgUEAAAAAAAEBRQNejcD0Kh1FAPQrXo3DNUUDhehSuR/FRQBsv3SQG8VFAVOOlm8QQUkBeukkMAgNSQD81XrpJJFJApHA9CteDT0AAAAAAAGBQQB+F61G4LlFA7FG4HoXbUUB7FK5H4VpSQLgehetR2FJA16NwPQpHU0B7FK5H4apTQNejcD0K11NAXI/C9SgsVEAAAAAAAIBUQDvfT42XplRATmIQWDmURUASg8DKodVGQOSlm8QgEEhAjZduEoPQSUDdJAaBlUNMQP3UeOkmkU5AO99PjZfeT0BWDi2ynXdQQClcj8L1AFFAxCCwcmhxUUBGtvP91NBRQArXo3A9IlJAw/UoXI8iRUAshxbZzldGQLbz/dR4+UdAwMqhRbZTSUBkO99PjcdKQKRwPQrXE0xANl66SQxiTUAIrBxaZKtNQBSuR+F6pE1Aarx0kxg0S0Dl0CLb+X5JQK5H4XoUDktAu0kMAisHSUDufD81XgpLQIgW2c73U0xAf2q8dJP4TUDo+6nx0v1PQBgEVg4tylBAZmZmZmZGUUDEILByaKlRQDzfT42XflFASgwCK4fuUEDtfD81XqpQQF66SQwC01BARIts5/u5R0C7SQwCK1dKQEw3iUFgpUtAz/dT46XbTEB0kxgEVk5PQBsv3SQGMVBAHVpkO9/HUECkcD0K13NRQFYOLbKdD1JAxCCwcmipUkB7FK5H4UJTQB1aZDvfp1NAuB6F61HIS0BOYhBYOQRNQFyPwvUoPE5ADi2yne8nUEAhsHJoke1QQMuhRbbzVVFAsp3vp8bTUUBBYOXQIotSQFyPwvUozFJARIts5/sJU0Bg5dAi2zlTQBODwMqhZVNAEVg5tMj2S0A730+Nl75NQHjpJjEIDE9Aj8L1KFzvT0Bt5/up8VpQQHSTGARWhlBA9P3UeOm+UEAlBoGVQ/tQQKabxCCwUlFAKVyPwvWQUUBvEoPAysFRQGQ730+N/1FAjGzn+6kRRUC8dJMYBIZGQFYOLbKd30dA5dAi2/k+SEAYBFYOLeJIQLTIdr6fGkpARIts5/uJS0DXo3A9CpdMQEjhehSu101AgZVDi2zHS0CWQ4ts50tGQLKd76fGS0VAPQrXo3A9Q0CR7Xw/Nb5DQMZLN4lBQERA+FPjpZvEREA730+Nl05FQG4Sg8DK4UVAkxgEVg5tRkD6fmq8dANHQC2yne+nZkRAQDVeukkcRUCq8dJNYuBFQBFYObTI1kZABoGVQ4tcRUChRbbz/aRGQIGVQ4ts50dAkxgEVg4dSUBt5/up8WJKQH9qvHSTuExApHA9CtcTT0Dl0CLb+Y5QQLgehetRMFFA7FG4HoXjUUC6SQwCKy9SQLByaJHtfFJAukkMAitXQkAfhetRuG5DQAaBlUOLbERAVOOlm8RwRUCxcmiR7WxGQFTjpZvEcEdAeOkmMQh8SEDNzMzMzKxIQAisHFpkG0pAd76fGi99S0D4U+Olm6RMQGMQWDm0uE1AVOOlm8QgQkDRItv5fppCQBSuR+F6NENAdJMYBFa+Q0A2XrpJDOJEQBgEVg4t4kVAGARWDi3SRkDRItv5frpHQPYoXI/CtUhAj8L1KFy/R0D91HjpJoFGQBFYObTIJkhAJQaBlUM7SECTGARWDg1KQHSTGARW3ktAc2iR7XyvTUDhehSuR4FPQKrx0k1iUFBAAAAAAAAAUUAAAAAAAGBRQDEIrBxarFFAeekmMQj8UUCJQWDl0EJSQIGVQ4tsj1JASOF6FK7XQECd76fGS6dBQCuHFtnOd0JAdJMYBFY+Q0CTGARWDv1DQAisHFpk20RAaZHtfD/1RUA730+Nly5HQIxs5/upMUhA3SQGgZXzSEBjEFg5tOhJQLKd76fGO0tAL90kBoFFREAlBoGVQytFQDq0yHa+H0ZAoUW28/0kR0AOLbKd7zdIQJMYBFYObUlA6SYxCKzMSkDD9ShcjxJMQLTIdr6fKk1A16NwPQo3TkBWDi2ynR9PQNEi2/l+ClBAku18PzV+SUAIrBxaZAtNQHNoke18H05Ane+nxkvHTkBFtvP91HhPQOxRuB6FO1BAL90kBoGtUECPwvUoXC9RQEjhehSub1FAyXa+nxqvUUCTGARWDv1RQCUGgZVDM1JAoUW28/1kSUC4HoXrUZhLQIPAyqFFJk1ArkfhehQOTkCS7Xw/NS5PQDVeukkMQlBAUrgehevZUEAdWmQ7319RQIXrUbge3VFAexSuR+FqUkB9PzVeurlSQBSuR+F6DFNArBxaZDsfRUA6tMh2vp9GQOSlm8QgIEhAqvHSTWKgSUCNl24Sg+BKQAMrhxbZvktAO99PjZe+TEAj2/l+ahxOQKabxCCwok5AAAAAAADQT0AnMQisHEJQQAisHFpks1BAoUW28/2UTUDTTWIQWLlOQHe+nxov3U9ACKwcWmTLUEBjEFg5tKhRQE5iEFg5RFJAWDm0yHaGUkCPwvUoXLdSQKRwPQrX21JAFK5H4XrcUkARWDm0yH5SQJhuEoPAolJAOrTIdr5vRUCgGi/dJLZGQIPAyqFF9kdAexSuR+EqSUB0kxgEVm5KQD0K16Nw3UtAMzMzMzPTTUAtsp3vp1ZPQP7UeOkmWVBACtejcD3qUECPwvUoXGdRQNEi2/l+ylFA76fGSzdJP0DByqFFtuNAQPhT46WbFEJAWDm0yHYOQ0BEi2zn+ylEQI/C9ShcP0VA9ihcj8JlRUCS7Xw/NW5FQDEIrBxaJEZAeOkmMQgsR0AX2c73UwNGQNEi2/l+CkVARrbz/dQoQkCkcD0K1/NEQOj7qfHSjUZAjZduEoOwSEApXI/C9YhKQGQ730+NB0xAu0kMAisHTUAIrBxaZCtNQClcj8L1qE1ARIts5/spTkBOYhBYOfRNQEW28/3UCE9AzczMzMzcRECxcmiR7ZxGQMUgsHJoMUhAMQisHFqUSUDl0CLb+e5KQA4tsp3vN0xAlkOLbOd7TUB7FK5H4WpOQBxaZDvf/05AMQisHFp0TUBaZDvfT71JQIgW2c73c0pAarx0kxgUQkArhxbZztdCQPyp8dJNskNAI9v5fmq8REBANV66SfxFQDq0yHa+X0dAeOkmMQjMSEDb+X5qvERKQJMYBFYO3UtASgwCK4e2TUDsUbgehatOQBSuR+F65E9AuB6F61EIUkCPwvUoXD9SQB+F61G4TlJAFK5H4Xp0UkAAAAAAAHBSQI/C9Shcz1JAMzMzMzMDU0CF61G4HjVTQHsUrkfhWlNAUrgeheuBU0BSuB6F66FTQFTjpZvE8FNAKVyPwvVYUUBxPQrXo5BRQI/C9Shcz1FA4XoUrkfhUUApXI/C9fhRQK5H4XoUDlJA9ihcj8J1UkAUrkfhepRSQIXrUbgeFVNAMzMzMzNjU0DXo3A9CsdTQJMYBFYODVRA1HjpJjEoRUCd76fGS7dGQDeJQWDlUEhA/dR46SbxSUAX2c73U5NLQFyPwvUovExAoBov3SSmTUAbL90kBgFPQMuhRbbzdVBAJQaBlUMbUUAv3SQGgbVRQKjGSzeJOVJARrbz/dS4QkAGgZVDi0xDQHSTGARWvkNAyXa+nxoPREDZzvdT40VEQGmR7Xw/pURABoGVQ4tMRUDXo3A9CkdGQDZeukkMskdA8tJNYhCoSUBzaJHtfD9LQOXQItv5bkxAtvP91HgpQkAtsp3vp+ZCQK5H4XoUrkNAhetRuB6FREANAiuHFmlFQG4Sg8DKQUZAfT81XrrpRkDFILByaHFHQCPb+X5qvEdACKwcWmS7R0Do+6nx0k1HQMqhRbbzbUdAexSuR+EqUkBcj8L1KFxSQK5H4XoUXlJAhetRuB6FUkD2KFyPwpVSQEjhehSu11JArkfhehT+UkApXI/C9fhSQBSuR+F6VFNAFK5H4XqUU0AzMzMzM8NTQAaBlUOLDFRARIts5/vJQkAK16NwPQpEQIXrUbgelUVAWDm0yHZ+R0D8qfHSTRJKQOXQItv5rkxAd76fGi9dT0Dl0CLb+e5QQPhT46WbzFFADi2yne8fUkAxCKwcWoxSQClcj8L16FJALIcW2c63RUCd76fGS8dGQPYoXI/C1UdAZmZmZmbmSEDz/dR46fZJQC/dJAaBBUtATmIQWDkUTECPwvUoXB9NQCUGgZVDa05AYxBYObToTkCuR+F6FM5PQPT91HjpXlBAnMQgsHKYS0B9PzVeuplNQH9qvHST6E5ABoGVQ4sEUEDo+6nx0o1QQN0kBoGVK1FAke18PzWeUUC28/3UeOFRQCGwcmiRHVJArBxaZDtvUkAhsHJoka1SQO18PzVe4lJAT42XbhJTT0ANAiuHFplPQMl2vp8aF1BAv58aL908UEBcj8L1KHRQQDzfT42XllBADi2yne+3UEDVeOkmMdhQQGZmZmZmDlFAmpmZmZlZUUC4HoXrUbBRQOOlm8Qg8FFA+n5qvHTzRUCMbOf7qSFHQEA1XrpJjEhAKVyPwvW4SUDTTWIQWLlLQO+nxks3OU1AiBbZzvezTkB/arx0kwhQQFpkO99PnVBAYxBYObQYUUBEi2zn+3lRQG3n+6nx2lFAxks3iUHgR0CXbhKDwKpJQDeJQWDlYEtA/Knx0k0yTEC4HoXrUQhNQEjhehSuB05A0SLb+X4KT0CMbOf7qQlQQFpkO99PnVBAarx0kxgkUUAIrBxaZJNRQHnpJjEI7FFASOF6FK6nTkDhehSuR3FQQClcj8L16FBA16NwPQpnUUBmZmZmZrZRQHsUrkfhqlFAFK5H4XrUUUAfhetRuL5RQI/C9Shcv1FAAAAAAAAwUkB7FK5H4apSQHnpJjEI5FJAKVyPwvXoTUDhehSuR8FOQClcj8L1GFBAZmZmZmamUEBxPQrXo1BRQArXo3A9mlFA4XoUrkcxUkCkcD0K14NSQNejcD0Kt1JArkfhehT+UkDD9Shcj1JTQIPAyqFFhlNAUrgehesRUEDD9ShcjyJRQEjhehSuZ1FAZmZmZmbGUUAK16NwPQpSQFyPwvUoXFJAAAAAAABwUkC4HoXrUahSQPyp8dJNelJAppvEILC6UkBvEoPAynFTQDq0yHa+r1NA6SYxCKxcSkDsUbgehYtLQGmR7Xw/1UxATDeJQWBFTkCoxks3iRFQQGq8dJMYxFBAcT0K16N4UUDfT42XbvpRQI/C9ShcZ1JAxCCwcmixUkBWDi2yne9SQD81XrpJHFNAZmZmZmaGTkBmZmZmZgZQQDMzMzMzs1BAMzMzMzOzUEA9CtejcE1RQD0K16NwXVFACtejcD1qUUBSuB6F62FRQNejcD0KV1FArkfhehRuUUD4U+Olm9RRQFg5tMh2HlJAAAAAAAAAREAAAAAAAMBEQAAAAAAAgEVAzczMzMwMRkDNzMzMzExGQAAAAAAAgEZAlkOLbOcbR0DD9ShcjwJGQNNNYhBYmTdAQWDl0CILQkC/nxov3bRFQOXQItv5HkdAQDVeukk8R0ApXI/C9XhIQPyp8dJN8klAZmZmZmY2S0A9CtejcD1MQGZmZmZmRk1AsXJoke0sTkB3vp8aL91OQOXQItv5Xk9Au0kMAiunT0AhsHJokRVQQG8Sg8DKYVBAAAAAAADwQ0DJdr6fGm9FQKFFtvP99EZAF9nO91PzSEDFILByaPFKQLgehetRWE1AqMZLN4mBT0B7FK5H4ZJQQP7UeOkmMVFAJzEIrByiUUDy0k1iEOhRQH0/NV66MVJA3SQGgZWjQkAnMQisHKpDQCYxCKwcukRA8tJNYhDIRUC4HoXrUehGQI2XbhKDcEhAjZduEoMwSkDfT42XbuJLQA0CK4cWGU1ADi2yne8XTkDNzMzMzMxOQA4tsp3vh09Ac2iR7Xz/TEBI4XoUrtdOQESLbOf7IVBA0SLb+X66UEDNzMzMzCxRQDMzMzMzk1FA7Xw/NV6KUUDLoUW2881RQBgEVg4t6lFAAiuHFtkOUkATg8DKoU1SQOOlm8QggFJA2/l+arxUPkBSuB6F65E/QBgEVg4tYkBAWDm0yHYOQUAzMzMzM7NBQL+fGi/dZEJAKVyPwvU4Q0BU46WbxABEQLTIdr6fKkNAiUFg5dDyQ0Coxks3iYFEQGMQWDm0SEVAppvEILAyTkDz/dR46ZZPQFCNl24Sc1BABoGVQ4v8UEDTTWIQWGFRQHsUrkfhslFAcT0K16PwUUCkcD0K12NSQN9PjZdu8lJAJzEIrBxKU0DhehSuR7FTQJHtfD81/lNA16NwPQoXUEDNzMzMzNxQQIXrUbgelVFAH4XrUbi+UUBmZmZmZpZRQM3MzMzMnFFAMzMzMzOzUUCF61G4HsVRQLgehetR2FFAPQrXo3AtUkAzMzMzM3NSQN9PjZduqlJAFK5H4XpkUEBmZmZmZvZQQJqZmZmZSVFA7FG4HoVLUUAUrkfhenRRQK5H4XoUvlFAeekmMQjEUUAAAAAAABBSQClcj8L1aFJAuB6F61HIUkAK16NwPSpTQCUGgZVDe1NAd76fGi99QECTGARWDn1BQCGwcmiRfUJAkxgEVg59Q0AGgZVDi3xEQOkmMQis/ERACtejcD16RUDkpZvEIEBGQE5iEFg51ENA9ihcj8LlRUAshxbZzvdGQDEIrBxaFEhA/dR46SaBRkCuR+F6FP5HQH0/NV66+UhALbKd76f2SUANAiuHFtlKQPp+arx0w0tA+FPjpZsUTUCXbhKDwGpOQIxs5/up8U5Aku18PzUeTkAfhetRuK5KQAisHFpkq0hAXI/C9Sg8UEAK16NwPapQQFyPwvUobFFAXI/C9SjcUUCkcD0K10NSQClcj8L1mFJAMzMzMzMTU0CamZmZmTlTQBSuR+F6ZFNA4XoUrkexU0BSuB6F6/FTQE5iEFg5PFRAlkOLbOfLTEDufD81XrpOQH9qvHSTGE9AGy/dJAYRUECmm8QgsEJQQNv5fmq8fFBAnMQgsHIwUUBjEFg5tEBRQMZLN4lBmFFAaJHtfD+dUUBcj8L1KLRRQNNNYhBYGVJA4XoUrkdRQ0AdWmQ7389DQI/C9Shcb0RA6Pup8dJtRUC0yHa+n4pGQGZmZmZm5kdAJQaBlUMrSUCsHFpkO99JQLtJDAIrx0pAOrTIdr6vS0CsHFpkOy9MQLtJDAIrR01Aarx0kxi0RECDwMqhRbZFQOXQItv5fkZAGy/dJAZRR0Atsp3vp8ZIQNv5fmq8REpALIcW2c7HS0ARWDm0yNZMQOkmMQisPE1AoUW28/0kS0CsHFpkO+9FQFg5tMh2zkNA16NwPQr3UUCPwvUoXB9SQEjhehSuV1JACtejcD2KUkCuR+F6FK5SQFyPwvUo3FJAexSuR+EaU0Bcj8L1KExTQArXo3A9ilNAKVyPwvXYU0DD9ShcjwJUQH9qvHSTOFRASOF6FK5nUUCkcD0K16NRQBSuR+F61FFA4XoUrkcxUkBSuB6F63FSQClcj8L12FJAPQrXo3ANU0AK16NwPVpTQFK4HoXrgVNASOF6FK7XU0BI4XoUridUQL+fGi/dbFRAGy/dJAbxRkAxCKwcWiRIQNejcD0KJ0lApHA9CtfTSkDazvdT46VMQClcj8L1mE5A9ihcj8IlUEB0kxgEVr5QQA4tsp3vT1FAfT81XrrhUUAIrBxaZENSQP7UeOkmiVJAAAAAAABATUAzMzMzMzNPQM3MzMzMTFBAAAAAAADgUEApXI/C9VhRQPYoXI/CpVFACtejcD0KUkCamZmZmVlSQHE9CtejkFJAAAAAAADQUkCPwvUoXD9TQJqZmZmZmVNA7FG4HoWbREDpJjEIrHxFQHNoke18H0ZAN4lBYOXgRkCPwvUoXM9HQBKDwMqh9UhA6Pup8dJNSUAUrkfhesRJQLgehetROElAz/dT46U7SEAX2c73U9NIQBgEVg4tQkpABoGVQ4tsSUBxPQrXo9BKQCyHFtnOB0xAFK5H4XokTUCkcD0K1zNOQKwcWmQ7P09Ake18PzUmUEBMN4lBYIVQQFCNl24S01BA001iEFjhUEBqvHSTGCRRQIGVQ4tsp1FAPzVeuklMQ0C0yHa+n5pEQLx0kxgE9kVA30+Nl25iR0D91HjpJuFIQKjGSzeJcUpAQDVeukm8S0CcxCCwcnhMQCyHFtnOB01AUrgehesxTUAshxbZzsdMQPYoXI/CNU1AzczMzMyMTUBmZmZmZuZOQJqZmZmZOVBAmpmZmZlZUECamZmZmXlQQDMzMzMzE1FAaJHtfD81UUBoke18P2VRQLpJDAIrd1FA9ihcj8JdUUBYObTIdj5RQCPb+X5qdFFAzczMzMxMRkDNzMzMzIxHQCYxCKwcykhAEVg5tMgGSkCTGARWDs1LQEFg5dAi601AUI2XbhIDUEDvp8ZLN7lQQPLSTWIQgFFAg8DKoUX+UUCmm8QgsEJSQFCNl24Se1JAexSuR+HKRUAmMQisHApIQAaBlUOLDEpAX7pJDAIrS0BxPQrXo4BMQDeJQWDlwE1A+FPjpZuETkDo+6nx0o1PQNNNYhBYiVBAPQrXo3A1UUCuR+F6FLZRQH0/NV668VFAd76fGi/9Q0ANAiuHFklFQHjpJjEIrEZASgwCK4cGSEA2XrpJDIJJQM3MzMzMLElA6SYxCKzsSED91HjpJsFJQJqZmZmZaUhARIts5/tJRkDy0k1iEOhHQEw3iUFgxUlA7FG4HoVLUUB7FK5H4ZpRQHE9CtejsFFA16NwPQrXUUBxPQrXowBSQHE9CtejMFJAw/UoXI+CUkCcxCCwcsBSQHsUrkfhGlNAy6FFtvNNU0CgGi/dJJ5TQDMzMzMz21NAXI/C9SgcUUCPwvUoXF9RQD0K16NwjVFAcT0K16OwUUD2KFyPwtVRQLgehetRWFJAmpmZmZmpUkDhehSuR8FSQPYoXI/CBVNApHA9CtczU0CkcD0K11NTQHNoke18j1NABoGVQ4uEUECJQWDl0MJQQNV46SYxEFFAy6FFtvMdUUBQjZduEitRQBFYObTIXlFA7FG4HoWzUUCYbhKDwPpRQOOlm8QgMFJAg8DKoUWOUkDP91PjpdNSQH9qvHSTGFNAJQaBlUOLS0BqvHSTGPRMQMP1KFyPYk5AWmQ730+9T0AhsHJokW1QQHe+nxov3VBAz/dT46UjUUBcj8L1KIxRQJqZmZmZyVFA001iEFgJUkAbL90kBjFSQCuHFtnOb1JA2/l+arw0RECoxks3iXFFQFg5tMh2rkZAJQaBlUPrR0CNl24SgyBJQG4Sg8DK4UtAnMQgsHJoTUApXI/C9WhPQO18PzVe6lBAXrpJDAKrUUAMAiuHFkFSQA4tsp3vj1JAFK5H4XqURUDazvdT49VGQMZLN4lBEEhAVOOlm8TQSUBqvHSTGERMQFK4HoXrYU5ARIts5/sZUEBt5/up8cJQQMuhRbbzbVFAoBov3STGUUBI4XoUrhdSQF66SQwCW1JAoBov3SRGQEBcj8L1KPxAQNejcD0Kl0FAy6FFtvN9QkAGgZVDi+xDQGZmZmZmFkZAWDm0yHaOSEC8dJMYBHZKQOkmMQiszEtAw/UoXI8CTUCBlUOLbCdOQNNNYhBYWU9Av58aL90ERUBg5dAi2wlGQG3n+6nxAkdA/Knx0k3iR0AEVg4tsg1JQMUgsHJosUlADQIrhxbpSUANAiuHFmlJQM3MzMzMDEdAWDm0yHYeREBjEFg5tJhDQP3UeOkmMUVAfT81Xro5SEB46SYxCDxJQOj7qfHSLUpAj8L1KFz/SkDhehSuR9FLQIPAyqFF1kxAWDm0yHYuTkCxcmiR7SxPQMZLN4lBME5AZDvfT41nR0A830+Nl/5DQHSTGARWvkVA\",\"dtype\":\"float64\",\"shape\":[1704]}},\"selected\":{\"id\":\"38057\",\"type\":\"Selection\"},\"selection_policy\":{\"id\":\"38056\",\"type\":\"UnionRenderers\"}},\"id\":\"37541\",\"type\":\"ColumnDataSource\"},{\"attributes\":{\"bottom_units\":\"screen\",\"fill_alpha\":{\"value\":0.5},\"fill_color\":{\"value\":\"lightgrey\"},\"left_units\":\"screen\",\"level\":\"overlay\",\"line_alpha\":{\"value\":1.0},\"line_color\":{\"value\":\"black\"},\"line_dash\":[4,4],\"line_width\":{\"value\":2},\"render_mode\":\"css\",\"right_units\":\"screen\",\"top_units\":\"screen\"},\"id\":\"38055\",\"type\":\"BoxAnnotation\"},{\"attributes\":{\"ticker\":{\"id\":\"37519\",\"type\":\"BasicTicker\"}},\"id\":\"37522\",\"type\":\"Grid\"},{\"attributes\":{\"axis_label\":\"Life Expectancy\",\"formatter\":{\"id\":\"38054\",\"type\":\"BasicTickFormatter\"},\"ticker\":{\"id\":\"37524\",\"type\":\"BasicTicker\"}},\"id\":\"37523\",\"type\":\"LinearAxis\"},{\"attributes\":{\"callback\":null},\"id\":\"37512\",\"type\":\"DataRange1d\"},{\"attributes\":{},\"id\":\"38054\",\"type\":\"BasicTickFormatter\"},{\"attributes\":{\"text\":\"\"},\"id\":\"38050\",\"type\":\"Title\"},{\"attributes\":{\"callback\":null},\"id\":\"37510\",\"type\":\"DataRange1d\"},{\"attributes\":{},\"id\":\"37531\",\"type\":\"SaveTool\"},{\"attributes\":{},\"id\":\"37524\",\"type\":\"BasicTicker\"},{\"attributes\":{},\"id\":\"37532\",\"type\":\"ResetTool\"},{\"attributes\":{\"fill_alpha\":{\"value\":0.1},\"fill_color\":{\"value\":\"#1f77b4\"},\"line_alpha\":{\"value\":0.1},\"line_color\":{\"value\":\"#1f77b4\"},\"x\":{\"field\":\"x\"},\"y\":{\"field\":\"y\"}},\"id\":\"37543\",\"type\":\"Circle\"},{\"attributes\":{\"fill_color\":{\"value\":\"#1f77b4\"},\"line_color\":{\"value\":\"#1f77b4\"},\"x\":{\"field\":\"x\"},\"y\":{\"field\":\"y\"}},\"id\":\"37542\",\"type\":\"Circle\"},{\"attributes\":{},\"id\":\"37514\",\"type\":\"LinearScale\"},{\"attributes\":{\"overlay\":{\"id\":\"38055\",\"type\":\"BoxAnnotation\"}},\"id\":\"37530\",\"type\":\"BoxZoomTool\"},{\"attributes\":{},\"id\":\"37528\",\"type\":\"PanTool\"},{\"attributes\":{},\"id\":\"37519\",\"type\":\"BasicTicker\"},{\"attributes\":{},\"id\":\"37516\",\"type\":\"LinearScale\"},{\"attributes\":{\"data_source\":{\"id\":\"37541\",\"type\":\"ColumnDataSource\"},\"glyph\":{\"id\":\"37542\",\"type\":\"Circle\"},\"hover_glyph\":null,\"muted_glyph\":null,\"nonselection_glyph\":{\"id\":\"37543\",\"type\":\"Circle\"},\"selection_glyph\":null,\"view\":{\"id\":\"37545\",\"type\":\"CDSView\"}},\"id\":\"37544\",\"type\":\"GlyphRenderer\"},{\"attributes\":{\"axis_label\":\"GDP per Capita\",\"formatter\":{\"id\":\"38052\",\"type\":\"BasicTickFormatter\"},\"ticker\":{\"id\":\"37519\",\"type\":\"BasicTicker\"}},\"id\":\"37518\",\"type\":\"LinearAxis\"},{\"attributes\":{},\"id\":\"38052\",\"type\":\"BasicTickFormatter\"},{\"attributes\":{\"dimension\":1,\"ticker\":{\"id\":\"37524\",\"type\":\"BasicTicker\"}},\"id\":\"37527\",\"type\":\"Grid\"},{\"attributes\":{},\"id\":\"37529\",\"type\":\"WheelZoomTool\"},{\"attributes\":{},\"id\":\"37533\",\"type\":\"HelpTool\"},{\"attributes\":{\"source\":{\"id\":\"37541\",\"type\":\"ColumnDataSource\"}},\"id\":\"37545\",\"type\":\"CDSView\"}],\"root_ids\":[\"37509\"]},\"title\":\"Bokeh Application\",\"version\":\"1.3.4\"}};\n",
       "  var render_items = [{\"docid\":\"ed8f2417-a36b-4ea3-ad7d-77574011b397\",\"roots\":{\"37509\":\"cf2f916a-b949-4167-8e79-848ca483c0e8\"}}];\n",
       "  root.Bokeh.embed.embed_items_notebook(docs_json, render_items);\n",
       "\n",
       "  }\n",
       "  if (root.Bokeh !== undefined) {\n",
       "    embed_document(root);\n",
       "  } else {\n",
       "    var attempts = 0;\n",
       "    var timer = setInterval(function(root) {\n",
       "      if (root.Bokeh !== undefined) {\n",
       "        embed_document(root);\n",
       "        clearInterval(timer);\n",
       "      }\n",
       "      attempts++;\n",
       "      if (attempts > 100) {\n",
       "        console.log(\"Bokeh: ERROR: Unable to run BokehJS code because BokehJS library is missing\");\n",
       "        clearInterval(timer);\n",
       "      }\n",
       "    }, 10, root)\n",
       "  }\n",
       "})(window);"
      ],
      "application/vnd.bokehjs_exec.v0+json": ""
     },
     "metadata": {
      "application/vnd.bokehjs_exec.v0+json": {
       "id": "37509"
      }
     },
     "output_type": "display_data"
    }
   ],
   "source": [
    "from bokeh.io import show\n",
    "from bokeh.plotting import figure\n",
    "\n",
    "p = figure(height = 400, width = 400)\n",
    "p.circle(x = data['gdpPercap'], y = data['lifeExp'])\n",
    "p.xaxis.axis_label = \"GDP per Capita\"\n",
    "p.yaxis.axis_label = \"Life Expectancy\"\n",
    "show(p)"
   ]
  },
  {
   "cell_type": "markdown",
   "metadata": {},
   "source": [
    "## Customizing the plot\n",
    "\n",
    "Let's customize out plot by :\n",
    "\n",
    "* changing the color and the alpha value which decides the transparency. \n",
    "* Also, the plot is skewed and it will mak much more sense if we change the x-axis to logarithmic scale. We would also set the ranges for both the axes.\n",
    "* Adding the [NumeralTickFormatter](https://docs.bokeh.org/en/latest/docs/reference/models/formatters.html#bokeh.models.formatters.NumeralTickFormatter) to to format x-axis to $ format"
   ]
  },
  {
   "cell_type": "code",
   "execution_count": 175,
   "metadata": {},
   "outputs": [
    {
     "data": {
      "text/html": [
       "\n",
       "\n",
       "\n",
       "\n",
       "\n",
       "\n",
       "  <div class=\"bk-root\" id=\"be06caf7-8291-4d02-ac07-11dd8b72aff4\" data-root-id=\"38203\"></div>\n"
      ]
     },
     "metadata": {},
     "output_type": "display_data"
    },
    {
     "data": {
      "application/javascript": [
       "(function(root) {\n",
       "  function embed_document(root) {\n",
       "    \n",
       "  var docs_json = {\"a9cfcfc2-ad19-4121-9a99-c5ed36608f38\":{\"roots\":{\"references\":[{\"attributes\":{\"below\":[{\"id\":\"38214\",\"type\":\"LogAxis\"}],\"center\":[{\"id\":\"38218\",\"type\":\"Grid\"},{\"id\":\"38223\",\"type\":\"Grid\"}],\"left\":[{\"id\":\"38219\",\"type\":\"LinearAxis\"}],\"plot_height\":400,\"renderers\":[{\"id\":\"38240\",\"type\":\"GlyphRenderer\"}],\"title\":{\"id\":\"38204\",\"type\":\"Title\"},\"toolbar\":{\"id\":\"38230\",\"type\":\"Toolbar\"},\"x_range\":{\"id\":\"38206\",\"type\":\"Range1d\"},\"x_scale\":{\"id\":\"38210\",\"type\":\"LogScale\"},\"y_range\":{\"id\":\"38208\",\"type\":\"Range1d\"},\"y_scale\":{\"id\":\"38212\",\"type\":\"LinearScale\"}},\"id\":\"38203\",\"subtype\":\"Figure\",\"type\":\"Plot\"},{\"attributes\":{\"dimension\":1,\"ticker\":{\"id\":\"38220\",\"type\":\"BasicTicker\"}},\"id\":\"38223\",\"type\":\"Grid\"},{\"attributes\":{\"overlay\":{\"id\":\"38760\",\"type\":\"BoxAnnotation\"}},\"id\":\"38226\",\"type\":\"BoxZoomTool\"},{\"attributes\":{\"callback\":null,\"data\":{\"x\":{\"__ndarray__\":\"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\",\"dtype\":\"float64\",\"shape\":[1704]},\"y\":{\"__ndarray__\":\"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\",\"dtype\":\"float64\",\"shape\":[1704]}},\"selected\":{\"id\":\"38762\",\"type\":\"Selection\"},\"selection_policy\":{\"id\":\"38761\",\"type\":\"UnionRenderers\"}},\"id\":\"38237\",\"type\":\"ColumnDataSource\"},{\"attributes\":{},\"id\":\"38227\",\"type\":\"SaveTool\"},{\"attributes\":{},\"id\":\"38229\",\"type\":\"HelpTool\"},{\"attributes\":{\"text\":\"Life Expectancy vs GDP of Nations \"},\"id\":\"38204\",\"type\":\"Title\"},{\"attributes\":{},\"id\":\"38228\",\"type\":\"ResetTool\"},{\"attributes\":{\"active_drag\":\"auto\",\"active_inspect\":\"auto\",\"active_multi\":null,\"active_scroll\":\"auto\",\"active_tap\":\"auto\",\"tools\":[{\"id\":\"38224\",\"type\":\"PanTool\"},{\"id\":\"38225\",\"type\":\"WheelZoomTool\"},{\"id\":\"38226\",\"type\":\"BoxZoomTool\"},{\"id\":\"38227\",\"type\":\"SaveTool\"},{\"id\":\"38228\",\"type\":\"ResetTool\"},{\"id\":\"38229\",\"type\":\"HelpTool\"}]},\"id\":\"38230\",\"type\":\"Toolbar\"},{\"attributes\":{},\"id\":\"38761\",\"type\":\"UnionRenderers\"},{\"attributes\":{\"fill_alpha\":{\"value\":0.1},\"fill_color\":{\"value\":\"#1f77b4\"},\"line_alpha\":{\"value\":0.1},\"line_color\":{\"value\":\"#1f77b4\"},\"x\":{\"field\":\"x\"},\"y\":{\"field\":\"y\"}},\"id\":\"38239\",\"type\":\"Circle\"},{\"attributes\":{\"source\":{\"id\":\"38237\",\"type\":\"ColumnDataSource\"}},\"id\":\"38241\",\"type\":\"CDSView\"},{\"attributes\":{},\"id\":\"38225\",\"type\":\"WheelZoomTool\"},{\"attributes\":{\"data_source\":{\"id\":\"38237\",\"type\":\"ColumnDataSource\"},\"glyph\":{\"id\":\"38238\",\"type\":\"Circle\"},\"hover_glyph\":null,\"muted_glyph\":null,\"nonselection_glyph\":{\"id\":\"38239\",\"type\":\"Circle\"},\"selection_glyph\":null,\"view\":{\"id\":\"38241\",\"type\":\"CDSView\"}},\"id\":\"38240\",\"type\":\"GlyphRenderer\"},{\"attributes\":{\"callback\":null,\"end\":100000,\"start\":100},\"id\":\"38206\",\"type\":\"Range1d\"},{\"attributes\":{},\"id\":\"38224\",\"type\":\"PanTool\"},{\"attributes\":{},\"id\":\"38210\",\"type\":\"LogScale\"},{\"attributes\":{\"bottom_units\":\"screen\",\"fill_alpha\":{\"value\":0.5},\"fill_color\":{\"value\":\"lightgrey\"},\"left_units\":\"screen\",\"level\":\"overlay\",\"line_alpha\":{\"value\":1.0},\"line_color\":{\"value\":\"black\"},\"line_dash\":[4,4],\"line_width\":{\"value\":2},\"render_mode\":\"css\",\"right_units\":\"screen\",\"top_units\":\"screen\"},\"id\":\"38760\",\"type\":\"BoxAnnotation\"},{\"attributes\":{},\"id\":\"38212\",\"type\":\"LinearScale\"},{\"attributes\":{\"format\":\"$0,\"},\"id\":\"38242\",\"type\":\"NumeralTickFormatter\"},{\"attributes\":{},\"id\":\"38762\",\"type\":\"Selection\"},{\"attributes\":{\"fill_alpha\":{\"value\":0.6},\"fill_color\":{\"value\":\"orange\"},\"line_alpha\":{\"value\":0.6},\"line_color\":{\"value\":\"orange\"},\"x\":{\"field\":\"x\"},\"y\":{\"field\":\"y\"}},\"id\":\"38238\",\"type\":\"Circle\"},{\"attributes\":{\"axis_label\":\"GDP per Capita\",\"formatter\":{\"id\":\"38242\",\"type\":\"NumeralTickFormatter\"},\"ticker\":{\"id\":\"38215\",\"type\":\"LogTicker\"}},\"id\":\"38214\",\"type\":\"LogAxis\"},{\"attributes\":{\"num_minor_ticks\":10},\"id\":\"38215\",\"type\":\"LogTicker\"},{\"attributes\":{\"callback\":null,\"end\":100},\"id\":\"38208\",\"type\":\"Range1d\"},{\"attributes\":{\"axis_label\":\"Life Expectancy\",\"formatter\":{\"id\":\"38759\",\"type\":\"BasicTickFormatter\"},\"ticker\":{\"id\":\"38220\",\"type\":\"BasicTicker\"}},\"id\":\"38219\",\"type\":\"LinearAxis\"},{\"attributes\":{},\"id\":\"38220\",\"type\":\"BasicTicker\"},{\"attributes\":{},\"id\":\"38759\",\"type\":\"BasicTickFormatter\"},{\"attributes\":{\"ticker\":{\"id\":\"38215\",\"type\":\"LogTicker\"}},\"id\":\"38218\",\"type\":\"Grid\"}],\"root_ids\":[\"38203\"]},\"title\":\"Bokeh Application\",\"version\":\"1.3.4\"}};\n",
       "  var render_items = [{\"docid\":\"a9cfcfc2-ad19-4121-9a99-c5ed36608f38\",\"roots\":{\"38203\":\"be06caf7-8291-4d02-ac07-11dd8b72aff4\"}}];\n",
       "  root.Bokeh.embed.embed_items_notebook(docs_json, render_items);\n",
       "\n",
       "  }\n",
       "  if (root.Bokeh !== undefined) {\n",
       "    embed_document(root);\n",
       "  } else {\n",
       "    var attempts = 0;\n",
       "    var timer = setInterval(function(root) {\n",
       "      if (root.Bokeh !== undefined) {\n",
       "        embed_document(root);\n",
       "        clearInterval(timer);\n",
       "      }\n",
       "      attempts++;\n",
       "      if (attempts > 100) {\n",
       "        console.log(\"Bokeh: ERROR: Unable to run BokehJS code because BokehJS library is missing\");\n",
       "        clearInterval(timer);\n",
       "      }\n",
       "    }, 10, root)\n",
       "  }\n",
       "})(window);"
      ],
      "application/vnd.bokehjs_exec.v0+json": ""
     },
     "metadata": {
      "application/vnd.bokehjs_exec.v0+json": {
       "id": "38203"
      }
     },
     "output_type": "display_data"
    }
   ],
   "source": [
    "from bokeh.io import show\n",
    "from bokeh.plotting import figure\n",
    "\n",
    "\n",
    "p = figure(\n",
    "    height = 400, \n",
    "    width = 600,\n",
    "    x_axis_type = 'log',\n",
    "    x_range =(100,100000), y_range = (0,100),\n",
    "    title = \"Life Expectancy vs GDP of Nations \",)\n",
    "\n",
    "p.circle(x = data['gdpPercap'], y = data['lifeExp'],color=\"orange\",alpha = 0.6)\n",
    "p.xaxis.axis_label = \"GDP per Capita\"\n",
    "p.yaxis.axis_label = \"Life Expectancy\"\n",
    "\n",
    "\n",
    "from bokeh.models import NumeralTickFormatter\n",
    "p.xaxis[0].formatter = NumeralTickFormatter(format='$0,')\n",
    "\n",
    "show(p)"
   ]
  },
  {
   "cell_type": "markdown",
   "metadata": {},
   "source": [
    "## ColumnData Source\n",
    "\n",
    "Let's choose a specific year instead of taking in all the years, which is a lot of data. Let's see the relationship betwwen GDP and Life expectancy in 2007. For this we shall use the ColumnDataSoure Object.\n",
    "\n",
    "ColumnDataSource is a built in functionality within Bokeh to handle various data structures like:\n",
    "* Python dict\n",
    "* Pandas Dataframe\n",
    "* Pandas groupby\n",
    "\n",
    "The COlumnDataSOurce helps to pass the data to the glyphs for the purpose of visualisation. It essentially maps name of the column to the data.\n"
   ]
  },
  {
   "cell_type": "code",
   "execution_count": 176,
   "metadata": {},
   "outputs": [],
   "source": [
    "# Choosing year 2007\n",
    "\n",
    "from bokeh.models import ColumnDataSource\n",
    "source = ColumnDataSource(data.loc[2007])"
   ]
  },
  {
   "cell_type": "code",
   "execution_count": 177,
   "metadata": {},
   "outputs": [
    {
     "data": {
      "text/html": [
       "\n",
       "\n",
       "\n",
       "\n",
       "\n",
       "\n",
       "  <div class=\"bk-root\" id=\"814f931d-5290-470d-a617-a06acc903964\" data-root-id=\"38877\"></div>\n"
      ]
     },
     "metadata": {},
     "output_type": "display_data"
    },
    {
     "data": {
      "application/javascript": [
       "(function(root) {\n",
       "  function embed_document(root) {\n",
       "    \n",
       "  var docs_json = {\"d0813fee-3b49-41d5-af93-f37832bb0c3f\":{\"roots\":{\"references\":[{\"attributes\":{\"below\":[{\"id\":\"38888\",\"type\":\"LogAxis\"}],\"center\":[{\"id\":\"38892\",\"type\":\"Grid\"},{\"id\":\"38897\",\"type\":\"Grid\"}],\"left\":[{\"id\":\"38893\",\"type\":\"LinearAxis\"}],\"plot_height\":400,\"renderers\":[{\"id\":\"38914\",\"type\":\"GlyphRenderer\"}],\"title\":{\"id\":\"38878\",\"type\":\"Title\"},\"toolbar\":{\"id\":\"38904\",\"type\":\"Toolbar\"},\"x_range\":{\"id\":\"38880\",\"type\":\"Range1d\"},\"x_scale\":{\"id\":\"38884\",\"type\":\"LogScale\"},\"y_range\":{\"id\":\"38882\",\"type\":\"Range1d\"},\"y_scale\":{\"id\":\"38886\",\"type\":\"LinearScale\"}},\"id\":\"38877\",\"subtype\":\"Figure\",\"type\":\"Plot\"},{\"attributes\":{\"num_minor_ticks\":10},\"id\":\"38889\",\"type\":\"LogTicker\"},{\"attributes\":{\"format\":\"$0,\"},\"id\":\"38916\",\"type\":\"NumeralTickFormatter\"},{\"attributes\":{\"overlay\":{\"id\":\"39441\",\"type\":\"BoxAnnotation\"}},\"id\":\"38900\",\"type\":\"BoxZoomTool\"},{\"attributes\":{},\"id\":\"38894\",\"type\":\"BasicTicker\"},{\"attributes\":{},\"id\":\"39443\",\"type\":\"Selection\"},{\"attributes\":{},\"id\":\"38899\",\"type\":\"WheelZoomTool\"},{\"attributes\":{},\"id\":\"39442\",\"type\":\"UnionRenderers\"},{\"attributes\":{},\"id\":\"38901\",\"type\":\"SaveTool\"},{\"attributes\":{},\"id\":\"38903\",\"type\":\"HelpTool\"},{\"attributes\":{},\"id\":\"38902\",\"type\":\"ResetTool\"},{\"attributes\":{\"bottom_units\":\"screen\",\"fill_alpha\":{\"value\":0.5},\"fill_color\":{\"value\":\"lightgrey\"},\"left_units\":\"screen\",\"level\":\"overlay\",\"line_alpha\":{\"value\":1.0},\"line_color\":{\"value\":\"black\"},\"line_dash\":[4,4],\"line_width\":{\"value\":2},\"render_mode\":\"css\",\"right_units\":\"screen\",\"top_units\":\"screen\"},\"id\":\"39441\",\"type\":\"BoxAnnotation\"},{\"attributes\":{},\"id\":\"39440\",\"type\":\"BasicTickFormatter\"},{\"attributes\":{\"active_drag\":\"auto\",\"active_inspect\":\"auto\",\"active_multi\":null,\"active_scroll\":\"auto\",\"active_tap\":\"auto\",\"tools\":[{\"id\":\"38898\",\"type\":\"PanTool\"},{\"id\":\"38899\",\"type\":\"WheelZoomTool\"},{\"id\":\"38900\",\"type\":\"BoxZoomTool\"},{\"id\":\"38901\",\"type\":\"SaveTool\"},{\"id\":\"38902\",\"type\":\"ResetTool\"},{\"id\":\"38903\",\"type\":\"HelpTool\"}]},\"id\":\"38904\",\"type\":\"Toolbar\"},{\"attributes\":{\"axis_label\":\"Life Expectancy\",\"formatter\":{\"id\":\"39440\",\"type\":\"BasicTickFormatter\"},\"ticker\":{\"id\":\"38894\",\"type\":\"BasicTicker\"}},\"id\":\"38893\",\"type\":\"LinearAxis\"},{\"attributes\":{\"text\":\"Life Expectancy vs GDP of Nations for 2010\"},\"id\":\"38878\",\"type\":\"Title\"},{\"attributes\":{\"dimension\":1,\"ticker\":{\"id\":\"38894\",\"type\":\"BasicTicker\"}},\"id\":\"38897\",\"type\":\"Grid\"},{\"attributes\":{\"source\":{\"id\":\"38876\",\"type\":\"ColumnDataSource\"}},\"id\":\"38915\",\"type\":\"CDSView\"},{\"attributes\":{\"ticker\":{\"id\":\"38889\",\"type\":\"LogTicker\"}},\"id\":\"38892\",\"type\":\"Grid\"},{\"attributes\":{},\"id\":\"38898\",\"type\":\"PanTool\"},{\"attributes\":{\"fill_alpha\":{\"value\":0.1},\"fill_color\":{\"value\":\"#1f77b4\"},\"line_alpha\":{\"value\":0.1},\"line_color\":{\"value\":\"#1f77b4\"},\"x\":{\"field\":\"gdpPercap\"},\"y\":{\"field\":\"lifeExp\"}},\"id\":\"38913\",\"type\":\"Circle\"},{\"attributes\":{\"axis_label\":\"GDP per Capita\",\"formatter\":{\"id\":\"38916\",\"type\":\"NumeralTickFormatter\"},\"ticker\":{\"id\":\"38889\",\"type\":\"LogTicker\"}},\"id\":\"38888\",\"type\":\"LogAxis\"},{\"attributes\":{\"callback\":null,\"end\":100},\"id\":\"38882\",\"type\":\"Range1d\"},{\"attributes\":{\"data_source\":{\"id\":\"38876\",\"type\":\"ColumnDataSource\"},\"glyph\":{\"id\":\"38912\",\"type\":\"Circle\"},\"hover_glyph\":null,\"muted_glyph\":null,\"nonselection_glyph\":{\"id\":\"38913\",\"type\":\"Circle\"},\"selection_glyph\":null,\"view\":{\"id\":\"38915\",\"type\":\"CDSView\"}},\"id\":\"38914\",\"type\":\"GlyphRenderer\"},{\"attributes\":{\"fill_alpha\":{\"value\":0.6},\"fill_color\":{\"value\":\"orange\"},\"line_alpha\":{\"value\":0.6},\"line_color\":{\"value\":\"orange\"},\"x\":{\"field\":\"gdpPercap\"},\"y\":{\"field\":\"lifeExp\"}},\"id\":\"38912\",\"type\":\"Circle\"},{\"attributes\":{},\"id\":\"38884\",\"type\":\"LogScale\"},{\"attributes\":{\"callback\":null,\"data\":{\"continent\":[\"Asia\",\"Europe\",\"Africa\",\"Africa\",\"Americas\",\"Oceania\",\"Europe\",\"Asia\",\"Asia\",\"Europe\",\"Africa\",\"Americas\",\"Europe\",\"Africa\",\"Americas\",\"Europe\",\"Africa\",\"Africa\",\"Asia\",\"Africa\",\"Americas\",\"Africa\",\"Africa\",\"Americas\",\"Asia\",\"Americas\",\"Africa\",\"Africa\",\"Africa\",\"Americas\",\"Africa\",\"Europe\",\"Americas\",\"Europe\",\"Europe\",\"Africa\",\"Americas\",\"Americas\",\"Africa\",\"Americas\",\"Africa\",\"Africa\",\"Africa\",\"Europe\",\"Europe\",\"Africa\",\"Africa\",\"Europe\",\"Africa\",\"Europe\",\"Americas\",\"Africa\",\"Africa\",\"Americas\",\"Americas\",\"Asia\",\"Europe\",\"Europe\",\"Asia\",\"Asia\",\"Asia\",\"Asia\",\"Europe\",\"Asia\",\"Europe\",\"Americas\",\"Asia\",\"Asia\",\"Africa\",\"Asia\",\"Asia\",\"Asia\",\"Asia\",\"Africa\",\"Africa\",\"Africa\",\"Africa\",\"Africa\",\"Asia\",\"Africa\",\"Africa\",\"Africa\",\"Americas\",\"Asia\",\"Europe\",\"Africa\",\"Africa\",\"Asia\",\"Africa\",\"Asia\",\"Europe\",\"Oceania\",\"Americas\",\"Africa\",\"Africa\",\"Europe\",\"Asia\",\"Asia\",\"Americas\",\"Americas\",\"Americas\",\"Asia\",\"Europe\",\"Europe\",\"Americas\",\"Africa\",\"Europe\",\"Africa\",\"Africa\",\"Asia\",\"Africa\",\"Europe\",\"Africa\",\"Asia\",\"Europe\",\"Europe\",\"Africa\",\"Africa\",\"Europe\",\"Asia\",\"Africa\",\"Africa\",\"Europe\",\"Europe\",\"Asia\",\"Asia\",\"Africa\",\"Asia\",\"Africa\",\"Americas\",\"Africa\",\"Europe\",\"Africa\",\"Europe\",\"Americas\",\"Americas\",\"Americas\",\"Asia\",\"Asia\",\"Asia\",\"Africa\",\"Africa\"],\"country\":[\"Afghanistan\",\"Albania\",\"Algeria\",\"Angola\",\"Argentina\",\"Australia\",\"Austria\",\"Bahrain\",\"Bangladesh\",\"Belgium\",\"Benin\",\"Bolivia\",\"Bosnia and Herzegovina\",\"Botswana\",\"Brazil\",\"Bulgaria\",\"Burkina Faso\",\"Burundi\",\"Cambodia\",\"Cameroon\",\"Canada\",\"Central African Republic\",\"Chad\",\"Chile\",\"China\",\"Colombia\",\"Comoros\",\"Congo, Dem. Rep.\",\"Congo, Rep.\",\"Costa Rica\",\"Cote d'Ivoire\",\"Croatia\",\"Cuba\",\"Czech Republic\",\"Denmark\",\"Djibouti\",\"Dominican Republic\",\"Ecuador\",\"Egypt\",\"El Salvador\",\"Equatorial Guinea\",\"Eritrea\",\"Ethiopia\",\"Finland\",\"France\",\"Gabon\",\"Gambia\",\"Germany\",\"Ghana\",\"Greece\",\"Guatemala\",\"Guinea\",\"Guinea-Bissau\",\"Haiti\",\"Honduras\",\"Hong Kong, China\",\"Hungary\",\"Iceland\",\"India\",\"Indonesia\",\"Iran\",\"Iraq\",\"Ireland\",\"Israel\",\"Italy\",\"Jamaica\",\"Japan\",\"Jordan\",\"Kenya\",\"Korea, Dem. Rep.\",\"Korea, Rep.\",\"Kuwait\",\"Lebanon\",\"Lesotho\",\"Liberia\",\"Libya\",\"Madagascar\",\"Malawi\",\"Malaysia\",\"Mali\",\"Mauritania\",\"Mauritius\",\"Mexico\",\"Mongolia\",\"Montenegro\",\"Morocco\",\"Mozambique\",\"Myanmar\",\"Namibia\",\"Nepal\",\"Netherlands\",\"New Zealand\",\"Nicaragua\",\"Niger\",\"Nigeria\",\"Norway\",\"Oman\",\"Pakistan\",\"Panama\",\"Paraguay\",\"Peru\",\"Philippines\",\"Poland\",\"Portugal\",\"Puerto Rico\",\"Reunion\",\"Romania\",\"Rwanda\",\"Sao Tome and Principe\",\"Saudi Arabia\",\"Senegal\",\"Serbia\",\"Sierra Leone\",\"Singapore\",\"Slovak Republic\",\"Slovenia\",\"Somalia\",\"South Africa\",\"Spain\",\"Sri Lanka\",\"Sudan\",\"Swaziland\",\"Sweden\",\"Switzerland\",\"Syria\",\"Taiwan\",\"Tanzania\",\"Thailand\",\"Togo\",\"Trinidad and Tobago\",\"Tunisia\",\"Turkey\",\"Uganda\",\"United Kingdom\",\"United States\",\"Uruguay\",\"Venezuela\",\"Vietnam\",\"West Bank and Gaza\",\"Yemen, Rep.\",\"Zambia\",\"Zimbabwe\"],\"gdpPercap\":{\"__ndarray__\":\"54R1iKR0jkBhFASPBzG3QG2tLxJeT7hApWlQNDu9skAhJAuYsPXIQOeHEcJr0OBAWMoyxM+j4UDFpwAYAxndQPLPDOIDvZVAb7vQXJNz4EAOar+1I4WWQJ3B3y9G3K1A8nhafkwWvUDcoswG7YzIQGkAb4HmtMFAzzEge2XcxEDb2y3JIQSTQKLhg40h4XpAad/cXx3HmkAVNZiGYeifQAixM4Xnu+FAZJEm3iEQhkDhP91AQaCaQIY41sXRuclA0F0SZx1fs0D67laWlF67QBM+Stsu0Y5ANcjJadRYcUCMD7OXHWGsQKlNnNyH1sJAWTFcHQAjmEAUxhaCnI3MQIGzlCwNesFAH7qgvlNM1kCxbVFmzTnhQKsn84/2RKBAHUC/71+Jt0Dl9ssnQ9m6QKSK4lUuzbVArrzkf1pgtkBoke18C73HQM4Iysj0CoRAkQfH0XGWhUD5oGez4jbgQHbgnBGBwd1AIVnABD7LyUCOc5tw/4WHQL5Nf/aXat9A1GAahm++lEB47j1cmuTaQLQh/8wMQrRAcXkH0zt1jUCd8BKc2hmCQBAiGXKMxpJAB5ylZKm4q0Byv0NRn2XjQEJ4tHE8ltFACmMLQZmq4UCzX3e6ayijQIHuy5lNqatAqYdodNuqxkBtVRLZD3exQCxlGeJ/3ONAbqMBvNHs2EC8lpAPbubbQOq12VjhmLxAi1QYWwTq3kDdek0PdqexQO3Vx0P/3JZAK2owDUPkmEASGVbxCM3WQEgbR6xfGedAd4TTgoduxEAVGohlU4WYQHXmHhIe6HlAxjNo6L+Mx0Ay/+ibFFOQQFKgqp3MuodAXCBB8dNRyEAKn62DU0qQQOd1xCGbLJxANSkF3X5mxUBBDkqYyWTHQE3BGmeLL6hAS+fDs/ISwkCOHr+3WditQL3HmSZ8vYlAAAAAAACAjUC7YkZ4D8uyQEjfpGlwDZFAlufB3b334UAEHEKVQJjYQFJEhlWkeqVASQeQRmpdg0DfVKTC6HefQFZl3xWmGehAmGn7VwzL1UCwrDQp5VukQHui68KXKMNA4KKTpdZMsECIf9jS5/C8QLWpukf27KhAowvqW/YOzkBVTRB1aQfUQKJ6a2At4NJA3Qn2Xx/2vUDT2cngPBzFQASrjyy1+IpAZof4h735mEAPRYE+tSXVQA6dnnfjwZpAWyOCcUQdw0DnJO93U/SKQKFinL/lBOdAYHZPHpQ90kByxFp8ECrZQAW4augg8YxAhnMNM9QawkAwKqkTRCXcQJ+xL9kwBK9AK97IPMpUpEANbmsLe6GxQP+ye/J3iOBAF30FaU1Q4kBMio9PjFiwQI4ev7eRC9xA4UIewe1NkUCFr691ZSK9QKkf5XHCl4tAdF5jlyCW0UBkzF1L7LS7QJIIjWAjhcBAGH5wPoWBkEDj32dcaDbgQOv/HOb0+ORAMJ5BQ7u5xEBclNkg50vGQJHSbB4nE6NAajS5GLOip0D9hR4xitGhQEDc1avY3JNA2On2SFlbfUA=\",\"dtype\":\"float64\",\"shape\":[142]},\"lifeExp\":{\"__ndarray__\":\"RIts5/vpRUBQjZduEhtTQCUGgZVDE1JAIbByaJFdRUAUrkfhetRSQNejcD0KT1RAkxgEVg71U0BxPQrXo+hSQIcW2c73A1BATmIQWDncU0B3vp8aL11MQPp+arx0Y1BASgwCK4e2UkB3vp8aL11JQClcj8L1GFJAuB6F61FAUkD2KFyPwiVKQArXo3A9ykhABoGVQ4vcTUDXo3A9CjdJQG8Sg8DKKVRAAyuHFtleRkAX2c73U1NJQAisHFpko1NAL90kBoE9UkA3iUFg5ThSQH0/NV66SVBAQWDl0CI7R0Dvp8ZLN6lLQDVeukkMslNARIts5/spSEAdWmQ73+9SQLbz/dR4kVNAyXa+nxofU0Boke18P5VTQGmR7Xw/ZUtA16NwPQoPUkBWDi2ynb9SQBODwMqh1VFA1XjpJjH4UUAmMQisHMpJQIXrUbgeBU1A76fGSzd5SkB56SYxCNRTQDVeukkMKlRArkfhehReTEDTTWIQWLlNQESLbOf72VNAiUFg5dACTkD0/dR46d5TQH9qvHSTkFFAN4lBYOUATECMbOf7qTFHQGmR7Xw/dU5A6iYxCKyMUUBaZDvfT41UQBODwMqhVVJAnMQgsHJwVEDqJjEIrCxQQJqZmZmZqVFABFYOLbK9UUD2KFyPwsVNQHE9CtejuFNASOF6FK4vVEBt5/up8SJUQD81XrpJJFJAO99PjZemVEAK16NwPSJSQK5H4XoUDktAXrpJDALTUEAdWmQ736dTQBODwMqhZVNAZDvfT43/UUCyne+nxktFQBFYObTI1kZAsHJoke18UkBjEFg5tLhNQBFYObTIJkhAgZVDi2yPUkCyne+nxjtLQNEi2/l+ClBAJQaBlUMzUkAUrkfhegxTQAisHFpks1BAmG4Sg8CiUkDRItv5fspRQNEi2/l+CkVARbbz/dQIT0CIFtnO93NKQBSuR+F65E9AVOOlm8TwU0CTGARWDg1UQKjGSzeJOVJA5dAi2/luTEDKoUW2821HQAaBlUOLDFRAKVyPwvXoUkD0/dR46V5QQO18PzVe4lJA46WbxCDwUUBt5/up8dpRQHnpJjEI7FFAeekmMQjkUkCDwMqhRYZTQDq0yHa+r1NAPzVeukkcU0BYObTIdh5SQOXQItv5HkdAbxKDwMphUEB9PzVeujFSQA4tsp3vh09A46WbxCCAUkBjEFg5tEhFQJHtfD81/lNA30+Nl26qUkAlBoGVQ3tTQDEIrBxaFEhACKwcWmSrSEBOYhBYOTxUQNNNYhBYGVJAu0kMAitHTUBYObTIds5DQH9qvHSTOFRAv58aL91sVED+1HjpJolSQJqZmZmZmVNAGARWDi1CSkCBlUOLbKdRQPYoXI/CNU1AI9v5fmp0UUBQjZduEntSQH0/NV668VFATDeJQWDFSUAzMzMzM9tTQHNoke18j1NAf2q8dJMYU0ArhxbZzm9SQA4tsp3vj1JAXrpJDAJbUkDTTWIQWFlPQP3UeOkmMUVAdJMYBFa+RUA=\",\"dtype\":\"float64\",\"shape\":[142]},\"population\":[31889923,3600523,33333216,12420476,40301927,20434176,8199783,708573,150448339,10392226,8078314,9119152,4552198,1639131,190010647,7322858,14326203,8390505,14131858,17696293,33390141,4369038,10238807,16284741,1318683096,44227550,710960,64606759,3800610,4133884,18013409,4493312,11416987,10228744,5468120,496374,9319622,13755680,80264543,6939688,551201,4906585,76511887,5238460,61083916,1454867,1688359,82400996,22873338,10706290,12572928,9947814,1472041,8502814,7483763,6980412,9956108,301931,1110396331,223547000,69453570,27499638,4109086,6426679,58147733,2780132,127467972,6053193,35610177,23301725,49044790,2505559,3921278,2012649,3193942,6036914,19167654,13327079,24821286,12031795,3270065,1250882,108700891,2874127,684736,33757175,19951656,47761980,2055080,28901790,16570613,4115771,5675356,12894865,135031164,4627926,3204897,169270617,3242173,6667147,28674757,91077287,38518241,10642836,3942491,798094,22276056,8860588,199579,27601038,12267493,10150265,6144562,4553009,5447502,2009245,9118773,43997828,40448191,20378239,42292929,1133066,9031088,7554661,19314747,23174294,38139640,65068149,5701579,1056608,10276158,71158647,29170398,60776238,301139947,3447496,26084662,85262356,4018332,22211743,11746035,12311143],\"year\":[2007,2007,2007,2007,2007,2007,2007,2007,2007,2007,2007,2007,2007,2007,2007,2007,2007,2007,2007,2007,2007,2007,2007,2007,2007,2007,2007,2007,2007,2007,2007,2007,2007,2007,2007,2007,2007,2007,2007,2007,2007,2007,2007,2007,2007,2007,2007,2007,2007,2007,2007,2007,2007,2007,2007,2007,2007,2007,2007,2007,2007,2007,2007,2007,2007,2007,2007,2007,2007,2007,2007,2007,2007,2007,2007,2007,2007,2007,2007,2007,2007,2007,2007,2007,2007,2007,2007,2007,2007,2007,2007,2007,2007,2007,2007,2007,2007,2007,2007,2007,2007,2007,2007,2007,2007,2007,2007,2007,2007,2007,2007,2007,2007,2007,2007,2007,2007,2007,2007,2007,2007,2007,2007,2007,2007,2007,2007,2007,2007,2007,2007,2007,2007,2007,2007,2007,2007,2007,2007,2007,2007,2007]},\"selected\":{\"id\":\"39443\",\"type\":\"Selection\"},\"selection_policy\":{\"id\":\"39442\",\"type\":\"UnionRenderers\"}},\"id\":\"38876\",\"type\":\"ColumnDataSource\"},{\"attributes\":{\"callback\":null,\"end\":100000,\"start\":100},\"id\":\"38880\",\"type\":\"Range1d\"},{\"attributes\":{},\"id\":\"38886\",\"type\":\"LinearScale\"}],\"root_ids\":[\"38877\"]},\"title\":\"Bokeh Application\",\"version\":\"1.3.4\"}};\n",
       "  var render_items = [{\"docid\":\"d0813fee-3b49-41d5-af93-f37832bb0c3f\",\"roots\":{\"38877\":\"814f931d-5290-470d-a617-a06acc903964\"}}];\n",
       "  root.Bokeh.embed.embed_items_notebook(docs_json, render_items);\n",
       "\n",
       "  }\n",
       "  if (root.Bokeh !== undefined) {\n",
       "    embed_document(root);\n",
       "  } else {\n",
       "    var attempts = 0;\n",
       "    var timer = setInterval(function(root) {\n",
       "      if (root.Bokeh !== undefined) {\n",
       "        embed_document(root);\n",
       "        clearInterval(timer);\n",
       "      }\n",
       "      attempts++;\n",
       "      if (attempts > 100) {\n",
       "        console.log(\"Bokeh: ERROR: Unable to run BokehJS code because BokehJS library is missing\");\n",
       "        clearInterval(timer);\n",
       "      }\n",
       "    }, 10, root)\n",
       "  }\n",
       "})(window);"
      ],
      "application/vnd.bokehjs_exec.v0+json": ""
     },
     "metadata": {
      "application/vnd.bokehjs_exec.v0+json": {
       "id": "38877"
      }
     },
     "output_type": "display_data"
    }
   ],
   "source": [
    "# Adding the source option in our plot\n",
    "\n",
    "from bokeh.io import show\n",
    "from bokeh.plotting import figure\n",
    "\n",
    "p = figure(\n",
    "    height = 400, \n",
    "    width = 600,\n",
    "    x_axis_type = 'log',\n",
    "    x_range = (100,100000), y_range = (0,100),\n",
    "    title = \"Life Expectancy vs GDP of Nations for 2010\")\n",
    "\n",
    "p.circle(x='gdpPercap', y='lifeExp',color=\"orange\",alpha=0.6,source=source)\n",
    "p.xaxis.axis_label = \"GDP per Capita\"\n",
    "p.yaxis.axis_label = \"Life Expectancy\"\n",
    "\n",
    "\n",
    "from bokeh.models import NumeralTickFormatter\n",
    "p.xaxis[0].formatter = NumeralTickFormatter(format='$0,')\n",
    "\n",
    "show(p)"
   ]
  },
  {
   "cell_type": "code",
   "execution_count": 178,
   "metadata": {},
   "outputs": [
    {
     "data": {
      "text/html": [
       "<div style=\"display: table;\"><div style=\"display: table-row;\"><div style=\"display: table-cell;\"><b title=\"bokeh.models.sources.ColumnDataSource\">ColumnDataSource</b>(</div><div style=\"display: table-cell;\">id&nbsp;=&nbsp;'38876', <span id=\"39558\" style=\"cursor: pointer;\">&hellip;)</span></div></div><div class=\"39557\" style=\"display: none;\"><div style=\"display: table-cell;\"></div><div style=\"display: table-cell;\">callback&nbsp;=&nbsp;None,</div></div><div class=\"39557\" style=\"display: none;\"><div style=\"display: table-cell;\"></div><div style=\"display: table-cell;\">data&nbsp;=&nbsp;{'year': [2007, 2007, 2007, 2007, 2007, 2007, 2007, 2007, 2007, 2007, 2007, 2007, 2007, 2007, 2007, 2007, 2007, 2007, 2007, 2007, 2007, 2007, 2007, 2007, 2007, 2007, 2007, 2007, 2007, 2007, 2007, 2007, 2007, 2007, 2007, 2007, 2007, 2007, 2007, 2007, 2007, 2007, 2007, 2007, 2007, 2007, 2007, 2007, 2007, 2007, 2007, 2007, 2007, 2007, 2007, 2007, 2007, 2007, 2007, 2007, 2007, 2007, 2007, 2007, 2007, 2007, 2007, 2007, 2007, 2007, 2007, 2007, 2007, 2007, 2007, 2007, 2007, 2007, 2007, 2007, 2007, 2007, 2007, 2007, 2007, 2007, 2007, 2007, 2007, 2007, 2007, 2007, 2007, 2007, 2007, 2007, 2007, 2007, 2007, 2007, 2007, 2007, 2007, 2007, 2007, 2007, 2007, 2007, 2007, 2007, 2007, 2007, 2007, 2007, 2007, 2007, 2007, 2007, 2007, 2007, 2007, 2007, 2007, 2007, 2007, 2007, 2007, 2007, 2007, 2007, 2007, 2007, 2007, 2007, 2007, 2007, 2007, 2007, 2007, 2007, 2007, 2007], 'country': ['Afghanistan', 'Albania', 'Algeria', 'Angola', 'Argentina', 'Australia', 'Austria', 'Bahrain', 'Bangladesh', 'Belgium', 'Benin', 'Bolivia', 'Bosnia and Herzegovina', 'Botswana', 'Brazil', 'Bulgaria', 'Burkina Faso', 'Burundi', 'Cambodia', 'Cameroon', 'Canada', 'Central African Republic', 'Chad', 'Chile', 'China', 'Colombia', 'Comoros', 'Congo, Dem. Rep.', 'Congo, Rep.', 'Costa Rica', \"Cote d'Ivoire\", 'Croatia', 'Cuba', 'Czech Republic', 'Denmark', 'Djibouti', 'Dominican Republic', 'Ecuador', 'Egypt', 'El Salvador', 'Equatorial Guinea', 'Eritrea', 'Ethiopia', 'Finland', 'France', 'Gabon', 'Gambia', 'Germany', 'Ghana', 'Greece', 'Guatemala', 'Guinea', 'Guinea-Bissau', 'Haiti', 'Honduras', 'Hong Kong, China', 'Hungary', 'Iceland', 'India', 'Indonesia', 'Iran', 'Iraq', 'Ireland', 'Israel', 'Italy', 'Jamaica', 'Japan', 'Jordan', 'Kenya', 'Korea, Dem. Rep.', 'Korea, Rep.', 'Kuwait', 'Lebanon', 'Lesotho', 'Liberia', 'Libya', 'Madagascar', 'Malawi', 'Malaysia', 'Mali', 'Mauritania', 'Mauritius', 'Mexico', 'Mongolia', 'Montenegro', 'Morocco', 'Mozambique', 'Myanmar', 'Namibia', 'Nepal', 'Netherlands', 'New Zealand', 'Nicaragua', 'Niger', 'Nigeria', 'Norway', 'Oman', 'Pakistan', 'Panama', 'Paraguay', 'Peru', 'Philippines', 'Poland', 'Portugal', 'Puerto Rico', 'Reunion', 'Romania', 'Rwanda', 'Sao Tome and Principe', 'Saudi Arabia', 'Senegal', 'Serbia', 'Sierra Leone', 'Singapore', 'Slovak Republic', 'Slovenia', 'Somalia', 'South Africa', 'Spain', 'Sri Lanka', 'Sudan', 'Swaziland', 'Sweden', 'Switzerland', 'Syria', 'Taiwan', 'Tanzania', 'Thailand', 'Togo', 'Trinidad and Tobago', 'Tunisia', 'Turkey', 'Uganda', 'United Kingdom', 'United States', 'Uruguay', 'Venezuela', 'Vietnam', 'West Bank and Gaza', 'Yemen, Rep.', 'Zambia', 'Zimbabwe'], 'population': [31889923, 3600523, 33333216, 12420476, 40301927, 20434176, 8199783, 708573, 150448339, 10392226, 8078314, 9119152, 4552198, 1639131, 190010647, 7322858, 14326203, 8390505, 14131858, 17696293, 33390141, 4369038, 10238807, 16284741, 1318683096, 44227550, 710960, 64606759, 3800610, 4133884, 18013409, 4493312, 11416987, 10228744, 5468120, 496374, 9319622, 13755680, 80264543, 6939688, 551201, 4906585, 76511887, 5238460, 61083916, 1454867, 1688359, 82400996, 22873338, 10706290, 12572928, 9947814, 1472041, 8502814, 7483763, 6980412, 9956108, 301931, 1110396331, 223547000, 69453570, 27499638, 4109086, 6426679, 58147733, 2780132, 127467972, 6053193, 35610177, 23301725, 49044790, 2505559, 3921278, 2012649, 3193942, 6036914, 19167654, 13327079, 24821286, 12031795, 3270065, 1250882, 108700891, 2874127, 684736, 33757175, 19951656, 47761980, 2055080, 28901790, 16570613, 4115771, 5675356, 12894865, 135031164, 4627926, 3204897, 169270617, 3242173, 6667147, 28674757, 91077287, 38518241, 10642836, 3942491, 798094, 22276056, 8860588, 199579, 27601038, 12267493, 10150265, 6144562, 4553009, 5447502, 2009245, 9118773, 43997828, 40448191, 20378239, 42292929, 1133066, 9031088, 7554661, 19314747, 23174294, 38139640, 65068149, 5701579, 1056608, 10276158, 71158647, 29170398, 60776238, 301139947, 3447496, 26084662, 85262356, 4018332, 22211743, 11746035, 12311143], 'continent': ['Asia', 'Europe', 'Africa', 'Africa', 'Americas', 'Oceania', 'Europe', 'Asia', 'Asia', 'Europe', 'Africa', 'Americas', 'Europe', 'Africa', 'Americas', 'Europe', 'Africa', 'Africa', 'Asia', 'Africa', 'Americas', 'Africa', 'Africa', 'Americas', 'Asia', 'Americas', 'Africa', 'Africa', 'Africa', 'Americas', 'Africa', 'Europe', 'Americas', 'Europe', 'Europe', 'Africa', 'Americas', 'Americas', 'Africa', 'Americas', 'Africa', 'Africa', 'Africa', 'Europe', 'Europe', 'Africa', 'Africa', 'Europe', 'Africa', 'Europe', 'Americas', 'Africa', 'Africa', 'Americas', 'Americas', 'Asia', 'Europe', 'Europe', 'Asia', 'Asia', 'Asia', 'Asia', 'Europe', 'Asia', 'Europe', 'Americas', 'Asia', 'Asia', 'Africa', 'Asia', 'Asia', 'Asia', 'Asia', 'Africa', 'Africa', 'Africa', 'Africa', 'Africa', 'Asia', 'Africa', 'Africa', 'Africa', 'Americas', 'Asia', 'Europe', 'Africa', 'Africa', 'Asia', 'Africa', 'Asia', 'Europe', 'Oceania', 'Americas', 'Africa', 'Africa', 'Europe', 'Asia', 'Asia', 'Americas', 'Americas', 'Americas', 'Asia', 'Europe', 'Europe', 'Americas', 'Africa', 'Europe', 'Africa', 'Africa', 'Asia', 'Africa', 'Europe', 'Africa', 'Asia', 'Europe', 'Europe', 'Africa', 'Africa', 'Europe', 'Asia', 'Africa', 'Africa', 'Europe', 'Europe', 'Asia', 'Asia', 'Africa', 'Asia', 'Africa', 'Americas', 'Africa', 'Europe', 'Africa', 'Europe', 'Americas', 'Americas', 'Americas', 'Asia', 'Asia', 'Asia', 'Africa', 'Africa'], 'gdpPercap': {'__ndarray__': '54R1iKR0jkBhFASPBzG3QG2tLxJeT7hApWlQNDu9skAhJAuYsPXIQOeHEcJr0OBAWMoyxM+j4UDFpwAYAxndQPLPDOIDvZVAb7vQXJNz4EAOar+1I4WWQJ3B3y9G3K1A8nhafkwWvUDcoswG7YzIQGkAb4HmtMFAzzEge2XcxEDb2y3JIQSTQKLhg40h4XpAad/cXx3HmkAVNZiGYeifQAixM4Xnu+FAZJEm3iEQhkDhP91AQaCaQIY41sXRuclA0F0SZx1fs0D67laWlF67QBM+Stsu0Y5ANcjJadRYcUCMD7OXHWGsQKlNnNyH1sJAWTFcHQAjmEAUxhaCnI3MQIGzlCwNesFAH7qgvlNM1kCxbVFmzTnhQKsn84/2RKBAHUC/71+Jt0Dl9ssnQ9m6QKSK4lUuzbVArrzkf1pgtkBoke18C73HQM4Iysj0CoRAkQfH0XGWhUD5oGez4jbgQHbgnBGBwd1AIVnABD7LyUCOc5tw/4WHQL5Nf/aXat9A1GAahm++lEB47j1cmuTaQLQh/8wMQrRAcXkH0zt1jUCd8BKc2hmCQBAiGXKMxpJAB5ylZKm4q0Byv0NRn2XjQEJ4tHE8ltFACmMLQZmq4UCzX3e6ayijQIHuy5lNqatAqYdodNuqxkBtVRLZD3exQCxlGeJ/3ONAbqMBvNHs2EC8lpAPbubbQOq12VjhmLxAi1QYWwTq3kDdek0PdqexQO3Vx0P/3JZAK2owDUPkmEASGVbxCM3WQEgbR6xfGedAd4TTgoduxEAVGohlU4WYQHXmHhIe6HlAxjNo6L+Mx0Ay/+ibFFOQQFKgqp3MuodAXCBB8dNRyEAKn62DU0qQQOd1xCGbLJxANSkF3X5mxUBBDkqYyWTHQE3BGmeLL6hAS+fDs/ISwkCOHr+3WditQL3HmSZ8vYlAAAAAAACAjUC7YkZ4D8uyQEjfpGlwDZFAlufB3b334UAEHEKVQJjYQFJEhlWkeqVASQeQRmpdg0DfVKTC6HefQFZl3xWmGehAmGn7VwzL1UCwrDQp5VukQHui68KXKMNA4KKTpdZMsECIf9jS5/C8QLWpukf27KhAowvqW/YOzkBVTRB1aQfUQKJ6a2At4NJA3Qn2Xx/2vUDT2cngPBzFQASrjyy1+IpAZof4h735mEAPRYE+tSXVQA6dnnfjwZpAWyOCcUQdw0DnJO93U/SKQKFinL/lBOdAYHZPHpQ90kByxFp8ECrZQAW4augg8YxAhnMNM9QawkAwKqkTRCXcQJ+xL9kwBK9AK97IPMpUpEANbmsLe6GxQP+ye/J3iOBAF30FaU1Q4kBMio9PjFiwQI4ev7eRC9xA4UIewe1NkUCFr691ZSK9QKkf5XHCl4tAdF5jlyCW0UBkzF1L7LS7QJIIjWAjhcBAGH5wPoWBkEDj32dcaDbgQOv/HOb0+ORAMJ5BQ7u5xEBclNkg50vGQJHSbB4nE6NAajS5GLOip0D9hR4xitGhQEDc1avY3JNA2On2SFlbfUA=', 'shape': (142,), 'dtype': 'float64'}, 'lifeExp': {'__ndarray__': 'RIts5/vpRUBQjZduEhtTQCUGgZVDE1JAIbByaJFdRUAUrkfhetRSQNejcD0KT1RAkxgEVg71U0BxPQrXo+hSQIcW2c73A1BATmIQWDncU0B3vp8aL11MQPp+arx0Y1BASgwCK4e2UkB3vp8aL11JQClcj8L1GFJAuB6F61FAUkD2KFyPwiVKQArXo3A9ykhABoGVQ4vcTUDXo3A9CjdJQG8Sg8DKKVRAAyuHFtleRkAX2c73U1NJQAisHFpko1NAL90kBoE9UkA3iUFg5ThSQH0/NV66SVBAQWDl0CI7R0Dvp8ZLN6lLQDVeukkMslNARIts5/spSEAdWmQ73+9SQLbz/dR4kVNAyXa+nxofU0Boke18P5VTQGmR7Xw/ZUtA16NwPQoPUkBWDi2ynb9SQBODwMqh1VFA1XjpJjH4UUAmMQisHMpJQIXrUbgeBU1A76fGSzd5SkB56SYxCNRTQDVeukkMKlRArkfhehReTEDTTWIQWLlNQESLbOf72VNAiUFg5dACTkD0/dR46d5TQH9qvHSTkFFAN4lBYOUATECMbOf7qTFHQGmR7Xw/dU5A6iYxCKyMUUBaZDvfT41UQBODwMqhVVJAnMQgsHJwVEDqJjEIrCxQQJqZmZmZqVFABFYOLbK9UUD2KFyPwsVNQHE9CtejuFNASOF6FK4vVEBt5/up8SJUQD81XrpJJFJAO99PjZemVEAK16NwPSJSQK5H4XoUDktAXrpJDALTUEAdWmQ736dTQBODwMqhZVNAZDvfT43/UUCyne+nxktFQBFYObTI1kZAsHJoke18UkBjEFg5tLhNQBFYObTIJkhAgZVDi2yPUkCyne+nxjtLQNEi2/l+ClBAJQaBlUMzUkAUrkfhegxTQAisHFpks1BAmG4Sg8CiUkDRItv5fspRQNEi2/l+CkVARbbz/dQIT0CIFtnO93NKQBSuR+F65E9AVOOlm8TwU0CTGARWDg1UQKjGSzeJOVJA5dAi2/luTEDKoUW2821HQAaBlUOLDFRAKVyPwvXoUkD0/dR46V5QQO18PzVe4lJA46WbxCDwUUBt5/up8dpRQHnpJjEI7FFAeekmMQjkUkCDwMqhRYZTQDq0yHa+r1NAPzVeukkcU0BYObTIdh5SQOXQItv5HkdAbxKDwMphUEB9PzVeujFSQA4tsp3vh09A46WbxCCAUkBjEFg5tEhFQJHtfD81/lNA30+Nl26qUkAlBoGVQ3tTQDEIrBxaFEhACKwcWmSrSEBOYhBYOTxUQNNNYhBYGVJAu0kMAitHTUBYObTIds5DQH9qvHSTOFRAv58aL91sVED+1HjpJolSQJqZmZmZmVNAGARWDi1CSkCBlUOLbKdRQPYoXI/CNU1AI9v5fmp0UUBQjZduEntSQH0/NV668VFATDeJQWDFSUAzMzMzM9tTQHNoke18j1NAf2q8dJMYU0ArhxbZzm9SQA4tsp3vj1JAXrpJDAJbUkDTTWIQWFlPQP3UeOkmMUVAdJMYBFa+RUA=', 'shape': (142,), 'dtype': 'float64'}},</div></div><div class=\"39557\" style=\"display: none;\"><div style=\"display: table-cell;\"></div><div style=\"display: table-cell;\">js_event_callbacks&nbsp;=&nbsp;{},</div></div><div class=\"39557\" style=\"display: none;\"><div style=\"display: table-cell;\"></div><div style=\"display: table-cell;\">js_property_callbacks&nbsp;=&nbsp;{},</div></div><div class=\"39557\" style=\"display: none;\"><div style=\"display: table-cell;\"></div><div style=\"display: table-cell;\">name&nbsp;=&nbsp;None,</div></div><div class=\"39557\" style=\"display: none;\"><div style=\"display: table-cell;\"></div><div style=\"display: table-cell;\">selected&nbsp;=&nbsp;Selection(id='39443', ...),</div></div><div class=\"39557\" style=\"display: none;\"><div style=\"display: table-cell;\"></div><div style=\"display: table-cell;\">selection_policy&nbsp;=&nbsp;UnionRenderers(id='39442', ...),</div></div><div class=\"39557\" style=\"display: none;\"><div style=\"display: table-cell;\"></div><div style=\"display: table-cell;\">subscribed_events&nbsp;=&nbsp;[],</div></div><div class=\"39557\" style=\"display: none;\"><div style=\"display: table-cell;\"></div><div style=\"display: table-cell;\">tags&nbsp;=&nbsp;[])</div></div></div>\n",
       "<script>\n",
       "(function() {\n",
       "  var expanded = false;\n",
       "  var ellipsis = document.getElementById(\"39558\");\n",
       "  ellipsis.addEventListener(\"click\", function() {\n",
       "    var rows = document.getElementsByClassName(\"39557\");\n",
       "    for (var i = 0; i < rows.length; i++) {\n",
       "      var el = rows[i];\n",
       "      el.style.display = expanded ? \"none\" : \"table-row\";\n",
       "    }\n",
       "    ellipsis.innerHTML = expanded ? \"&hellip;)\" : \"&lsaquo;&lsaquo;&lsaquo;\";\n",
       "    expanded = !expanded;\n",
       "  });\n",
       "})();\n",
       "</script>\n"
      ],
      "text/plain": [
       "ColumnDataSource(id='38876', ...)"
      ]
     },
     "execution_count": 178,
     "metadata": {},
     "output_type": "execute_result"
    }
   ],
   "source": [
    "source"
   ]
  },
  {
   "cell_type": "markdown",
   "metadata": {},
   "source": [
    "## Customizing bubble size according to Population\n",
    "\n",
    "In the above graph all the bubbles are of th esame size. Let's map bubble zise according to the size so that countries having large population have bigger bubbles. For this we shall use the **Linear Interpolator**."
   ]
  },
  {
   "cell_type": "code",
   "execution_count": 179,
   "metadata": {},
   "outputs": [
    {
     "data": {
      "text/html": [
       "\n",
       "\n",
       "\n",
       "\n",
       "\n",
       "\n",
       "  <div class=\"bk-root\" id=\"6ae7c639-e369-4943-a75c-6a42b5600928\" data-root-id=\"39561\"></div>\n"
      ]
     },
     "metadata": {},
     "output_type": "display_data"
    },
    {
     "data": {
      "application/javascript": [
       "(function(root) {\n",
       "  function embed_document(root) {\n",
       "    \n",
       "  var docs_json = {\"65851180-0326-4918-b275-d9834ca9e279\":{\"roots\":{\"references\":[{\"attributes\":{\"below\":[{\"id\":\"39572\",\"type\":\"LogAxis\"}],\"center\":[{\"id\":\"39576\",\"type\":\"Grid\"},{\"id\":\"39581\",\"type\":\"Grid\"}],\"left\":[{\"id\":\"39577\",\"type\":\"LinearAxis\"}],\"plot_height\":400,\"renderers\":[{\"id\":\"39599\",\"type\":\"GlyphRenderer\"}],\"title\":{\"id\":\"39562\",\"type\":\"Title\"},\"toolbar\":{\"id\":\"39588\",\"type\":\"Toolbar\"},\"x_range\":{\"id\":\"39564\",\"type\":\"Range1d\"},\"x_scale\":{\"id\":\"39568\",\"type\":\"LogScale\"},\"y_range\":{\"id\":\"39566\",\"type\":\"Range1d\"},\"y_scale\":{\"id\":\"39570\",\"type\":\"LinearScale\"}},\"id\":\"39561\",\"subtype\":\"Figure\",\"type\":\"Plot\"},{\"attributes\":{\"dimension\":1,\"ticker\":{\"id\":\"39578\",\"type\":\"BasicTicker\"}},\"id\":\"39581\",\"type\":\"Grid\"},{\"attributes\":{},\"id\":\"39443\",\"type\":\"Selection\"},{\"attributes\":{},\"id\":\"39442\",\"type\":\"UnionRenderers\"},{\"attributes\":{\"fill_alpha\":{\"value\":0.1},\"fill_color\":{\"value\":\"#1f77b4\"},\"line_alpha\":{\"value\":0.1},\"line_color\":{\"value\":\"#1f77b4\"},\"size\":{\"field\":\"population\",\"transform\":{\"id\":\"39595\",\"type\":\"LinearInterpolator\"},\"units\":\"screen\"},\"x\":{\"field\":\"gdpPercap\"},\"y\":{\"field\":\"lifeExp\"}},\"id\":\"39598\",\"type\":\"Circle\"},{\"attributes\":{\"data\":null,\"x\":[60011,1318683096],\"y\":[10,100]},\"id\":\"39595\",\"type\":\"LinearInterpolator\"},{\"attributes\":{},\"id\":\"39582\",\"type\":\"PanTool\"},{\"attributes\":{},\"id\":\"39583\",\"type\":\"WheelZoomTool\"},{\"attributes\":{},\"id\":\"39586\",\"type\":\"ResetTool\"},{\"attributes\":{\"text\":\"Life Expectancy vs GDP of Nations for 2010\"},\"id\":\"39562\",\"type\":\"Title\"},{\"attributes\":{\"overlay\":{\"id\":\"40133\",\"type\":\"BoxAnnotation\"}},\"id\":\"39584\",\"type\":\"BoxZoomTool\"},{\"attributes\":{},\"id\":\"39585\",\"type\":\"SaveTool\"},{\"attributes\":{\"callback\":null,\"end\":100000,\"start\":100},\"id\":\"39564\",\"type\":\"Range1d\"},{\"attributes\":{},\"id\":\"39587\",\"type\":\"HelpTool\"},{\"attributes\":{\"fill_alpha\":{\"value\":0.6},\"fill_color\":{\"value\":\"orange\"},\"line_alpha\":{\"value\":0.6},\"line_color\":{\"value\":\"orange\"},\"size\":{\"field\":\"population\",\"transform\":{\"id\":\"39595\",\"type\":\"LinearInterpolator\"},\"units\":\"screen\"},\"x\":{\"field\":\"gdpPercap\"},\"y\":{\"field\":\"lifeExp\"}},\"id\":\"39597\",\"type\":\"Circle\"},{\"attributes\":{\"active_drag\":\"auto\",\"active_inspect\":\"auto\",\"active_multi\":null,\"active_scroll\":\"auto\",\"active_tap\":\"auto\",\"tools\":[{\"id\":\"39582\",\"type\":\"PanTool\"},{\"id\":\"39583\",\"type\":\"WheelZoomTool\"},{\"id\":\"39584\",\"type\":\"BoxZoomTool\"},{\"id\":\"39585\",\"type\":\"SaveTool\"},{\"id\":\"39586\",\"type\":\"ResetTool\"},{\"id\":\"39587\",\"type\":\"HelpTool\"}]},\"id\":\"39588\",\"type\":\"Toolbar\"},{\"attributes\":{\"callback\":null,\"end\":100},\"id\":\"39566\",\"type\":\"Range1d\"},{\"attributes\":{},\"id\":\"40132\",\"type\":\"BasicTickFormatter\"},{\"attributes\":{},\"id\":\"39568\",\"type\":\"LogScale\"},{\"attributes\":{\"data_source\":{\"id\":\"38876\",\"type\":\"ColumnDataSource\"},\"glyph\":{\"id\":\"39597\",\"type\":\"Circle\"},\"hover_glyph\":null,\"muted_glyph\":null,\"nonselection_glyph\":{\"id\":\"39598\",\"type\":\"Circle\"},\"selection_glyph\":null,\"view\":{\"id\":\"39600\",\"type\":\"CDSView\"}},\"id\":\"39599\",\"type\":\"GlyphRenderer\"},{\"attributes\":{},\"id\":\"39570\",\"type\":\"LinearScale\"},{\"attributes\":{\"format\":\"$0,\"},\"id\":\"39601\",\"type\":\"NumeralTickFormatter\"},{\"attributes\":{\"axis_label\":\"GDP per Capita\",\"formatter\":{\"id\":\"39601\",\"type\":\"NumeralTickFormatter\"},\"ticker\":{\"id\":\"39573\",\"type\":\"LogTicker\"}},\"id\":\"39572\",\"type\":\"LogAxis\"},{\"attributes\":{\"source\":{\"id\":\"38876\",\"type\":\"ColumnDataSource\"}},\"id\":\"39600\",\"type\":\"CDSView\"},{\"attributes\":{\"num_minor_ticks\":10},\"id\":\"39573\",\"type\":\"LogTicker\"},{\"attributes\":{\"callback\":null,\"data\":{\"continent\":[\"Asia\",\"Europe\",\"Africa\",\"Africa\",\"Americas\",\"Oceania\",\"Europe\",\"Asia\",\"Asia\",\"Europe\",\"Africa\",\"Americas\",\"Europe\",\"Africa\",\"Americas\",\"Europe\",\"Africa\",\"Africa\",\"Asia\",\"Africa\",\"Americas\",\"Africa\",\"Africa\",\"Americas\",\"Asia\",\"Americas\",\"Africa\",\"Africa\",\"Africa\",\"Americas\",\"Africa\",\"Europe\",\"Americas\",\"Europe\",\"Europe\",\"Africa\",\"Americas\",\"Americas\",\"Africa\",\"Americas\",\"Africa\",\"Africa\",\"Africa\",\"Europe\",\"Europe\",\"Africa\",\"Africa\",\"Europe\",\"Africa\",\"Europe\",\"Americas\",\"Africa\",\"Africa\",\"Americas\",\"Americas\",\"Asia\",\"Europe\",\"Europe\",\"Asia\",\"Asia\",\"Asia\",\"Asia\",\"Europe\",\"Asia\",\"Europe\",\"Americas\",\"Asia\",\"Asia\",\"Africa\",\"Asia\",\"Asia\",\"Asia\",\"Asia\",\"Africa\",\"Africa\",\"Africa\",\"Africa\",\"Africa\",\"Asia\",\"Africa\",\"Africa\",\"Africa\",\"Americas\",\"Asia\",\"Europe\",\"Africa\",\"Africa\",\"Asia\",\"Africa\",\"Asia\",\"Europe\",\"Oceania\",\"Americas\",\"Africa\",\"Africa\",\"Europe\",\"Asia\",\"Asia\",\"Americas\",\"Americas\",\"Americas\",\"Asia\",\"Europe\",\"Europe\",\"Americas\",\"Africa\",\"Europe\",\"Africa\",\"Africa\",\"Asia\",\"Africa\",\"Europe\",\"Africa\",\"Asia\",\"Europe\",\"Europe\",\"Africa\",\"Africa\",\"Europe\",\"Asia\",\"Africa\",\"Africa\",\"Europe\",\"Europe\",\"Asia\",\"Asia\",\"Africa\",\"Asia\",\"Africa\",\"Americas\",\"Africa\",\"Europe\",\"Africa\",\"Europe\",\"Americas\",\"Americas\",\"Americas\",\"Asia\",\"Asia\",\"Asia\",\"Africa\",\"Africa\"],\"country\":[\"Afghanistan\",\"Albania\",\"Algeria\",\"Angola\",\"Argentina\",\"Australia\",\"Austria\",\"Bahrain\",\"Bangladesh\",\"Belgium\",\"Benin\",\"Bolivia\",\"Bosnia and Herzegovina\",\"Botswana\",\"Brazil\",\"Bulgaria\",\"Burkina Faso\",\"Burundi\",\"Cambodia\",\"Cameroon\",\"Canada\",\"Central African Republic\",\"Chad\",\"Chile\",\"China\",\"Colombia\",\"Comoros\",\"Congo, Dem. Rep.\",\"Congo, Rep.\",\"Costa Rica\",\"Cote d'Ivoire\",\"Croatia\",\"Cuba\",\"Czech Republic\",\"Denmark\",\"Djibouti\",\"Dominican Republic\",\"Ecuador\",\"Egypt\",\"El Salvador\",\"Equatorial Guinea\",\"Eritrea\",\"Ethiopia\",\"Finland\",\"France\",\"Gabon\",\"Gambia\",\"Germany\",\"Ghana\",\"Greece\",\"Guatemala\",\"Guinea\",\"Guinea-Bissau\",\"Haiti\",\"Honduras\",\"Hong Kong, China\",\"Hungary\",\"Iceland\",\"India\",\"Indonesia\",\"Iran\",\"Iraq\",\"Ireland\",\"Israel\",\"Italy\",\"Jamaica\",\"Japan\",\"Jordan\",\"Kenya\",\"Korea, Dem. Rep.\",\"Korea, Rep.\",\"Kuwait\",\"Lebanon\",\"Lesotho\",\"Liberia\",\"Libya\",\"Madagascar\",\"Malawi\",\"Malaysia\",\"Mali\",\"Mauritania\",\"Mauritius\",\"Mexico\",\"Mongolia\",\"Montenegro\",\"Morocco\",\"Mozambique\",\"Myanmar\",\"Namibia\",\"Nepal\",\"Netherlands\",\"New Zealand\",\"Nicaragua\",\"Niger\",\"Nigeria\",\"Norway\",\"Oman\",\"Pakistan\",\"Panama\",\"Paraguay\",\"Peru\",\"Philippines\",\"Poland\",\"Portugal\",\"Puerto Rico\",\"Reunion\",\"Romania\",\"Rwanda\",\"Sao Tome and Principe\",\"Saudi Arabia\",\"Senegal\",\"Serbia\",\"Sierra Leone\",\"Singapore\",\"Slovak Republic\",\"Slovenia\",\"Somalia\",\"South Africa\",\"Spain\",\"Sri Lanka\",\"Sudan\",\"Swaziland\",\"Sweden\",\"Switzerland\",\"Syria\",\"Taiwan\",\"Tanzania\",\"Thailand\",\"Togo\",\"Trinidad and Tobago\",\"Tunisia\",\"Turkey\",\"Uganda\",\"United Kingdom\",\"United States\",\"Uruguay\",\"Venezuela\",\"Vietnam\",\"West Bank and Gaza\",\"Yemen, Rep.\",\"Zambia\",\"Zimbabwe\"],\"gdpPercap\":{\"__ndarray__\":\"54R1iKR0jkBhFASPBzG3QG2tLxJeT7hApWlQNDu9skAhJAuYsPXIQOeHEcJr0OBAWMoyxM+j4UDFpwAYAxndQPLPDOIDvZVAb7vQXJNz4EAOar+1I4WWQJ3B3y9G3K1A8nhafkwWvUDcoswG7YzIQGkAb4HmtMFAzzEge2XcxEDb2y3JIQSTQKLhg40h4XpAad/cXx3HmkAVNZiGYeifQAixM4Xnu+FAZJEm3iEQhkDhP91AQaCaQIY41sXRuclA0F0SZx1fs0D67laWlF67QBM+Stsu0Y5ANcjJadRYcUCMD7OXHWGsQKlNnNyH1sJAWTFcHQAjmEAUxhaCnI3MQIGzlCwNesFAH7qgvlNM1kCxbVFmzTnhQKsn84/2RKBAHUC/71+Jt0Dl9ssnQ9m6QKSK4lUuzbVArrzkf1pgtkBoke18C73HQM4Iysj0CoRAkQfH0XGWhUD5oGez4jbgQHbgnBGBwd1AIVnABD7LyUCOc5tw/4WHQL5Nf/aXat9A1GAahm++lEB47j1cmuTaQLQh/8wMQrRAcXkH0zt1jUCd8BKc2hmCQBAiGXKMxpJAB5ylZKm4q0Byv0NRn2XjQEJ4tHE8ltFACmMLQZmq4UCzX3e6ayijQIHuy5lNqatAqYdodNuqxkBtVRLZD3exQCxlGeJ/3ONAbqMBvNHs2EC8lpAPbubbQOq12VjhmLxAi1QYWwTq3kDdek0PdqexQO3Vx0P/3JZAK2owDUPkmEASGVbxCM3WQEgbR6xfGedAd4TTgoduxEAVGohlU4WYQHXmHhIe6HlAxjNo6L+Mx0Ay/+ibFFOQQFKgqp3MuodAXCBB8dNRyEAKn62DU0qQQOd1xCGbLJxANSkF3X5mxUBBDkqYyWTHQE3BGmeLL6hAS+fDs/ISwkCOHr+3WditQL3HmSZ8vYlAAAAAAACAjUC7YkZ4D8uyQEjfpGlwDZFAlufB3b334UAEHEKVQJjYQFJEhlWkeqVASQeQRmpdg0DfVKTC6HefQFZl3xWmGehAmGn7VwzL1UCwrDQp5VukQHui68KXKMNA4KKTpdZMsECIf9jS5/C8QLWpukf27KhAowvqW/YOzkBVTRB1aQfUQKJ6a2At4NJA3Qn2Xx/2vUDT2cngPBzFQASrjyy1+IpAZof4h735mEAPRYE+tSXVQA6dnnfjwZpAWyOCcUQdw0DnJO93U/SKQKFinL/lBOdAYHZPHpQ90kByxFp8ECrZQAW4augg8YxAhnMNM9QawkAwKqkTRCXcQJ+xL9kwBK9AK97IPMpUpEANbmsLe6GxQP+ye/J3iOBAF30FaU1Q4kBMio9PjFiwQI4ev7eRC9xA4UIewe1NkUCFr691ZSK9QKkf5XHCl4tAdF5jlyCW0UBkzF1L7LS7QJIIjWAjhcBAGH5wPoWBkEDj32dcaDbgQOv/HOb0+ORAMJ5BQ7u5xEBclNkg50vGQJHSbB4nE6NAajS5GLOip0D9hR4xitGhQEDc1avY3JNA2On2SFlbfUA=\",\"dtype\":\"float64\",\"shape\":[142]},\"lifeExp\":{\"__ndarray__\":\"RIts5/vpRUBQjZduEhtTQCUGgZVDE1JAIbByaJFdRUAUrkfhetRSQNejcD0KT1RAkxgEVg71U0BxPQrXo+hSQIcW2c73A1BATmIQWDncU0B3vp8aL11MQPp+arx0Y1BASgwCK4e2UkB3vp8aL11JQClcj8L1GFJAuB6F61FAUkD2KFyPwiVKQArXo3A9ykhABoGVQ4vcTUDXo3A9CjdJQG8Sg8DKKVRAAyuHFtleRkAX2c73U1NJQAisHFpko1NAL90kBoE9UkA3iUFg5ThSQH0/NV66SVBAQWDl0CI7R0Dvp8ZLN6lLQDVeukkMslNARIts5/spSEAdWmQ73+9SQLbz/dR4kVNAyXa+nxofU0Boke18P5VTQGmR7Xw/ZUtA16NwPQoPUkBWDi2ynb9SQBODwMqh1VFA1XjpJjH4UUAmMQisHMpJQIXrUbgeBU1A76fGSzd5SkB56SYxCNRTQDVeukkMKlRArkfhehReTEDTTWIQWLlNQESLbOf72VNAiUFg5dACTkD0/dR46d5TQH9qvHSTkFFAN4lBYOUATECMbOf7qTFHQGmR7Xw/dU5A6iYxCKyMUUBaZDvfT41UQBODwMqhVVJAnMQgsHJwVEDqJjEIrCxQQJqZmZmZqVFABFYOLbK9UUD2KFyPwsVNQHE9CtejuFNASOF6FK4vVEBt5/up8SJUQD81XrpJJFJAO99PjZemVEAK16NwPSJSQK5H4XoUDktAXrpJDALTUEAdWmQ736dTQBODwMqhZVNAZDvfT43/UUCyne+nxktFQBFYObTI1kZAsHJoke18UkBjEFg5tLhNQBFYObTIJkhAgZVDi2yPUkCyne+nxjtLQNEi2/l+ClBAJQaBlUMzUkAUrkfhegxTQAisHFpks1BAmG4Sg8CiUkDRItv5fspRQNEi2/l+CkVARbbz/dQIT0CIFtnO93NKQBSuR+F65E9AVOOlm8TwU0CTGARWDg1UQKjGSzeJOVJA5dAi2/luTEDKoUW2821HQAaBlUOLDFRAKVyPwvXoUkD0/dR46V5QQO18PzVe4lJA46WbxCDwUUBt5/up8dpRQHnpJjEI7FFAeekmMQjkUkCDwMqhRYZTQDq0yHa+r1NAPzVeukkcU0BYObTIdh5SQOXQItv5HkdAbxKDwMphUEB9PzVeujFSQA4tsp3vh09A46WbxCCAUkBjEFg5tEhFQJHtfD81/lNA30+Nl26qUkAlBoGVQ3tTQDEIrBxaFEhACKwcWmSrSEBOYhBYOTxUQNNNYhBYGVJAu0kMAitHTUBYObTIds5DQH9qvHSTOFRAv58aL91sVED+1HjpJolSQJqZmZmZmVNAGARWDi1CSkCBlUOLbKdRQPYoXI/CNU1AI9v5fmp0UUBQjZduEntSQH0/NV668VFATDeJQWDFSUAzMzMzM9tTQHNoke18j1NAf2q8dJMYU0ArhxbZzm9SQA4tsp3vj1JAXrpJDAJbUkDTTWIQWFlPQP3UeOkmMUVAdJMYBFa+RUA=\",\"dtype\":\"float64\",\"shape\":[142]},\"population\":[31889923,3600523,33333216,12420476,40301927,20434176,8199783,708573,150448339,10392226,8078314,9119152,4552198,1639131,190010647,7322858,14326203,8390505,14131858,17696293,33390141,4369038,10238807,16284741,1318683096,44227550,710960,64606759,3800610,4133884,18013409,4493312,11416987,10228744,5468120,496374,9319622,13755680,80264543,6939688,551201,4906585,76511887,5238460,61083916,1454867,1688359,82400996,22873338,10706290,12572928,9947814,1472041,8502814,7483763,6980412,9956108,301931,1110396331,223547000,69453570,27499638,4109086,6426679,58147733,2780132,127467972,6053193,35610177,23301725,49044790,2505559,3921278,2012649,3193942,6036914,19167654,13327079,24821286,12031795,3270065,1250882,108700891,2874127,684736,33757175,19951656,47761980,2055080,28901790,16570613,4115771,5675356,12894865,135031164,4627926,3204897,169270617,3242173,6667147,28674757,91077287,38518241,10642836,3942491,798094,22276056,8860588,199579,27601038,12267493,10150265,6144562,4553009,5447502,2009245,9118773,43997828,40448191,20378239,42292929,1133066,9031088,7554661,19314747,23174294,38139640,65068149,5701579,1056608,10276158,71158647,29170398,60776238,301139947,3447496,26084662,85262356,4018332,22211743,11746035,12311143],\"year\":[2007,2007,2007,2007,2007,2007,2007,2007,2007,2007,2007,2007,2007,2007,2007,2007,2007,2007,2007,2007,2007,2007,2007,2007,2007,2007,2007,2007,2007,2007,2007,2007,2007,2007,2007,2007,2007,2007,2007,2007,2007,2007,2007,2007,2007,2007,2007,2007,2007,2007,2007,2007,2007,2007,2007,2007,2007,2007,2007,2007,2007,2007,2007,2007,2007,2007,2007,2007,2007,2007,2007,2007,2007,2007,2007,2007,2007,2007,2007,2007,2007,2007,2007,2007,2007,2007,2007,2007,2007,2007,2007,2007,2007,2007,2007,2007,2007,2007,2007,2007,2007,2007,2007,2007,2007,2007,2007,2007,2007,2007,2007,2007,2007,2007,2007,2007,2007,2007,2007,2007,2007,2007,2007,2007,2007,2007,2007,2007,2007,2007,2007,2007,2007,2007,2007,2007,2007,2007,2007,2007,2007,2007]},\"selected\":{\"id\":\"39443\",\"type\":\"Selection\"},\"selection_policy\":{\"id\":\"39442\",\"type\":\"UnionRenderers\"}},\"id\":\"38876\",\"type\":\"ColumnDataSource\"},{\"attributes\":{\"ticker\":{\"id\":\"39573\",\"type\":\"LogTicker\"}},\"id\":\"39576\",\"type\":\"Grid\"},{\"attributes\":{\"bottom_units\":\"screen\",\"fill_alpha\":{\"value\":0.5},\"fill_color\":{\"value\":\"lightgrey\"},\"left_units\":\"screen\",\"level\":\"overlay\",\"line_alpha\":{\"value\":1.0},\"line_color\":{\"value\":\"black\"},\"line_dash\":[4,4],\"line_width\":{\"value\":2},\"render_mode\":\"css\",\"right_units\":\"screen\",\"top_units\":\"screen\"},\"id\":\"40133\",\"type\":\"BoxAnnotation\"},{\"attributes\":{\"axis_label\":\"Life Expectancy\",\"formatter\":{\"id\":\"40132\",\"type\":\"BasicTickFormatter\"},\"ticker\":{\"id\":\"39578\",\"type\":\"BasicTicker\"}},\"id\":\"39577\",\"type\":\"LinearAxis\"},{\"attributes\":{},\"id\":\"39578\",\"type\":\"BasicTicker\"}],\"root_ids\":[\"39561\"]},\"title\":\"Bokeh Application\",\"version\":\"1.3.4\"}};\n",
       "  var render_items = [{\"docid\":\"65851180-0326-4918-b275-d9834ca9e279\",\"roots\":{\"39561\":\"6ae7c639-e369-4943-a75c-6a42b5600928\"}}];\n",
       "  root.Bokeh.embed.embed_items_notebook(docs_json, render_items);\n",
       "\n",
       "  }\n",
       "  if (root.Bokeh !== undefined) {\n",
       "    embed_document(root);\n",
       "  } else {\n",
       "    var attempts = 0;\n",
       "    var timer = setInterval(function(root) {\n",
       "      if (root.Bokeh !== undefined) {\n",
       "        embed_document(root);\n",
       "        clearInterval(timer);\n",
       "      }\n",
       "      attempts++;\n",
       "      if (attempts > 100) {\n",
       "        console.log(\"Bokeh: ERROR: Unable to run BokehJS code because BokehJS library is missing\");\n",
       "        clearInterval(timer);\n",
       "      }\n",
       "    }, 10, root)\n",
       "  }\n",
       "})(window);"
      ],
      "application/vnd.bokehjs_exec.v0+json": ""
     },
     "metadata": {
      "application/vnd.bokehjs_exec.v0+json": {
       "id": "39561"
      }
     },
     "output_type": "display_data"
    }
   ],
   "source": [
    "#Resizing the bubbles w.r.t population\n",
    "\n",
    "from bokeh.io import show\n",
    "from bokeh.models import LinearInterpolator\n",
    "from bokeh.plotting import figure\n",
    "\n",
    "\n",
    "p = figure(\n",
    "    height = 400, \n",
    "    width = 600,\n",
    "    x_axis_type = 'log',\n",
    "    x_range = (100,100000), y_range = (0,100),\n",
    "    title = \"Life Expectancy vs GDP of Nations for 2010\")\n",
    "\n",
    "\n",
    "size_mapper = LinearInterpolator(\n",
    "    x = [data.population.min(), data.population.max()],\n",
    "    y = [10,100]\n",
    ")\n",
    "\n",
    "\n",
    "p.circle(x='gdpPercap', y='lifeExp',color=\"orange\",alpha=0.6,source=source,\n",
    "         size={'field':'population', 'transform':size_mapper})\n",
    "\n",
    "p.xaxis.axis_label = \"GDP per Capita\"\n",
    "p.yaxis.axis_label = \"Life Expectancy\"\n",
    "\n",
    "\n",
    "from bokeh.models import NumeralTickFormatter\n",
    "p.xaxis[0].formatter = NumeralTickFormatter(format='$0,')\n",
    "\n",
    "show(p)"
   ]
  },
  {
   "cell_type": "markdown",
   "metadata": {},
   "source": [
    "Voila ! here we have different countries represented by different size of bubbles. But they all look the same. Now let us give each region a color to add more dimensions and provide a legend."
   ]
  },
  {
   "cell_type": "markdown",
   "metadata": {},
   "source": [
    "## Coloring the countries by the continent column\n",
    "\n",
    "For this we shall use the **CategoricalColorMapper** option from bokeh and the **Spectral6** pallete."
   ]
  },
  {
   "cell_type": "code",
   "execution_count": 180,
   "metadata": {},
   "outputs": [
    {
     "data": {
      "text/html": [
       "\n",
       "\n",
       "\n",
       "\n",
       "\n",
       "\n",
       "  <div class=\"bk-root\" id=\"8db2528e-3f9a-4f92-8b28-00f2b3dc138c\" data-root-id=\"40249\"></div>\n"
      ]
     },
     "metadata": {},
     "output_type": "display_data"
    },
    {
     "data": {
      "application/javascript": [
       "(function(root) {\n",
       "  function embed_document(root) {\n",
       "    \n",
       "  var docs_json = {\"843a8431-bb26-414c-84d6-f476cba2f9bc\":{\"roots\":{\"references\":[{\"attributes\":{\"below\":[{\"id\":\"40260\",\"type\":\"LogAxis\"}],\"center\":[{\"id\":\"40264\",\"type\":\"Grid\"},{\"id\":\"40269\",\"type\":\"Grid\"},{\"id\":\"40296\",\"type\":\"Legend\"}],\"left\":[{\"id\":\"40265\",\"type\":\"LinearAxis\"}],\"plot_height\":400,\"renderers\":[{\"id\":\"40288\",\"type\":\"GlyphRenderer\"}],\"title\":{\"id\":\"40250\",\"type\":\"Title\"},\"toolbar\":{\"id\":\"40276\",\"type\":\"Toolbar\"},\"x_range\":{\"id\":\"40252\",\"type\":\"Range1d\"},\"x_scale\":{\"id\":\"40256\",\"type\":\"LogScale\"},\"y_range\":{\"id\":\"40254\",\"type\":\"Range1d\"},\"y_scale\":{\"id\":\"40258\",\"type\":\"LinearScale\"}},\"id\":\"40249\",\"subtype\":\"Figure\",\"type\":\"Plot\"},{\"attributes\":{\"ticker\":{\"id\":\"40261\",\"type\":\"LogTicker\"}},\"id\":\"40264\",\"type\":\"Grid\"},{\"attributes\":{},\"id\":\"39443\",\"type\":\"Selection\"},{\"attributes\":{},\"id\":\"40294\",\"type\":\"BasicTickFormatter\"},{\"attributes\":{\"data\":null,\"x\":[60011,1318683096],\"y\":[10,100]},\"id\":\"40283\",\"type\":\"LinearInterpolator\"},{\"attributes\":{},\"id\":\"39442\",\"type\":\"UnionRenderers\"},{\"attributes\":{\"source\":{\"id\":\"38876\",\"type\":\"ColumnDataSource\"}},\"id\":\"40289\",\"type\":\"CDSView\"},{\"attributes\":{\"bottom_units\":\"screen\",\"fill_alpha\":{\"value\":0.5},\"fill_color\":{\"value\":\"lightgrey\"},\"left_units\":\"screen\",\"level\":\"overlay\",\"line_alpha\":{\"value\":1.0},\"line_color\":{\"value\":\"black\"},\"line_dash\":[4,4],\"line_width\":{\"value\":2},\"render_mode\":\"css\",\"right_units\":\"screen\",\"top_units\":\"screen\"},\"id\":\"40295\",\"type\":\"BoxAnnotation\"},{\"attributes\":{\"factors\":[\"Asia\",\"Europe\",\"Africa\",\"Americas\",\"Oceania\"],\"palette\":[\"#3288bd\",\"#99d594\",\"#e6f598\",\"#fee08b\",\"#fc8d59\",\"#d53e4f\"]},\"id\":\"40284\",\"type\":\"CategoricalColorMapper\"},{\"attributes\":{\"items\":[{\"id\":\"40297\",\"type\":\"LegendItem\"}]},\"id\":\"40296\",\"type\":\"Legend\"},{\"attributes\":{\"dimension\":1,\"ticker\":{\"id\":\"40266\",\"type\":\"BasicTicker\"}},\"id\":\"40269\",\"type\":\"Grid\"},{\"attributes\":{\"label\":{\"field\":\"continent\"},\"renderers\":[{\"id\":\"40288\",\"type\":\"GlyphRenderer\"}]},\"id\":\"40297\",\"type\":\"LegendItem\"},{\"attributes\":{\"fill_alpha\":{\"value\":0.6},\"fill_color\":{\"field\":\"continent\",\"transform\":{\"id\":\"40284\",\"type\":\"CategoricalColorMapper\"}},\"line_alpha\":{\"value\":0.6},\"line_color\":{\"field\":\"continent\",\"transform\":{\"id\":\"40284\",\"type\":\"CategoricalColorMapper\"}},\"size\":{\"field\":\"population\",\"transform\":{\"id\":\"40283\",\"type\":\"LinearInterpolator\"},\"units\":\"screen\"},\"x\":{\"field\":\"gdpPercap\"},\"y\":{\"field\":\"lifeExp\"}},\"id\":\"40286\",\"type\":\"Circle\"},{\"attributes\":{\"axis_label\":\"Life Expectancy\",\"formatter\":{\"id\":\"40294\",\"type\":\"BasicTickFormatter\"},\"ticker\":{\"id\":\"40266\",\"type\":\"BasicTicker\"}},\"id\":\"40265\",\"type\":\"LinearAxis\"},{\"attributes\":{},\"id\":\"40266\",\"type\":\"BasicTicker\"},{\"attributes\":{},\"id\":\"40258\",\"type\":\"LinearScale\"},{\"attributes\":{\"format\":\"$0,\"},\"id\":\"40298\",\"type\":\"NumeralTickFormatter\"},{\"attributes\":{},\"id\":\"40256\",\"type\":\"LogScale\"},{\"attributes\":{\"fill_alpha\":{\"value\":0.1},\"fill_color\":{\"value\":\"#1f77b4\"},\"line_alpha\":{\"value\":0.1},\"line_color\":{\"value\":\"#1f77b4\"},\"size\":{\"field\":\"population\",\"transform\":{\"id\":\"40283\",\"type\":\"LinearInterpolator\"},\"units\":\"screen\"},\"x\":{\"field\":\"gdpPercap\"},\"y\":{\"field\":\"lifeExp\"}},\"id\":\"40287\",\"type\":\"Circle\"},{\"attributes\":{},\"id\":\"40270\",\"type\":\"PanTool\"},{\"attributes\":{\"callback\":null,\"end\":100},\"id\":\"40254\",\"type\":\"Range1d\"},{\"attributes\":{},\"id\":\"40271\",\"type\":\"WheelZoomTool\"},{\"attributes\":{\"callback\":null,\"end\":100000,\"start\":100},\"id\":\"40252\",\"type\":\"Range1d\"},{\"attributes\":{\"overlay\":{\"id\":\"40295\",\"type\":\"BoxAnnotation\"}},\"id\":\"40272\",\"type\":\"BoxZoomTool\"},{\"attributes\":{\"text\":\"Life Expectancy vs GDP of Nations\"},\"id\":\"40250\",\"type\":\"Title\"},{\"attributes\":{},\"id\":\"40273\",\"type\":\"SaveTool\"},{\"attributes\":{\"axis_label\":\"GDP per Capita\",\"formatter\":{\"id\":\"40298\",\"type\":\"NumeralTickFormatter\"},\"ticker\":{\"id\":\"40261\",\"type\":\"LogTicker\"}},\"id\":\"40260\",\"type\":\"LogAxis\"},{\"attributes\":{\"callback\":null,\"data\":{\"continent\":[\"Asia\",\"Europe\",\"Africa\",\"Africa\",\"Americas\",\"Oceania\",\"Europe\",\"Asia\",\"Asia\",\"Europe\",\"Africa\",\"Americas\",\"Europe\",\"Africa\",\"Americas\",\"Europe\",\"Africa\",\"Africa\",\"Asia\",\"Africa\",\"Americas\",\"Africa\",\"Africa\",\"Americas\",\"Asia\",\"Americas\",\"Africa\",\"Africa\",\"Africa\",\"Americas\",\"Africa\",\"Europe\",\"Americas\",\"Europe\",\"Europe\",\"Africa\",\"Americas\",\"Americas\",\"Africa\",\"Americas\",\"Africa\",\"Africa\",\"Africa\",\"Europe\",\"Europe\",\"Africa\",\"Africa\",\"Europe\",\"Africa\",\"Europe\",\"Americas\",\"Africa\",\"Africa\",\"Americas\",\"Americas\",\"Asia\",\"Europe\",\"Europe\",\"Asia\",\"Asia\",\"Asia\",\"Asia\",\"Europe\",\"Asia\",\"Europe\",\"Americas\",\"Asia\",\"Asia\",\"Africa\",\"Asia\",\"Asia\",\"Asia\",\"Asia\",\"Africa\",\"Africa\",\"Africa\",\"Africa\",\"Africa\",\"Asia\",\"Africa\",\"Africa\",\"Africa\",\"Americas\",\"Asia\",\"Europe\",\"Africa\",\"Africa\",\"Asia\",\"Africa\",\"Asia\",\"Europe\",\"Oceania\",\"Americas\",\"Africa\",\"Africa\",\"Europe\",\"Asia\",\"Asia\",\"Americas\",\"Americas\",\"Americas\",\"Asia\",\"Europe\",\"Europe\",\"Americas\",\"Africa\",\"Europe\",\"Africa\",\"Africa\",\"Asia\",\"Africa\",\"Europe\",\"Africa\",\"Asia\",\"Europe\",\"Europe\",\"Africa\",\"Africa\",\"Europe\",\"Asia\",\"Africa\",\"Africa\",\"Europe\",\"Europe\",\"Asia\",\"Asia\",\"Africa\",\"Asia\",\"Africa\",\"Americas\",\"Africa\",\"Europe\",\"Africa\",\"Europe\",\"Americas\",\"Americas\",\"Americas\",\"Asia\",\"Asia\",\"Asia\",\"Africa\",\"Africa\"],\"country\":[\"Afghanistan\",\"Albania\",\"Algeria\",\"Angola\",\"Argentina\",\"Australia\",\"Austria\",\"Bahrain\",\"Bangladesh\",\"Belgium\",\"Benin\",\"Bolivia\",\"Bosnia and Herzegovina\",\"Botswana\",\"Brazil\",\"Bulgaria\",\"Burkina Faso\",\"Burundi\",\"Cambodia\",\"Cameroon\",\"Canada\",\"Central African Republic\",\"Chad\",\"Chile\",\"China\",\"Colombia\",\"Comoros\",\"Congo, Dem. Rep.\",\"Congo, Rep.\",\"Costa Rica\",\"Cote d'Ivoire\",\"Croatia\",\"Cuba\",\"Czech Republic\",\"Denmark\",\"Djibouti\",\"Dominican Republic\",\"Ecuador\",\"Egypt\",\"El Salvador\",\"Equatorial Guinea\",\"Eritrea\",\"Ethiopia\",\"Finland\",\"France\",\"Gabon\",\"Gambia\",\"Germany\",\"Ghana\",\"Greece\",\"Guatemala\",\"Guinea\",\"Guinea-Bissau\",\"Haiti\",\"Honduras\",\"Hong Kong, China\",\"Hungary\",\"Iceland\",\"India\",\"Indonesia\",\"Iran\",\"Iraq\",\"Ireland\",\"Israel\",\"Italy\",\"Jamaica\",\"Japan\",\"Jordan\",\"Kenya\",\"Korea, Dem. Rep.\",\"Korea, Rep.\",\"Kuwait\",\"Lebanon\",\"Lesotho\",\"Liberia\",\"Libya\",\"Madagascar\",\"Malawi\",\"Malaysia\",\"Mali\",\"Mauritania\",\"Mauritius\",\"Mexico\",\"Mongolia\",\"Montenegro\",\"Morocco\",\"Mozambique\",\"Myanmar\",\"Namibia\",\"Nepal\",\"Netherlands\",\"New Zealand\",\"Nicaragua\",\"Niger\",\"Nigeria\",\"Norway\",\"Oman\",\"Pakistan\",\"Panama\",\"Paraguay\",\"Peru\",\"Philippines\",\"Poland\",\"Portugal\",\"Puerto Rico\",\"Reunion\",\"Romania\",\"Rwanda\",\"Sao Tome and Principe\",\"Saudi Arabia\",\"Senegal\",\"Serbia\",\"Sierra Leone\",\"Singapore\",\"Slovak Republic\",\"Slovenia\",\"Somalia\",\"South Africa\",\"Spain\",\"Sri Lanka\",\"Sudan\",\"Swaziland\",\"Sweden\",\"Switzerland\",\"Syria\",\"Taiwan\",\"Tanzania\",\"Thailand\",\"Togo\",\"Trinidad and Tobago\",\"Tunisia\",\"Turkey\",\"Uganda\",\"United Kingdom\",\"United States\",\"Uruguay\",\"Venezuela\",\"Vietnam\",\"West Bank and Gaza\",\"Yemen, Rep.\",\"Zambia\",\"Zimbabwe\"],\"gdpPercap\":{\"__ndarray__\":\"54R1iKR0jkBhFASPBzG3QG2tLxJeT7hApWlQNDu9skAhJAuYsPXIQOeHEcJr0OBAWMoyxM+j4UDFpwAYAxndQPLPDOIDvZVAb7vQXJNz4EAOar+1I4WWQJ3B3y9G3K1A8nhafkwWvUDcoswG7YzIQGkAb4HmtMFAzzEge2XcxEDb2y3JIQSTQKLhg40h4XpAad/cXx3HmkAVNZiGYeifQAixM4Xnu+FAZJEm3iEQhkDhP91AQaCaQIY41sXRuclA0F0SZx1fs0D67laWlF67QBM+Stsu0Y5ANcjJadRYcUCMD7OXHWGsQKlNnNyH1sJAWTFcHQAjmEAUxhaCnI3MQIGzlCwNesFAH7qgvlNM1kCxbVFmzTnhQKsn84/2RKBAHUC/71+Jt0Dl9ssnQ9m6QKSK4lUuzbVArrzkf1pgtkBoke18C73HQM4Iysj0CoRAkQfH0XGWhUD5oGez4jbgQHbgnBGBwd1AIVnABD7LyUCOc5tw/4WHQL5Nf/aXat9A1GAahm++lEB47j1cmuTaQLQh/8wMQrRAcXkH0zt1jUCd8BKc2hmCQBAiGXKMxpJAB5ylZKm4q0Byv0NRn2XjQEJ4tHE8ltFACmMLQZmq4UCzX3e6ayijQIHuy5lNqatAqYdodNuqxkBtVRLZD3exQCxlGeJ/3ONAbqMBvNHs2EC8lpAPbubbQOq12VjhmLxAi1QYWwTq3kDdek0PdqexQO3Vx0P/3JZAK2owDUPkmEASGVbxCM3WQEgbR6xfGedAd4TTgoduxEAVGohlU4WYQHXmHhIe6HlAxjNo6L+Mx0Ay/+ibFFOQQFKgqp3MuodAXCBB8dNRyEAKn62DU0qQQOd1xCGbLJxANSkF3X5mxUBBDkqYyWTHQE3BGmeLL6hAS+fDs/ISwkCOHr+3WditQL3HmSZ8vYlAAAAAAACAjUC7YkZ4D8uyQEjfpGlwDZFAlufB3b334UAEHEKVQJjYQFJEhlWkeqVASQeQRmpdg0DfVKTC6HefQFZl3xWmGehAmGn7VwzL1UCwrDQp5VukQHui68KXKMNA4KKTpdZMsECIf9jS5/C8QLWpukf27KhAowvqW/YOzkBVTRB1aQfUQKJ6a2At4NJA3Qn2Xx/2vUDT2cngPBzFQASrjyy1+IpAZof4h735mEAPRYE+tSXVQA6dnnfjwZpAWyOCcUQdw0DnJO93U/SKQKFinL/lBOdAYHZPHpQ90kByxFp8ECrZQAW4augg8YxAhnMNM9QawkAwKqkTRCXcQJ+xL9kwBK9AK97IPMpUpEANbmsLe6GxQP+ye/J3iOBAF30FaU1Q4kBMio9PjFiwQI4ev7eRC9xA4UIewe1NkUCFr691ZSK9QKkf5XHCl4tAdF5jlyCW0UBkzF1L7LS7QJIIjWAjhcBAGH5wPoWBkEDj32dcaDbgQOv/HOb0+ORAMJ5BQ7u5xEBclNkg50vGQJHSbB4nE6NAajS5GLOip0D9hR4xitGhQEDc1avY3JNA2On2SFlbfUA=\",\"dtype\":\"float64\",\"shape\":[142]},\"lifeExp\":{\"__ndarray__\":\"RIts5/vpRUBQjZduEhtTQCUGgZVDE1JAIbByaJFdRUAUrkfhetRSQNejcD0KT1RAkxgEVg71U0BxPQrXo+hSQIcW2c73A1BATmIQWDncU0B3vp8aL11MQPp+arx0Y1BASgwCK4e2UkB3vp8aL11JQClcj8L1GFJAuB6F61FAUkD2KFyPwiVKQArXo3A9ykhABoGVQ4vcTUDXo3A9CjdJQG8Sg8DKKVRAAyuHFtleRkAX2c73U1NJQAisHFpko1NAL90kBoE9UkA3iUFg5ThSQH0/NV66SVBAQWDl0CI7R0Dvp8ZLN6lLQDVeukkMslNARIts5/spSEAdWmQ73+9SQLbz/dR4kVNAyXa+nxofU0Boke18P5VTQGmR7Xw/ZUtA16NwPQoPUkBWDi2ynb9SQBODwMqh1VFA1XjpJjH4UUAmMQisHMpJQIXrUbgeBU1A76fGSzd5SkB56SYxCNRTQDVeukkMKlRArkfhehReTEDTTWIQWLlNQESLbOf72VNAiUFg5dACTkD0/dR46d5TQH9qvHSTkFFAN4lBYOUATECMbOf7qTFHQGmR7Xw/dU5A6iYxCKyMUUBaZDvfT41UQBODwMqhVVJAnMQgsHJwVEDqJjEIrCxQQJqZmZmZqVFABFYOLbK9UUD2KFyPwsVNQHE9CtejuFNASOF6FK4vVEBt5/up8SJUQD81XrpJJFJAO99PjZemVEAK16NwPSJSQK5H4XoUDktAXrpJDALTUEAdWmQ736dTQBODwMqhZVNAZDvfT43/UUCyne+nxktFQBFYObTI1kZAsHJoke18UkBjEFg5tLhNQBFYObTIJkhAgZVDi2yPUkCyne+nxjtLQNEi2/l+ClBAJQaBlUMzUkAUrkfhegxTQAisHFpks1BAmG4Sg8CiUkDRItv5fspRQNEi2/l+CkVARbbz/dQIT0CIFtnO93NKQBSuR+F65E9AVOOlm8TwU0CTGARWDg1UQKjGSzeJOVJA5dAi2/luTEDKoUW2821HQAaBlUOLDFRAKVyPwvXoUkD0/dR46V5QQO18PzVe4lJA46WbxCDwUUBt5/up8dpRQHnpJjEI7FFAeekmMQjkUkCDwMqhRYZTQDq0yHa+r1NAPzVeukkcU0BYObTIdh5SQOXQItv5HkdAbxKDwMphUEB9PzVeujFSQA4tsp3vh09A46WbxCCAUkBjEFg5tEhFQJHtfD81/lNA30+Nl26qUkAlBoGVQ3tTQDEIrBxaFEhACKwcWmSrSEBOYhBYOTxUQNNNYhBYGVJAu0kMAitHTUBYObTIds5DQH9qvHSTOFRAv58aL91sVED+1HjpJolSQJqZmZmZmVNAGARWDi1CSkCBlUOLbKdRQPYoXI/CNU1AI9v5fmp0UUBQjZduEntSQH0/NV668VFATDeJQWDFSUAzMzMzM9tTQHNoke18j1NAf2q8dJMYU0ArhxbZzm9SQA4tsp3vj1JAXrpJDAJbUkDTTWIQWFlPQP3UeOkmMUVAdJMYBFa+RUA=\",\"dtype\":\"float64\",\"shape\":[142]},\"population\":[31889923,3600523,33333216,12420476,40301927,20434176,8199783,708573,150448339,10392226,8078314,9119152,4552198,1639131,190010647,7322858,14326203,8390505,14131858,17696293,33390141,4369038,10238807,16284741,1318683096,44227550,710960,64606759,3800610,4133884,18013409,4493312,11416987,10228744,5468120,496374,9319622,13755680,80264543,6939688,551201,4906585,76511887,5238460,61083916,1454867,1688359,82400996,22873338,10706290,12572928,9947814,1472041,8502814,7483763,6980412,9956108,301931,1110396331,223547000,69453570,27499638,4109086,6426679,58147733,2780132,127467972,6053193,35610177,23301725,49044790,2505559,3921278,2012649,3193942,6036914,19167654,13327079,24821286,12031795,3270065,1250882,108700891,2874127,684736,33757175,19951656,47761980,2055080,28901790,16570613,4115771,5675356,12894865,135031164,4627926,3204897,169270617,3242173,6667147,28674757,91077287,38518241,10642836,3942491,798094,22276056,8860588,199579,27601038,12267493,10150265,6144562,4553009,5447502,2009245,9118773,43997828,40448191,20378239,42292929,1133066,9031088,7554661,19314747,23174294,38139640,65068149,5701579,1056608,10276158,71158647,29170398,60776238,301139947,3447496,26084662,85262356,4018332,22211743,11746035,12311143],\"year\":[2007,2007,2007,2007,2007,2007,2007,2007,2007,2007,2007,2007,2007,2007,2007,2007,2007,2007,2007,2007,2007,2007,2007,2007,2007,2007,2007,2007,2007,2007,2007,2007,2007,2007,2007,2007,2007,2007,2007,2007,2007,2007,2007,2007,2007,2007,2007,2007,2007,2007,2007,2007,2007,2007,2007,2007,2007,2007,2007,2007,2007,2007,2007,2007,2007,2007,2007,2007,2007,2007,2007,2007,2007,2007,2007,2007,2007,2007,2007,2007,2007,2007,2007,2007,2007,2007,2007,2007,2007,2007,2007,2007,2007,2007,2007,2007,2007,2007,2007,2007,2007,2007,2007,2007,2007,2007,2007,2007,2007,2007,2007,2007,2007,2007,2007,2007,2007,2007,2007,2007,2007,2007,2007,2007,2007,2007,2007,2007,2007,2007,2007,2007,2007,2007,2007,2007,2007,2007,2007,2007,2007,2007]},\"selected\":{\"id\":\"39443\",\"type\":\"Selection\"},\"selection_policy\":{\"id\":\"39442\",\"type\":\"UnionRenderers\"}},\"id\":\"38876\",\"type\":\"ColumnDataSource\"},{\"attributes\":{},\"id\":\"40274\",\"type\":\"ResetTool\"},{\"attributes\":{\"num_minor_ticks\":10},\"id\":\"40261\",\"type\":\"LogTicker\"},{\"attributes\":{\"data_source\":{\"id\":\"38876\",\"type\":\"ColumnDataSource\"},\"glyph\":{\"id\":\"40286\",\"type\":\"Circle\"},\"hover_glyph\":null,\"muted_glyph\":null,\"nonselection_glyph\":{\"id\":\"40287\",\"type\":\"Circle\"},\"selection_glyph\":null,\"view\":{\"id\":\"40289\",\"type\":\"CDSView\"}},\"id\":\"40288\",\"type\":\"GlyphRenderer\"},{\"attributes\":{},\"id\":\"40275\",\"type\":\"HelpTool\"},{\"attributes\":{\"active_drag\":\"auto\",\"active_inspect\":\"auto\",\"active_multi\":null,\"active_scroll\":\"auto\",\"active_tap\":\"auto\",\"tools\":[{\"id\":\"40270\",\"type\":\"PanTool\"},{\"id\":\"40271\",\"type\":\"WheelZoomTool\"},{\"id\":\"40272\",\"type\":\"BoxZoomTool\"},{\"id\":\"40273\",\"type\":\"SaveTool\"},{\"id\":\"40274\",\"type\":\"ResetTool\"},{\"id\":\"40275\",\"type\":\"HelpTool\"}]},\"id\":\"40276\",\"type\":\"Toolbar\"}],\"root_ids\":[\"40249\"]},\"title\":\"Bokeh Application\",\"version\":\"1.3.4\"}};\n",
       "  var render_items = [{\"docid\":\"843a8431-bb26-414c-84d6-f476cba2f9bc\",\"roots\":{\"40249\":\"8db2528e-3f9a-4f92-8b28-00f2b3dc138c\"}}];\n",
       "  root.Bokeh.embed.embed_items_notebook(docs_json, render_items);\n",
       "\n",
       "  }\n",
       "  if (root.Bokeh !== undefined) {\n",
       "    embed_document(root);\n",
       "  } else {\n",
       "    var attempts = 0;\n",
       "    var timer = setInterval(function(root) {\n",
       "      if (root.Bokeh !== undefined) {\n",
       "        embed_document(root);\n",
       "        clearInterval(timer);\n",
       "      }\n",
       "      attempts++;\n",
       "      if (attempts > 100) {\n",
       "        console.log(\"Bokeh: ERROR: Unable to run BokehJS code because BokehJS library is missing\");\n",
       "        clearInterval(timer);\n",
       "      }\n",
       "    }, 10, root)\n",
       "  }\n",
       "})(window);"
      ],
      "application/vnd.bokehjs_exec.v0+json": ""
     },
     "metadata": {
      "application/vnd.bokehjs_exec.v0+json": {
       "id": "40249"
      }
     },
     "output_type": "display_data"
    }
   ],
   "source": [
    "from bokeh.io import show\n",
    "from bokeh.models import LinearInterpolator\n",
    "from bokeh.plotting import figure\n",
    "from bokeh.models import CategoricalColorMapper\n",
    "from bokeh.palettes import Spectral6\n",
    "\n",
    "p = figure(\n",
    "    height = 400, \n",
    "    width = 600,\n",
    "    x_axis_type = 'log',\n",
    "    x_range = (100,100000), y_range = (0,100),\n",
    "    title = \"Life Expectancy vs GDP of Nations\")\n",
    "\n",
    "\n",
    "size_mapper = LinearInterpolator(\n",
    "    x = [data.population.min(), data.population.max()],\n",
    "    y = [10,100]\n",
    ")\n",
    "\n",
    "# Mapping color to region\n",
    "color_mapper = CategoricalColorMapper(\n",
    "    factors=list(data.continent.unique()),\n",
    "    palette=Spectral6\n",
    ")\n",
    "\n",
    "\n",
    "p.circle(x='gdpPercap', y='lifeExp',alpha=0.6,source=source,\n",
    "         size={'field':'population', 'transform':size_mapper},\n",
    "         color={'field':'continent', 'transform':color_mapper},\n",
    "         legend='continent'\n",
    "        )\n",
    "\n",
    "p.xaxis.axis_label = \"GDP per Capita\"\n",
    "p.yaxis.axis_label = \"Life Expectancy\"\n",
    "\n",
    "\n",
    "from bokeh.models import NumeralTickFormatter\n",
    "p.xaxis[0].formatter = NumeralTickFormatter(format='$0,')\n",
    "\n",
    "show(p)"
   ]
  },
  {
   "cell_type": "markdown",
   "metadata": {},
   "source": [
    "## Adding Hovertool Capabilities\n",
    "\n",
    "Finally its time to add the Hovrtools functionality of Bokeh. Till will help us to identifythe country being represented by each bubble."
   ]
  },
  {
   "cell_type": "code",
   "execution_count": 181,
   "metadata": {},
   "outputs": [
    {
     "data": {
      "text/html": [
       "\n",
       "\n",
       "\n",
       "\n",
       "\n",
       "\n",
       "  <div class=\"bk-root\" id=\"776aa3b4-7595-4039-bede-85b18f53765f\" data-root-id=\"40954\"></div>\n"
      ]
     },
     "metadata": {},
     "output_type": "display_data"
    },
    {
     "data": {
      "application/javascript": [
       "(function(root) {\n",
       "  function embed_document(root) {\n",
       "    \n",
       "  var docs_json = {\"eb4df151-4631-42e0-8e02-e0e2def24730\":{\"roots\":{\"references\":[{\"attributes\":{\"below\":[{\"id\":\"40965\",\"type\":\"LogAxis\"}],\"center\":[{\"id\":\"40969\",\"type\":\"Grid\"},{\"id\":\"40974\",\"type\":\"Grid\"},{\"id\":\"40989\",\"type\":\"Legend\"}],\"left\":[{\"id\":\"40970\",\"type\":\"LinearAxis\"}],\"plot_height\":400,\"renderers\":[{\"id\":\"40982\",\"type\":\"GlyphRenderer\"}],\"right\":[{\"id\":\"40989\",\"type\":\"Legend\"}],\"title\":{\"id\":\"40955\",\"type\":\"Title\"},\"toolbar\":{\"id\":\"40975\",\"type\":\"Toolbar\"},\"x_range\":{\"id\":\"40957\",\"type\":\"Range1d\"},\"x_scale\":{\"id\":\"40961\",\"type\":\"LogScale\"},\"y_range\":{\"id\":\"40959\",\"type\":\"Range1d\"},\"y_scale\":{\"id\":\"40963\",\"type\":\"LinearScale\"}},\"id\":\"40954\",\"subtype\":\"Figure\",\"type\":\"Plot\"},{\"attributes\":{\"source\":{\"id\":\"38876\",\"type\":\"ColumnDataSource\"}},\"id\":\"40983\",\"type\":\"CDSView\"},{\"attributes\":{\"num_minor_ticks\":10},\"id\":\"40966\",\"type\":\"LogTicker\"},{\"attributes\":{},\"id\":\"39443\",\"type\":\"Selection\"},{\"attributes\":{\"axis_label\":\"GDP per Capita\",\"formatter\":{\"id\":\"40991\",\"type\":\"NumeralTickFormatter\"},\"ticker\":{\"id\":\"40966\",\"type\":\"LogTicker\"}},\"id\":\"40965\",\"type\":\"LogAxis\"},{\"attributes\":{\"text\":\"Life Expectancy vs GDP of Nations\"},\"id\":\"40955\",\"type\":\"Title\"},{\"attributes\":{\"label\":{\"field\":\"continent\"},\"renderers\":[{\"id\":\"40982\",\"type\":\"GlyphRenderer\"}]},\"id\":\"40990\",\"type\":\"LegendItem\"},{\"attributes\":{\"callback\":null,\"tooltips\":\"@country\"},\"id\":\"40953\",\"type\":\"HoverTool\"},{\"attributes\":{},\"id\":\"40988\",\"type\":\"BasicTickFormatter\"},{\"attributes\":{},\"id\":\"40963\",\"type\":\"LinearScale\"},{\"attributes\":{},\"id\":\"39442\",\"type\":\"UnionRenderers\"},{\"attributes\":{\"data\":null,\"x\":[60011,1318683096],\"y\":[10,100]},\"id\":\"40977\",\"type\":\"LinearInterpolator\"},{\"attributes\":{},\"id\":\"40961\",\"type\":\"LogScale\"},{\"attributes\":{\"callback\":null,\"end\":100},\"id\":\"40959\",\"type\":\"Range1d\"},{\"attributes\":{\"border_line_color\":{\"value\":null},\"items\":[{\"id\":\"40990\",\"type\":\"LegendItem\"}],\"location\":[30,-5]},\"id\":\"40989\",\"type\":\"Legend\"},{\"attributes\":{\"callback\":null,\"end\":100000,\"start\":100},\"id\":\"40957\",\"type\":\"Range1d\"},{\"attributes\":{\"ticker\":{\"id\":\"40966\",\"type\":\"LogTicker\"}},\"id\":\"40969\",\"type\":\"Grid\"},{\"attributes\":{\"dimension\":1,\"ticker\":{\"id\":\"40971\",\"type\":\"BasicTicker\"}},\"id\":\"40974\",\"type\":\"Grid\"},{\"attributes\":{\"active_drag\":\"auto\",\"active_inspect\":\"auto\",\"active_multi\":null,\"active_scroll\":\"auto\",\"active_tap\":\"auto\",\"tools\":[{\"id\":\"40953\",\"type\":\"HoverTool\"}]},\"id\":\"40975\",\"type\":\"Toolbar\"},{\"attributes\":{\"axis_label\":\"Life Expectancy\",\"formatter\":{\"id\":\"40988\",\"type\":\"BasicTickFormatter\"},\"ticker\":{\"id\":\"40971\",\"type\":\"BasicTicker\"}},\"id\":\"40970\",\"type\":\"LinearAxis\"},{\"attributes\":{},\"id\":\"40971\",\"type\":\"BasicTicker\"},{\"attributes\":{\"callback\":null,\"data\":{\"continent\":[\"Asia\",\"Europe\",\"Africa\",\"Africa\",\"Americas\",\"Oceania\",\"Europe\",\"Asia\",\"Asia\",\"Europe\",\"Africa\",\"Americas\",\"Europe\",\"Africa\",\"Americas\",\"Europe\",\"Africa\",\"Africa\",\"Asia\",\"Africa\",\"Americas\",\"Africa\",\"Africa\",\"Americas\",\"Asia\",\"Americas\",\"Africa\",\"Africa\",\"Africa\",\"Americas\",\"Africa\",\"Europe\",\"Americas\",\"Europe\",\"Europe\",\"Africa\",\"Americas\",\"Americas\",\"Africa\",\"Americas\",\"Africa\",\"Africa\",\"Africa\",\"Europe\",\"Europe\",\"Africa\",\"Africa\",\"Europe\",\"Africa\",\"Europe\",\"Americas\",\"Africa\",\"Africa\",\"Americas\",\"Americas\",\"Asia\",\"Europe\",\"Europe\",\"Asia\",\"Asia\",\"Asia\",\"Asia\",\"Europe\",\"Asia\",\"Europe\",\"Americas\",\"Asia\",\"Asia\",\"Africa\",\"Asia\",\"Asia\",\"Asia\",\"Asia\",\"Africa\",\"Africa\",\"Africa\",\"Africa\",\"Africa\",\"Asia\",\"Africa\",\"Africa\",\"Africa\",\"Americas\",\"Asia\",\"Europe\",\"Africa\",\"Africa\",\"Asia\",\"Africa\",\"Asia\",\"Europe\",\"Oceania\",\"Americas\",\"Africa\",\"Africa\",\"Europe\",\"Asia\",\"Asia\",\"Americas\",\"Americas\",\"Americas\",\"Asia\",\"Europe\",\"Europe\",\"Americas\",\"Africa\",\"Europe\",\"Africa\",\"Africa\",\"Asia\",\"Africa\",\"Europe\",\"Africa\",\"Asia\",\"Europe\",\"Europe\",\"Africa\",\"Africa\",\"Europe\",\"Asia\",\"Africa\",\"Africa\",\"Europe\",\"Europe\",\"Asia\",\"Asia\",\"Africa\",\"Asia\",\"Africa\",\"Americas\",\"Africa\",\"Europe\",\"Africa\",\"Europe\",\"Americas\",\"Americas\",\"Americas\",\"Asia\",\"Asia\",\"Asia\",\"Africa\",\"Africa\"],\"country\":[\"Afghanistan\",\"Albania\",\"Algeria\",\"Angola\",\"Argentina\",\"Australia\",\"Austria\",\"Bahrain\",\"Bangladesh\",\"Belgium\",\"Benin\",\"Bolivia\",\"Bosnia and Herzegovina\",\"Botswana\",\"Brazil\",\"Bulgaria\",\"Burkina Faso\",\"Burundi\",\"Cambodia\",\"Cameroon\",\"Canada\",\"Central African Republic\",\"Chad\",\"Chile\",\"China\",\"Colombia\",\"Comoros\",\"Congo, Dem. Rep.\",\"Congo, Rep.\",\"Costa Rica\",\"Cote d'Ivoire\",\"Croatia\",\"Cuba\",\"Czech Republic\",\"Denmark\",\"Djibouti\",\"Dominican Republic\",\"Ecuador\",\"Egypt\",\"El Salvador\",\"Equatorial Guinea\",\"Eritrea\",\"Ethiopia\",\"Finland\",\"France\",\"Gabon\",\"Gambia\",\"Germany\",\"Ghana\",\"Greece\",\"Guatemala\",\"Guinea\",\"Guinea-Bissau\",\"Haiti\",\"Honduras\",\"Hong Kong, China\",\"Hungary\",\"Iceland\",\"India\",\"Indonesia\",\"Iran\",\"Iraq\",\"Ireland\",\"Israel\",\"Italy\",\"Jamaica\",\"Japan\",\"Jordan\",\"Kenya\",\"Korea, Dem. Rep.\",\"Korea, Rep.\",\"Kuwait\",\"Lebanon\",\"Lesotho\",\"Liberia\",\"Libya\",\"Madagascar\",\"Malawi\",\"Malaysia\",\"Mali\",\"Mauritania\",\"Mauritius\",\"Mexico\",\"Mongolia\",\"Montenegro\",\"Morocco\",\"Mozambique\",\"Myanmar\",\"Namibia\",\"Nepal\",\"Netherlands\",\"New Zealand\",\"Nicaragua\",\"Niger\",\"Nigeria\",\"Norway\",\"Oman\",\"Pakistan\",\"Panama\",\"Paraguay\",\"Peru\",\"Philippines\",\"Poland\",\"Portugal\",\"Puerto Rico\",\"Reunion\",\"Romania\",\"Rwanda\",\"Sao Tome and Principe\",\"Saudi Arabia\",\"Senegal\",\"Serbia\",\"Sierra Leone\",\"Singapore\",\"Slovak Republic\",\"Slovenia\",\"Somalia\",\"South Africa\",\"Spain\",\"Sri Lanka\",\"Sudan\",\"Swaziland\",\"Sweden\",\"Switzerland\",\"Syria\",\"Taiwan\",\"Tanzania\",\"Thailand\",\"Togo\",\"Trinidad and Tobago\",\"Tunisia\",\"Turkey\",\"Uganda\",\"United Kingdom\",\"United States\",\"Uruguay\",\"Venezuela\",\"Vietnam\",\"West Bank and Gaza\",\"Yemen, Rep.\",\"Zambia\",\"Zimbabwe\"],\"gdpPercap\":{\"__ndarray__\":\"54R1iKR0jkBhFASPBzG3QG2tLxJeT7hApWlQNDu9skAhJAuYsPXIQOeHEcJr0OBAWMoyxM+j4UDFpwAYAxndQPLPDOIDvZVAb7vQXJNz4EAOar+1I4WWQJ3B3y9G3K1A8nhafkwWvUDcoswG7YzIQGkAb4HmtMFAzzEge2XcxEDb2y3JIQSTQKLhg40h4XpAad/cXx3HmkAVNZiGYeifQAixM4Xnu+FAZJEm3iEQhkDhP91AQaCaQIY41sXRuclA0F0SZx1fs0D67laWlF67QBM+Stsu0Y5ANcjJadRYcUCMD7OXHWGsQKlNnNyH1sJAWTFcHQAjmEAUxhaCnI3MQIGzlCwNesFAH7qgvlNM1kCxbVFmzTnhQKsn84/2RKBAHUC/71+Jt0Dl9ssnQ9m6QKSK4lUuzbVArrzkf1pgtkBoke18C73HQM4Iysj0CoRAkQfH0XGWhUD5oGez4jbgQHbgnBGBwd1AIVnABD7LyUCOc5tw/4WHQL5Nf/aXat9A1GAahm++lEB47j1cmuTaQLQh/8wMQrRAcXkH0zt1jUCd8BKc2hmCQBAiGXKMxpJAB5ylZKm4q0Byv0NRn2XjQEJ4tHE8ltFACmMLQZmq4UCzX3e6ayijQIHuy5lNqatAqYdodNuqxkBtVRLZD3exQCxlGeJ/3ONAbqMBvNHs2EC8lpAPbubbQOq12VjhmLxAi1QYWwTq3kDdek0PdqexQO3Vx0P/3JZAK2owDUPkmEASGVbxCM3WQEgbR6xfGedAd4TTgoduxEAVGohlU4WYQHXmHhIe6HlAxjNo6L+Mx0Ay/+ibFFOQQFKgqp3MuodAXCBB8dNRyEAKn62DU0qQQOd1xCGbLJxANSkF3X5mxUBBDkqYyWTHQE3BGmeLL6hAS+fDs/ISwkCOHr+3WditQL3HmSZ8vYlAAAAAAACAjUC7YkZ4D8uyQEjfpGlwDZFAlufB3b334UAEHEKVQJjYQFJEhlWkeqVASQeQRmpdg0DfVKTC6HefQFZl3xWmGehAmGn7VwzL1UCwrDQp5VukQHui68KXKMNA4KKTpdZMsECIf9jS5/C8QLWpukf27KhAowvqW/YOzkBVTRB1aQfUQKJ6a2At4NJA3Qn2Xx/2vUDT2cngPBzFQASrjyy1+IpAZof4h735mEAPRYE+tSXVQA6dnnfjwZpAWyOCcUQdw0DnJO93U/SKQKFinL/lBOdAYHZPHpQ90kByxFp8ECrZQAW4augg8YxAhnMNM9QawkAwKqkTRCXcQJ+xL9kwBK9AK97IPMpUpEANbmsLe6GxQP+ye/J3iOBAF30FaU1Q4kBMio9PjFiwQI4ev7eRC9xA4UIewe1NkUCFr691ZSK9QKkf5XHCl4tAdF5jlyCW0UBkzF1L7LS7QJIIjWAjhcBAGH5wPoWBkEDj32dcaDbgQOv/HOb0+ORAMJ5BQ7u5xEBclNkg50vGQJHSbB4nE6NAajS5GLOip0D9hR4xitGhQEDc1avY3JNA2On2SFlbfUA=\",\"dtype\":\"float64\",\"shape\":[142]},\"lifeExp\":{\"__ndarray__\":\"RIts5/vpRUBQjZduEhtTQCUGgZVDE1JAIbByaJFdRUAUrkfhetRSQNejcD0KT1RAkxgEVg71U0BxPQrXo+hSQIcW2c73A1BATmIQWDncU0B3vp8aL11MQPp+arx0Y1BASgwCK4e2UkB3vp8aL11JQClcj8L1GFJAuB6F61FAUkD2KFyPwiVKQArXo3A9ykhABoGVQ4vcTUDXo3A9CjdJQG8Sg8DKKVRAAyuHFtleRkAX2c73U1NJQAisHFpko1NAL90kBoE9UkA3iUFg5ThSQH0/NV66SVBAQWDl0CI7R0Dvp8ZLN6lLQDVeukkMslNARIts5/spSEAdWmQ73+9SQLbz/dR4kVNAyXa+nxofU0Boke18P5VTQGmR7Xw/ZUtA16NwPQoPUkBWDi2ynb9SQBODwMqh1VFA1XjpJjH4UUAmMQisHMpJQIXrUbgeBU1A76fGSzd5SkB56SYxCNRTQDVeukkMKlRArkfhehReTEDTTWIQWLlNQESLbOf72VNAiUFg5dACTkD0/dR46d5TQH9qvHSTkFFAN4lBYOUATECMbOf7qTFHQGmR7Xw/dU5A6iYxCKyMUUBaZDvfT41UQBODwMqhVVJAnMQgsHJwVEDqJjEIrCxQQJqZmZmZqVFABFYOLbK9UUD2KFyPwsVNQHE9CtejuFNASOF6FK4vVEBt5/up8SJUQD81XrpJJFJAO99PjZemVEAK16NwPSJSQK5H4XoUDktAXrpJDALTUEAdWmQ736dTQBODwMqhZVNAZDvfT43/UUCyne+nxktFQBFYObTI1kZAsHJoke18UkBjEFg5tLhNQBFYObTIJkhAgZVDi2yPUkCyne+nxjtLQNEi2/l+ClBAJQaBlUMzUkAUrkfhegxTQAisHFpks1BAmG4Sg8CiUkDRItv5fspRQNEi2/l+CkVARbbz/dQIT0CIFtnO93NKQBSuR+F65E9AVOOlm8TwU0CTGARWDg1UQKjGSzeJOVJA5dAi2/luTEDKoUW2821HQAaBlUOLDFRAKVyPwvXoUkD0/dR46V5QQO18PzVe4lJA46WbxCDwUUBt5/up8dpRQHnpJjEI7FFAeekmMQjkUkCDwMqhRYZTQDq0yHa+r1NAPzVeukkcU0BYObTIdh5SQOXQItv5HkdAbxKDwMphUEB9PzVeujFSQA4tsp3vh09A46WbxCCAUkBjEFg5tEhFQJHtfD81/lNA30+Nl26qUkAlBoGVQ3tTQDEIrBxaFEhACKwcWmSrSEBOYhBYOTxUQNNNYhBYGVJAu0kMAitHTUBYObTIds5DQH9qvHSTOFRAv58aL91sVED+1HjpJolSQJqZmZmZmVNAGARWDi1CSkCBlUOLbKdRQPYoXI/CNU1AI9v5fmp0UUBQjZduEntSQH0/NV668VFATDeJQWDFSUAzMzMzM9tTQHNoke18j1NAf2q8dJMYU0ArhxbZzm9SQA4tsp3vj1JAXrpJDAJbUkDTTWIQWFlPQP3UeOkmMUVAdJMYBFa+RUA=\",\"dtype\":\"float64\",\"shape\":[142]},\"population\":[31889923,3600523,33333216,12420476,40301927,20434176,8199783,708573,150448339,10392226,8078314,9119152,4552198,1639131,190010647,7322858,14326203,8390505,14131858,17696293,33390141,4369038,10238807,16284741,1318683096,44227550,710960,64606759,3800610,4133884,18013409,4493312,11416987,10228744,5468120,496374,9319622,13755680,80264543,6939688,551201,4906585,76511887,5238460,61083916,1454867,1688359,82400996,22873338,10706290,12572928,9947814,1472041,8502814,7483763,6980412,9956108,301931,1110396331,223547000,69453570,27499638,4109086,6426679,58147733,2780132,127467972,6053193,35610177,23301725,49044790,2505559,3921278,2012649,3193942,6036914,19167654,13327079,24821286,12031795,3270065,1250882,108700891,2874127,684736,33757175,19951656,47761980,2055080,28901790,16570613,4115771,5675356,12894865,135031164,4627926,3204897,169270617,3242173,6667147,28674757,91077287,38518241,10642836,3942491,798094,22276056,8860588,199579,27601038,12267493,10150265,6144562,4553009,5447502,2009245,9118773,43997828,40448191,20378239,42292929,1133066,9031088,7554661,19314747,23174294,38139640,65068149,5701579,1056608,10276158,71158647,29170398,60776238,301139947,3447496,26084662,85262356,4018332,22211743,11746035,12311143],\"year\":[2007,2007,2007,2007,2007,2007,2007,2007,2007,2007,2007,2007,2007,2007,2007,2007,2007,2007,2007,2007,2007,2007,2007,2007,2007,2007,2007,2007,2007,2007,2007,2007,2007,2007,2007,2007,2007,2007,2007,2007,2007,2007,2007,2007,2007,2007,2007,2007,2007,2007,2007,2007,2007,2007,2007,2007,2007,2007,2007,2007,2007,2007,2007,2007,2007,2007,2007,2007,2007,2007,2007,2007,2007,2007,2007,2007,2007,2007,2007,2007,2007,2007,2007,2007,2007,2007,2007,2007,2007,2007,2007,2007,2007,2007,2007,2007,2007,2007,2007,2007,2007,2007,2007,2007,2007,2007,2007,2007,2007,2007,2007,2007,2007,2007,2007,2007,2007,2007,2007,2007,2007,2007,2007,2007,2007,2007,2007,2007,2007,2007,2007,2007,2007,2007,2007,2007,2007,2007,2007,2007,2007,2007]},\"selected\":{\"id\":\"39443\",\"type\":\"Selection\"},\"selection_policy\":{\"id\":\"39442\",\"type\":\"UnionRenderers\"}},\"id\":\"38876\",\"type\":\"ColumnDataSource\"},{\"attributes\":{\"fill_alpha\":{\"value\":0.6},\"fill_color\":{\"field\":\"continent\",\"transform\":{\"id\":\"40978\",\"type\":\"CategoricalColorMapper\"}},\"line_alpha\":{\"value\":0.6},\"line_color\":{\"field\":\"continent\",\"transform\":{\"id\":\"40978\",\"type\":\"CategoricalColorMapper\"}},\"size\":{\"field\":\"population\",\"transform\":{\"id\":\"40977\",\"type\":\"LinearInterpolator\"},\"units\":\"screen\"},\"x\":{\"field\":\"gdpPercap\"},\"y\":{\"field\":\"lifeExp\"}},\"id\":\"40980\",\"type\":\"Circle\"},{\"attributes\":{\"format\":\"$0,\"},\"id\":\"40991\",\"type\":\"NumeralTickFormatter\"},{\"attributes\":{\"factors\":[\"Asia\",\"Europe\",\"Africa\",\"Americas\",\"Oceania\"],\"palette\":[\"#3288bd\",\"#99d594\",\"#e6f598\",\"#fee08b\",\"#fc8d59\",\"#d53e4f\"]},\"id\":\"40978\",\"type\":\"CategoricalColorMapper\"},{\"attributes\":{\"fill_alpha\":{\"value\":0.1},\"fill_color\":{\"value\":\"#1f77b4\"},\"line_alpha\":{\"value\":0.1},\"line_color\":{\"value\":\"#1f77b4\"},\"size\":{\"field\":\"population\",\"transform\":{\"id\":\"40977\",\"type\":\"LinearInterpolator\"},\"units\":\"screen\"},\"x\":{\"field\":\"gdpPercap\"},\"y\":{\"field\":\"lifeExp\"}},\"id\":\"40981\",\"type\":\"Circle\"},{\"attributes\":{\"data_source\":{\"id\":\"38876\",\"type\":\"ColumnDataSource\"},\"glyph\":{\"id\":\"40980\",\"type\":\"Circle\"},\"hover_glyph\":null,\"muted_glyph\":null,\"nonselection_glyph\":{\"id\":\"40981\",\"type\":\"Circle\"},\"selection_glyph\":null,\"view\":{\"id\":\"40983\",\"type\":\"CDSView\"}},\"id\":\"40982\",\"type\":\"GlyphRenderer\"}],\"root_ids\":[\"40954\"]},\"title\":\"Bokeh Application\",\"version\":\"1.3.4\"}};\n",
       "  var render_items = [{\"docid\":\"eb4df151-4631-42e0-8e02-e0e2def24730\",\"roots\":{\"40954\":\"776aa3b4-7595-4039-bede-85b18f53765f\"}}];\n",
       "  root.Bokeh.embed.embed_items_notebook(docs_json, render_items);\n",
       "\n",
       "  }\n",
       "  if (root.Bokeh !== undefined) {\n",
       "    embed_document(root);\n",
       "  } else {\n",
       "    var attempts = 0;\n",
       "    var timer = setInterval(function(root) {\n",
       "      if (root.Bokeh !== undefined) {\n",
       "        embed_document(root);\n",
       "        clearInterval(timer);\n",
       "      }\n",
       "      attempts++;\n",
       "      if (attempts > 100) {\n",
       "        console.log(\"Bokeh: ERROR: Unable to run BokehJS code because BokehJS library is missing\");\n",
       "        clearInterval(timer);\n",
       "      }\n",
       "    }, 10, root)\n",
       "  }\n",
       "})(window);"
      ],
      "application/vnd.bokehjs_exec.v0+json": ""
     },
     "metadata": {
      "application/vnd.bokehjs_exec.v0+json": {
       "id": "40954"
      }
     },
     "output_type": "display_data"
    }
   ],
   "source": [
    "from bokeh.io import show\n",
    "from bokeh.models import LinearInterpolator\n",
    "from bokeh.plotting import figure\n",
    "from bokeh.models import CategoricalColorMapper\n",
    "from bokeh.palettes import Spectral6\n",
    "from bokeh.models import HoverTool\n",
    "\n",
    "\n",
    "hover = HoverTool(tooltips='@country')\n",
    "\n",
    "p = figure(\n",
    "    height = 400, \n",
    "    width = 600,\n",
    "    x_axis_type = 'log',\n",
    "    tools = [hover],\n",
    "    x_range = (100,100000), y_range = (0,100),\n",
    "    title = \"Life Expectancy vs GDP of Nations\")\n",
    "\n",
    "\n",
    "size_mapper = LinearInterpolator(\n",
    "    x = [data.population.min(), data.population.max()],\n",
    "    y = [10,100]\n",
    ")\n",
    "\n",
    "# Mapping color to region\n",
    "color_mapper = CategoricalColorMapper(\n",
    "    factors=list(data.continent.unique()),\n",
    "    palette=Spectral6\n",
    ")\n",
    "\n",
    "\n",
    "p.circle(x='gdpPercap', y='lifeExp',alpha=0.6,source=source,\n",
    "         size={'field':'population', 'transform':size_mapper},\n",
    "         color={'field':'continent', 'transform':color_mapper},\n",
    "         legend='continent'\n",
    "        )\n",
    "\n",
    "p.xaxis.axis_label = \"GDP per Capita\"\n",
    "p.yaxis.axis_label = \"Life Expectancy\"\n",
    "\n",
    "\n",
    "from bokeh.models import NumeralTickFormatter\n",
    "p.xaxis[0].formatter = NumeralTickFormatter(format='$0,')\n",
    "\n",
    "# formating the legend\n",
    "p.legend.location = (30, -5)\n",
    "p.right.append(p.legend[0])\n",
    "p.legend.border_line_color = None\n",
    "\n",
    "\n",
    "show(p)"
   ]
  },
  {
   "cell_type": "code",
   "execution_count": 184,
   "metadata": {
    "scrolled": false
   },
   "outputs": [
    {
     "data": {
      "text/html": [
       "\n",
       "\n",
       "\n",
       "\n",
       "\n",
       "\n",
       "  <div class=\"bk-root\" id=\"9472b453-e7c7-45f4-8f88-2368a9300724\" data-root-id=\"43863\"></div>\n"
      ]
     },
     "metadata": {},
     "output_type": "display_data"
    },
    {
     "data": {
      "application/javascript": [
       "(function(root) {\n",
       "  function embed_document(root) {\n",
       "    \n",
       "  var docs_json = {\"0de56400-fba9-4da5-ae43-2bfbe2f4edd5\":{\"roots\":{\"references\":[{\"attributes\":{\"below\":[{\"id\":\"43874\",\"type\":\"LogAxis\"}],\"center\":[{\"id\":\"43878\",\"type\":\"Grid\"},{\"id\":\"43883\",\"type\":\"Grid\"},{\"id\":\"43898\",\"type\":\"Legend\"}],\"left\":[{\"id\":\"43879\",\"type\":\"LinearAxis\"}],\"plot_height\":400,\"renderers\":[{\"id\":\"43891\",\"type\":\"GlyphRenderer\"}],\"right\":[{\"id\":\"43898\",\"type\":\"Legend\"}],\"title\":{\"id\":\"43864\",\"type\":\"Title\"},\"toolbar\":{\"id\":\"43884\",\"type\":\"Toolbar\"},\"x_range\":{\"id\":\"43866\",\"type\":\"Range1d\"},\"x_scale\":{\"id\":\"43870\",\"type\":\"LogScale\"},\"y_range\":{\"id\":\"43868\",\"type\":\"Range1d\"},\"y_scale\":{\"id\":\"43872\",\"type\":\"LinearScale\"}},\"id\":\"43863\",\"subtype\":\"Figure\",\"type\":\"Plot\"},{\"attributes\":{\"fill_alpha\":{\"value\":0.1},\"fill_color\":{\"value\":\"#1f77b4\"},\"line_alpha\":{\"value\":0.1},\"line_color\":{\"value\":\"#1f77b4\"},\"size\":{\"field\":\"population\",\"transform\":{\"id\":\"43886\",\"type\":\"LinearInterpolator\"},\"units\":\"screen\"},\"x\":{\"field\":\"gdpPercap\"},\"y\":{\"field\":\"lifeExp\"}},\"id\":\"43890\",\"type\":\"Circle\"},{\"attributes\":{\"factors\":[\"Asia\",\"Europe\",\"Africa\",\"Americas\",\"Oceania\"],\"palette\":[\"#3288bd\",\"#99d594\",\"#e6f598\",\"#fee08b\",\"#fc8d59\",\"#d53e4f\"]},\"id\":\"43887\",\"type\":\"CategoricalColorMapper\"},{\"attributes\":{},\"id\":\"39443\",\"type\":\"Selection\"},{\"attributes\":{},\"id\":\"39442\",\"type\":\"UnionRenderers\"},{\"attributes\":{\"border_line_color\":{\"value\":null},\"items\":[{\"id\":\"43899\",\"type\":\"LegendItem\"}],\"location\":[30,-5]},\"id\":\"43898\",\"type\":\"Legend\"},{\"attributes\":{\"num_minor_ticks\":10},\"id\":\"43875\",\"type\":\"LogTicker\"},{\"attributes\":{\"axis_label\":\"GDP per Capita\",\"formatter\":{\"id\":\"43900\",\"type\":\"NumeralTickFormatter\"},\"ticker\":{\"id\":\"43875\",\"type\":\"LogTicker\"}},\"id\":\"43874\",\"type\":\"LogAxis\"},{\"attributes\":{\"axis_label\":\"Life Expectancy\",\"formatter\":{\"id\":\"43897\",\"type\":\"BasicTickFormatter\"},\"ticker\":{\"id\":\"43880\",\"type\":\"BasicTicker\"}},\"id\":\"43879\",\"type\":\"LinearAxis\"},{\"attributes\":{},\"id\":\"43870\",\"type\":\"LogScale\"},{\"attributes\":{\"callback\":null,\"end\":100},\"id\":\"43868\",\"type\":\"Range1d\"},{\"attributes\":{\"format\":\"$0,\"},\"id\":\"43900\",\"type\":\"NumeralTickFormatter\"},{\"attributes\":{\"callback\":null,\"end\":100000,\"start\":100},\"id\":\"43866\",\"type\":\"Range1d\"},{\"attributes\":{\"label\":{\"field\":\"continent\"},\"renderers\":[{\"id\":\"43891\",\"type\":\"GlyphRenderer\"}]},\"id\":\"43899\",\"type\":\"LegendItem\"},{\"attributes\":{\"active_drag\":\"auto\",\"active_inspect\":\"auto\",\"active_multi\":null,\"active_scroll\":\"auto\",\"active_tap\":\"auto\",\"tools\":[{\"id\":\"43862\",\"type\":\"HoverTool\"}]},\"id\":\"43884\",\"type\":\"Toolbar\"},{\"attributes\":{\"dimension\":1,\"ticker\":{\"id\":\"43880\",\"type\":\"BasicTicker\"}},\"id\":\"43883\",\"type\":\"Grid\"},{\"attributes\":{\"text\":\"Life Expectancy vs GDP of Nations\"},\"id\":\"43864\",\"type\":\"Title\"},{\"attributes\":{\"source\":{\"id\":\"38876\",\"type\":\"ColumnDataSource\"}},\"id\":\"43892\",\"type\":\"CDSView\"},{\"attributes\":{\"ticker\":{\"id\":\"43875\",\"type\":\"LogTicker\"}},\"id\":\"43878\",\"type\":\"Grid\"},{\"attributes\":{},\"id\":\"43880\",\"type\":\"BasicTicker\"},{\"attributes\":{\"callback\":null,\"tooltips\":\"@country\"},\"id\":\"43862\",\"type\":\"HoverTool\"},{\"attributes\":{\"callback\":null,\"data\":{\"continent\":[\"Asia\",\"Europe\",\"Africa\",\"Africa\",\"Americas\",\"Oceania\",\"Europe\",\"Asia\",\"Asia\",\"Europe\",\"Africa\",\"Americas\",\"Europe\",\"Africa\",\"Americas\",\"Europe\",\"Africa\",\"Africa\",\"Asia\",\"Africa\",\"Americas\",\"Africa\",\"Africa\",\"Americas\",\"Asia\",\"Americas\",\"Africa\",\"Africa\",\"Africa\",\"Americas\",\"Africa\",\"Europe\",\"Americas\",\"Europe\",\"Europe\",\"Africa\",\"Americas\",\"Americas\",\"Africa\",\"Americas\",\"Africa\",\"Africa\",\"Africa\",\"Europe\",\"Europe\",\"Africa\",\"Africa\",\"Europe\",\"Africa\",\"Europe\",\"Americas\",\"Africa\",\"Africa\",\"Americas\",\"Americas\",\"Asia\",\"Europe\",\"Europe\",\"Asia\",\"Asia\",\"Asia\",\"Asia\",\"Europe\",\"Asia\",\"Europe\",\"Americas\",\"Asia\",\"Asia\",\"Africa\",\"Asia\",\"Asia\",\"Asia\",\"Asia\",\"Africa\",\"Africa\",\"Africa\",\"Africa\",\"Africa\",\"Asia\",\"Africa\",\"Africa\",\"Africa\",\"Americas\",\"Asia\",\"Europe\",\"Africa\",\"Africa\",\"Asia\",\"Africa\",\"Asia\",\"Europe\",\"Oceania\",\"Americas\",\"Africa\",\"Africa\",\"Europe\",\"Asia\",\"Asia\",\"Americas\",\"Americas\",\"Americas\",\"Asia\",\"Europe\",\"Europe\",\"Americas\",\"Africa\",\"Europe\",\"Africa\",\"Africa\",\"Asia\",\"Africa\",\"Europe\",\"Africa\",\"Asia\",\"Europe\",\"Europe\",\"Africa\",\"Africa\",\"Europe\",\"Asia\",\"Africa\",\"Africa\",\"Europe\",\"Europe\",\"Asia\",\"Asia\",\"Africa\",\"Asia\",\"Africa\",\"Americas\",\"Africa\",\"Europe\",\"Africa\",\"Europe\",\"Americas\",\"Americas\",\"Americas\",\"Asia\",\"Asia\",\"Asia\",\"Africa\",\"Africa\"],\"country\":[\"Afghanistan\",\"Albania\",\"Algeria\",\"Angola\",\"Argentina\",\"Australia\",\"Austria\",\"Bahrain\",\"Bangladesh\",\"Belgium\",\"Benin\",\"Bolivia\",\"Bosnia and Herzegovina\",\"Botswana\",\"Brazil\",\"Bulgaria\",\"Burkina Faso\",\"Burundi\",\"Cambodia\",\"Cameroon\",\"Canada\",\"Central African Republic\",\"Chad\",\"Chile\",\"China\",\"Colombia\",\"Comoros\",\"Congo, Dem. Rep.\",\"Congo, Rep.\",\"Costa Rica\",\"Cote d'Ivoire\",\"Croatia\",\"Cuba\",\"Czech Republic\",\"Denmark\",\"Djibouti\",\"Dominican Republic\",\"Ecuador\",\"Egypt\",\"El Salvador\",\"Equatorial Guinea\",\"Eritrea\",\"Ethiopia\",\"Finland\",\"France\",\"Gabon\",\"Gambia\",\"Germany\",\"Ghana\",\"Greece\",\"Guatemala\",\"Guinea\",\"Guinea-Bissau\",\"Haiti\",\"Honduras\",\"Hong Kong, China\",\"Hungary\",\"Iceland\",\"India\",\"Indonesia\",\"Iran\",\"Iraq\",\"Ireland\",\"Israel\",\"Italy\",\"Jamaica\",\"Japan\",\"Jordan\",\"Kenya\",\"Korea, Dem. Rep.\",\"Korea, Rep.\",\"Kuwait\",\"Lebanon\",\"Lesotho\",\"Liberia\",\"Libya\",\"Madagascar\",\"Malawi\",\"Malaysia\",\"Mali\",\"Mauritania\",\"Mauritius\",\"Mexico\",\"Mongolia\",\"Montenegro\",\"Morocco\",\"Mozambique\",\"Myanmar\",\"Namibia\",\"Nepal\",\"Netherlands\",\"New Zealand\",\"Nicaragua\",\"Niger\",\"Nigeria\",\"Norway\",\"Oman\",\"Pakistan\",\"Panama\",\"Paraguay\",\"Peru\",\"Philippines\",\"Poland\",\"Portugal\",\"Puerto Rico\",\"Reunion\",\"Romania\",\"Rwanda\",\"Sao Tome and Principe\",\"Saudi Arabia\",\"Senegal\",\"Serbia\",\"Sierra Leone\",\"Singapore\",\"Slovak Republic\",\"Slovenia\",\"Somalia\",\"South Africa\",\"Spain\",\"Sri Lanka\",\"Sudan\",\"Swaziland\",\"Sweden\",\"Switzerland\",\"Syria\",\"Taiwan\",\"Tanzania\",\"Thailand\",\"Togo\",\"Trinidad and Tobago\",\"Tunisia\",\"Turkey\",\"Uganda\",\"United Kingdom\",\"United States\",\"Uruguay\",\"Venezuela\",\"Vietnam\",\"West Bank and Gaza\",\"Yemen, Rep.\",\"Zambia\",\"Zimbabwe\"],\"gdpPercap\":{\"__ndarray__\":\"xnsfWN+1hkBaYmU0NvyxQFmJeVYKqLRAf/eOGpOqpUADXfsC0i7BQNQOf03w991ABplk5Gao30DoZRTL49rWQIPF4cyPwZFA9ihcj3jF3UCUFFgAg3OVQPm9TX+GqqpAyVpDqfmCt0C77UJzzX3FQDD84Hw2w79ASFD8GMcQvkDFVtC0lDaQQGLIoMl05ntAKQ8c4c4BjEBJYkm5CzieQAt72uEeRuBAKaPbXIYVh0DNAYI5uhCSQHxhMlVkDcVAKLuZ0Y9eqEA0oN6MQnu2QDtzDwk/z5BAmtU73E4lbkCrJoi6HzirQPAbX3tyK75AisvxCjTDmUDkFB3JMbbGQOFfBI2lxLhAPZY+dA0v0UCDqPsAoGnfQG0GuCAL0Z1AIjgu487TsUBHcCNlC422QD874LqakrJAWFAYlJHntEAWak3zfhe+QGggls3M6odAWP4hom2QgEAAHebLJYvbQJbK2xGCP9xA+wW7Ydt0yEBhQOVOr6SEQAPso1PzVN1AcRk3NfBfkUDBqKROkPzVQIasbvVY+rJA1U/uLauMjUBTJ/tCo/2BQA71u7B12ZNAz2vsEnU3qEAOpmH4QIDdQLkZbsD3/cxAx6Lp7Mxu3kAb17/rE0ubQABXsmPTc6ZAr5RliGEMwkAHXcKhtyaxQFhWmpSho+BAIxXGFmZk1UDc0mpIBlDbQPJdSl3GUrtAoImw4SXv20AstHOa1QmuQNLI5xUPHpRAuFm8WAi7mUCkU1c+f8jSQJAUkWHDJOFAQNmUK/gwwkCjkjoBveyTQB+Zs+Pbm4BAjxg9t1afwkDpbo2+GPWLQKMqAYxiy4RAuk4jLX3vw0DQo/MrR7uNQHaHFAMUrJhAgO82b+iewUB0e0ljOPvEQF1Ui4h6uaBANBR3vDGduUDXoC+9/XSpQGWt/I3xzINAAAAAAAAYg0CvWMNFptCvQDjXMEPThJBAste7P5h34ECqglFJc6XWQNnQzf4YVaNAGswVlJjIgkDzGrtEJT2ZQO58PzV/0eVAQDBHj7VP00CpFhHFbFmgQKKd0ywIvLxAHeVgNlmPrUCIDoEjBRW3QMmSOZbXtaRAkGYsmh5xx0DBxYoauoDTQOAyp8vmadJATRWMSiqsuEDptkQuXM2+QDQaCuk6jYhA6fF7m14klUBQcLGiopHSQJEpH4KKvpdA/kemQxNEvEBoO6bu6tuFQCDSb1/jluFAF8+goWOjykC2uTE9AS3UQM0YMJKnkItAf2snSvIevkC1bK0v3kDYQEojZvbBjqdAKA6g35cln0B/+PnvHSCwQAU5KGFop9xAInGPpR7W4ED0HfzE2fWvQK7wLhfbsNZAADz9+5cYjEANiuYBMBm3QCKunL3DsYtACi5W1ExixkB/ZaVJ5Vq2QK5mnfEVbLlA23qXnMT9jEAfnbryv8ncQEp7gy8jF+NAd4pVgwAvvkBeglMfhs7AQFevIqPTkZtAWRe30XyjsUBZwW9DpHWhQBe/Kax0vpBAEgtrGU8AhUA=\",\"dtype\":\"float64\",\"shape\":[142]},\"lifeExp\":{\"__ndarray__\":\"jZduEoMQRUCMbOf7qelSQFYOLbKdv1FAqvHSTWKARED2KFyPwpVSQEjhehSuF1RAH4XrUbi+U0B7FK5H4bJSQIxs5/upAU9AFK5H4XqUU0CIFtnO9zNLQBsv3SQG8U9A9ihcj8KFUkD91HjpJlFHQKrx0k1iwFFAKVyPwvUIUkAzMzMzM1NJQK5H4XoUrkdAxks3iUFgTEAhsHJoke1IQOF6FK5H8VNAgZVDi2ynRUAzMzMzM0NJQNejcD0Kd1NAbxKDwMoBUkDP91PjpetRQOkmMQisfE9Az/dT46V7RkBcj8L1KHxKQB1aZDvfh1NA0SLb+X5qR0Dy0k1iELhSQCcxCKwcSlNAcT0K16PgUkDsUbgehUtTQDq0yHa+r0pAke18PzW2UUBQjZduEotSQN0kBoGVc1FA5dAi2/muUUAGgZVDi6xIQB+F61G4nktAzczMzMxcSUBI4XoUrpdTQPYoXI/C5VNAxSCwcmhhTEBpke18PwVNQHsUrkfhqlNARIts5/s5TUCq8dJNYpBTQDzfT42XPlFASgwCK4fWSkCNl24Sg8BGQKjGSzeJEU1AXI/C9SgkUUBI4XoUrl9UQPYoXI/CJVJAAAAAAAAgVECNl24Sg3BPQBODwMqhJVFAv58aL91cUUDazvdT44VMQCcxCKwcclNABoGVQ4vsU0CPwvUoXA9UQF66SQwCA1JAAAAAAACAVEBGtvP91NBRQOXQItv5fklA7Xw/NV6qUEB7FK5H4UJTQGDl0CLbOVNAbxKDwMrBUUCWQ4ts50tGQKrx0k1i4EVAukkMAisvUkD4U+Olm6RMQP3UeOkmgUZAiUFg5dBCUkBjEFg5tOhJQFYOLbKdH09AkxgEVg79UUB9PzVeurlSQCcxCKwcQlBAEVg5tMh+UkCPwvUoXGdRQBfZzvdTA0ZATmIQWDn0TUBaZDvfT71JQOxRuB6Fq05AUrgeheuhU0DXo3A9CsdTQC/dJAaBtVFAc2iR7Xw/S0Do+6nx0k1HQDMzMzMzw1NAMQisHFqMUkCuR+F6FM5PQCGwcmiRrVJAuB6F61GwUUBEi2zn+3lRQAisHFpkk1FAexSuR+GqUkDD9Shcj1JTQG8Sg8DKcVNAVg4tsp3vUkD4U+Olm9RRQL+fGi/dtEVAIbByaJEVUEDy0k1iEOhRQM3MzMzMzE5AE4PAyqFNUkCoxks3iYFEQOF6FK5HsVNAMzMzMzNzUkAK16NwPSpTQCyHFtnO90ZAH4XrUbiuSkBSuB6F6/FTQFyPwvUotFFArBxaZDsvTECsHFpkO+9FQMP1KFyPAlRASOF6FK4nVEAIrBxaZENSQI/C9ShcP1NAF9nO91PTSEBqvHSTGCRRQCyHFtnOx0xAWDm0yHY+UUCmm8QgsEJSQK5H4XoUtlFA8tJNYhDoR0CgGi/dJJ5TQKRwPQrXU1NAz/dT46XTUkAbL90kBjFSQAwCK4cWQVJASOF6FK4XUkCBlUOLbCdOQGMQWDm0mENAPN9PjZf+Q0A=\",\"dtype\":\"float64\",\"shape\":[142]},\"population\":[25268405,3508512,31287142,10866106,38331121,19546792,8148312,656397,135656790,10311970,7026113,8445134,4165416,1630347,179914212,7661799,12251209,7021078,12926707,15929988,31902268,4048013,8835739,15497046,1280400000,41008227,614382,55379852,3328795,3834934,16252726,4481020,11226999,10256295,5374693,447416,8650322,12921234,73312559,6353681,495627,4414865,67946797,5193039,59925035,1299304,1457766,82350671,20550751,10603863,11178650,8807818,1332459,7607651,6677328,6762476,10083313,288030,1034172547,211060000,66907826,24001816,3879155,6029529,57926999,2664659,127065841,5307470,31386842,22215365,47969150,2111561,3677780,2046772,2814651,5368585,16473477,11824495,22662365,10580176,2828858,1200206,102479927,2674234,720230,31167783,18473780,45598081,1972153,25873917,16122830,3908037,5146848,11140655,119901274,4535591,2713462,153403524,2990875,5884491,26769436,82995088,38625976,10433867,3859606,743981,22404337,7852401,170372,24501530,10870037,10111559,5359092,4197776,5410052,2011497,7753310,44433622,40152517,19576783,37090298,1130269,8954175,7361757,17155814,22454239,34593779,62806748,4977378,1101832,9770575,67308928,24739869,59912431,287675526,3363085,24287670,80908147,3389578,18701257,10595811,11926563]},\"selected\":{\"id\":\"39443\",\"type\":\"Selection\"},\"selection_policy\":{\"id\":\"39442\",\"type\":\"UnionRenderers\"}},\"id\":\"38876\",\"type\":\"ColumnDataSource\"},{\"attributes\":{},\"id\":\"43897\",\"type\":\"BasicTickFormatter\"},{\"attributes\":{\"data_source\":{\"id\":\"38876\",\"type\":\"ColumnDataSource\"},\"glyph\":{\"id\":\"43889\",\"type\":\"Circle\"},\"hover_glyph\":null,\"muted_glyph\":null,\"nonselection_glyph\":{\"id\":\"43890\",\"type\":\"Circle\"},\"selection_glyph\":null,\"view\":{\"id\":\"43892\",\"type\":\"CDSView\"}},\"id\":\"43891\",\"type\":\"GlyphRenderer\"},{\"attributes\":{\"data\":null,\"x\":[60011,1318683096],\"y\":[10,100]},\"id\":\"43886\",\"type\":\"LinearInterpolator\"},{\"attributes\":{\"fill_alpha\":{\"value\":0.6},\"fill_color\":{\"field\":\"continent\",\"transform\":{\"id\":\"43887\",\"type\":\"CategoricalColorMapper\"}},\"line_alpha\":{\"value\":0.6},\"line_color\":{\"field\":\"continent\",\"transform\":{\"id\":\"43887\",\"type\":\"CategoricalColorMapper\"}},\"size\":{\"field\":\"population\",\"transform\":{\"id\":\"43886\",\"type\":\"LinearInterpolator\"},\"units\":\"screen\"},\"x\":{\"field\":\"gdpPercap\"},\"y\":{\"field\":\"lifeExp\"}},\"id\":\"43889\",\"type\":\"Circle\"},{\"attributes\":{},\"id\":\"43872\",\"type\":\"LinearScale\"}],\"root_ids\":[\"43863\"]},\"title\":\"Bokeh Application\",\"version\":\"1.3.4\"}};\n",
       "  var render_items = [{\"docid\":\"0de56400-fba9-4da5-ae43-2bfbe2f4edd5\",\"notebook_comms_target\":\"44466\",\"roots\":{\"43863\":\"9472b453-e7c7-45f4-8f88-2368a9300724\"}}];\n",
       "  root.Bokeh.embed.embed_items_notebook(docs_json, render_items);\n",
       "\n",
       "  }\n",
       "  if (root.Bokeh !== undefined) {\n",
       "    embed_document(root);\n",
       "  } else {\n",
       "    var attempts = 0;\n",
       "    var timer = setInterval(function(root) {\n",
       "      if (root.Bokeh !== undefined) {\n",
       "        embed_document(root);\n",
       "        clearInterval(timer);\n",
       "      }\n",
       "      attempts++;\n",
       "      if (attempts > 100) {\n",
       "        console.log(\"Bokeh: ERROR: Unable to run BokehJS code because BokehJS library is missing\");\n",
       "        clearInterval(timer);\n",
       "      }\n",
       "    }, 10, root)\n",
       "  }\n",
       "})(window);"
      ],
      "application/vnd.bokehjs_exec.v0+json": ""
     },
     "metadata": {
      "application/vnd.bokehjs_exec.v0+json": {
       "id": "43863"
      }
     },
     "output_type": "display_data"
    },
    {
     "ename": "KeyboardInterrupt",
     "evalue": "",
     "output_type": "error",
     "traceback": [
      "\u001b[0;31m---------------------------------------------------------------------------\u001b[0m",
      "\u001b[0;31mKeyboardInterrupt\u001b[0m                         Traceback (most recent call last)",
      "\u001b[0;32m<ipython-input-184-20811bf10a93>\u001b[0m in \u001b[0;36m<module>\u001b[0;34m\u001b[0m\n\u001b[1;32m     78\u001b[0m     \u001b[0;32melse\u001b[0m\u001b[0;34m:\u001b[0m\u001b[0;34m\u001b[0m\u001b[0;34m\u001b[0m\u001b[0m\n\u001b[1;32m     79\u001b[0m         \u001b[0myear\u001b[0m\u001b[0;34m+=\u001b[0m\u001b[0;36m5\u001b[0m\u001b[0;34m\u001b[0m\u001b[0;34m\u001b[0m\u001b[0m\n\u001b[0;32m---> 80\u001b[0;31m     \u001b[0mtime\u001b[0m\u001b[0;34m.\u001b[0m\u001b[0msleep\u001b[0m\u001b[0;34m(\u001b[0m\u001b[0;36m0.7\u001b[0m\u001b[0;34m)\u001b[0m\u001b[0;34m\u001b[0m\u001b[0;34m\u001b[0m\u001b[0m\n\u001b[0m\u001b[1;32m     81\u001b[0m     \u001b[0;32mcontinue\u001b[0m\u001b[0;34m\u001b[0m\u001b[0;34m\u001b[0m\u001b[0m\n",
      "\u001b[0;31mKeyboardInterrupt\u001b[0m: "
     ]
    }
   ],
   "source": [
    "from bokeh.io import show\n",
    "from bokeh.models import LinearInterpolator\n",
    "from bokeh.plotting import figure\n",
    "from bokeh.models import CategoricalColorMapper\n",
    "from bokeh.palettes import Spectral6\n",
    "from bokeh.models import HoverTool\n",
    "\n",
    "\n",
    "hover = HoverTool(tooltips='@country')\n",
    "\n",
    "p = figure(\n",
    "    height = 400, \n",
    "    width = 600,\n",
    "    x_axis_type = 'log',\n",
    "    tools = [hover],\n",
    "    x_range = (100,100000), y_range = (0,100),\n",
    "    title = \"Life Expectancy vs GDP of Nations\")\n",
    "\n",
    "\n",
    "size_mapper = LinearInterpolator(\n",
    "    x = [data.population.min(), data.population.max()],\n",
    "    y = [10,100]\n",
    ")\n",
    "\n",
    "# Mapping color to continent\n",
    "color_mapper = CategoricalColorMapper(\n",
    "    factors=list(data.continent.unique()),\n",
    "    palette=Spectral6\n",
    ")\n",
    "\n",
    "\n",
    "from bokeh.io import push_notebook\n",
    "def update(year):\n",
    "    new_data = dict(\n",
    "        gdpPercap=data.loc[year].gdpPercap,\n",
    "        lifeExp=data.loc[year].lifeExp,\n",
    "        country=data.loc[year].country,\n",
    "        population=data.loc[year].population,\n",
    "        continent=data.loc[year].continent\n",
    "    )\n",
    "    source.data = new_data\n",
    "    if len(p.title.text) > len(\"Life Expectancy vs GDP of Nations \"):\n",
    "        tmp = str(p.title.text)\n",
    "        p.title.text=tmp[:-4]\n",
    "        p.title.text = p.title.text + str(year)\n",
    "    else:\n",
    "        p.title.text = p.title.text + str(year)\n",
    "    push_notebook()\n",
    "\n",
    "\n",
    "p.circle(x='gdpPercap', y='lifeExp',alpha=0.6,source=source,\n",
    "         size={'field':'population', 'transform':size_mapper},\n",
    "         color={'field':'continent', 'transform':color_mapper},\n",
    "         legend='continent'\n",
    "        )\n",
    "\n",
    "p.xaxis.axis_label = \"GDP per Capita\"\n",
    "p.yaxis.axis_label = \"Life Expectancy\"\n",
    "\n",
    "\n",
    "from bokeh.models import NumeralTickFormatter\n",
    "p.xaxis[0].formatter = NumeralTickFormatter(format='$0,')\n",
    "\n",
    "# formating the legend\n",
    "p.legend.location = (30, -5)\n",
    "p.right.append(p.legend[0])\n",
    "p.legend.border_line_color = None\n",
    "\n",
    "\n",
    "show(p,notebook_handle=True)\n",
    "\n",
    "import time\n",
    "year = 1952\n",
    "while True:\n",
    "    update(year)\n",
    "    if year == 2007:\n",
    "        year=1952\n",
    "    else:\n",
    "        year+=5\n",
    "    time.sleep(0.5)\n",
    "    continue"
   ]
  },
  {
   "cell_type": "code",
   "execution_count": null,
   "metadata": {},
   "outputs": [],
   "source": []
  }
 ],
 "metadata": {
  "kernelspec": {
   "display_name": "Python 3",
   "language": "python",
   "name": "python3"
  },
  "language_info": {
   "codemirror_mode": {
    "name": "ipython",
    "version": 3
   },
   "file_extension": ".py",
   "mimetype": "text/x-python",
   "name": "python",
   "nbconvert_exporter": "python",
   "pygments_lexer": "ipython3",
   "version": "3.7.3"
  }
 },
 "nbformat": 4,
 "nbformat_minor": 1
}
